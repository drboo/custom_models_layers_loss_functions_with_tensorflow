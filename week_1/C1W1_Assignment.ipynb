{
 "cells": [
  {
   "cell_type": "markdown",
   "metadata": {
    "colab_type": "text",
    "id": "ZL_6GK8qX35J"
   },
   "source": [
    "\n",
    "\n",
    "# Week 1: Multiple Output Models using the Keras Functional API\n",
    "\n",
    "Welcome to the first programming assignment of the course! Your task will be to use the Keras functional API to train a model to predict two outputs. For this lab, you will use the **[Wine Quality Dataset](https://archive.ics.uci.edu/ml/datasets/Wine+Quality)** from the **UCI machine learning repository**. It has separate datasets for red wine and white wine.\n",
    "\n",
    "Normally, the wines are classified into one of the quality ratings specified in the attributes. In this exercise, you will combine the two datasets to predict the wine quality and whether the wine is red or white solely from the attributes. \n",
    "\n",
    "You will model wine quality estimations as a regression problem and wine type detection as a binary classification problem.\n",
    "\n",
    "#### Please complete sections that are marked **(TODO)**"
   ]
  },
  {
   "cell_type": "markdown",
   "metadata": {
    "colab_type": "text",
    "id": "obdcD6urYBY9"
   },
   "source": [
    "## Imports"
   ]
  },
  {
   "cell_type": "code",
   "execution_count": 1,
   "metadata": {
    "colab": {},
    "colab_type": "code",
    "id": "t8N3pcTQ5oQI"
   },
   "outputs": [],
   "source": [
    "import tensorflow as tf\n",
    "from tensorflow.keras.models import Model\n",
    "from tensorflow.keras.layers import Dense, Input\n",
    "\n",
    "import numpy as np\n",
    "import matplotlib.pyplot as plt\n",
    "import pandas as pd\n",
    "from sklearn.model_selection import train_test_split\n",
    "from sklearn.metrics import confusion_matrix\n",
    "import itertools\n",
    "\n",
    "import utils"
   ]
  },
  {
   "cell_type": "markdown",
   "metadata": {
    "colab_type": "text",
    "id": "gQMERzWQYpgm"
   },
   "source": [
    "## Load Dataset\n",
    "\n",
    "\n",
    "You will now download the dataset from the [UCI Machine Learning Repository](https://archive.ics.uci.edu/ml/index.php). \n",
    "\n",
    "### Pre-process the white wine dataset (TODO)\n",
    "You will add a new column named `is_red` in your dataframe to indicate if the wine is white or red. \n",
    "- In the white wine dataset, you will fill the column `is_red` with  zeros (0)."
   ]
  },
  {
   "cell_type": "code",
   "execution_count": 2,
   "metadata": {
    "colab": {},
    "colab_type": "code",
    "deletable": false,
    "id": "2qYAjKXCd4RH",
    "nbgrader": {
     "cell_type": "code",
     "checksum": "cb9f284ba6255170fe04a309a407d72d",
     "grade": false,
     "grade_id": "cell-e5bfa0f152d9a21f",
     "locked": false,
     "schema_version": 3,
     "solution": true,
     "task": false
    }
   },
   "outputs": [],
   "source": [
    "## Please uncomment all lines in this cell and replace those marked with `# YOUR CODE HERE`.\n",
    "## You can select all lines in this code cell with Ctrl+A (Windows/Linux) or Cmd+A (Mac), then press Ctrl+/ (Windows/Linux) or Cmd+/ (Mac) to uncomment.\n",
    "\n",
    "# URL of the white wine dataset\n",
    "URL = 'http://archive.ics.uci.edu/ml/machine-learning-databases/wine-quality/winequality-white.csv'\n",
    "\n",
    "# load the dataset from the URL\n",
    "white_df = pd.read_csv(URL, sep=\";\")"
   ]
  },
  {
   "cell_type": "code",
   "execution_count": 3,
   "metadata": {},
   "outputs": [
    {
     "data": {
      "text/html": [
       "<div>\n",
       "<style scoped>\n",
       "    .dataframe tbody tr th:only-of-type {\n",
       "        vertical-align: middle;\n",
       "    }\n",
       "\n",
       "    .dataframe tbody tr th {\n",
       "        vertical-align: top;\n",
       "    }\n",
       "\n",
       "    .dataframe thead th {\n",
       "        text-align: right;\n",
       "    }\n",
       "</style>\n",
       "<table border=\"1\" class=\"dataframe\">\n",
       "  <thead>\n",
       "    <tr style=\"text-align: right;\">\n",
       "      <th></th>\n",
       "      <th>fixed acidity</th>\n",
       "      <th>volatile acidity</th>\n",
       "      <th>citric acid</th>\n",
       "      <th>residual sugar</th>\n",
       "      <th>chlorides</th>\n",
       "      <th>free sulfur dioxide</th>\n",
       "      <th>total sulfur dioxide</th>\n",
       "      <th>density</th>\n",
       "      <th>pH</th>\n",
       "      <th>sulphates</th>\n",
       "      <th>alcohol</th>\n",
       "      <th>quality</th>\n",
       "    </tr>\n",
       "  </thead>\n",
       "  <tbody>\n",
       "    <tr>\n",
       "      <th>0</th>\n",
       "      <td>7.0</td>\n",
       "      <td>0.27</td>\n",
       "      <td>0.36</td>\n",
       "      <td>20.7</td>\n",
       "      <td>0.045</td>\n",
       "      <td>45.0</td>\n",
       "      <td>170.0</td>\n",
       "      <td>1.0010</td>\n",
       "      <td>3.00</td>\n",
       "      <td>0.45</td>\n",
       "      <td>8.8</td>\n",
       "      <td>6</td>\n",
       "    </tr>\n",
       "    <tr>\n",
       "      <th>1</th>\n",
       "      <td>6.3</td>\n",
       "      <td>0.30</td>\n",
       "      <td>0.34</td>\n",
       "      <td>1.6</td>\n",
       "      <td>0.049</td>\n",
       "      <td>14.0</td>\n",
       "      <td>132.0</td>\n",
       "      <td>0.9940</td>\n",
       "      <td>3.30</td>\n",
       "      <td>0.49</td>\n",
       "      <td>9.5</td>\n",
       "      <td>6</td>\n",
       "    </tr>\n",
       "    <tr>\n",
       "      <th>2</th>\n",
       "      <td>8.1</td>\n",
       "      <td>0.28</td>\n",
       "      <td>0.40</td>\n",
       "      <td>6.9</td>\n",
       "      <td>0.050</td>\n",
       "      <td>30.0</td>\n",
       "      <td>97.0</td>\n",
       "      <td>0.9951</td>\n",
       "      <td>3.26</td>\n",
       "      <td>0.44</td>\n",
       "      <td>10.1</td>\n",
       "      <td>6</td>\n",
       "    </tr>\n",
       "    <tr>\n",
       "      <th>3</th>\n",
       "      <td>7.2</td>\n",
       "      <td>0.23</td>\n",
       "      <td>0.32</td>\n",
       "      <td>8.5</td>\n",
       "      <td>0.058</td>\n",
       "      <td>47.0</td>\n",
       "      <td>186.0</td>\n",
       "      <td>0.9956</td>\n",
       "      <td>3.19</td>\n",
       "      <td>0.40</td>\n",
       "      <td>9.9</td>\n",
       "      <td>6</td>\n",
       "    </tr>\n",
       "    <tr>\n",
       "      <th>4</th>\n",
       "      <td>7.2</td>\n",
       "      <td>0.23</td>\n",
       "      <td>0.32</td>\n",
       "      <td>8.5</td>\n",
       "      <td>0.058</td>\n",
       "      <td>47.0</td>\n",
       "      <td>186.0</td>\n",
       "      <td>0.9956</td>\n",
       "      <td>3.19</td>\n",
       "      <td>0.40</td>\n",
       "      <td>9.9</td>\n",
       "      <td>6</td>\n",
       "    </tr>\n",
       "  </tbody>\n",
       "</table>\n",
       "</div>"
      ],
      "text/plain": [
       "   fixed acidity  volatile acidity  citric acid  residual sugar  chlorides  \\\n",
       "0            7.0              0.27         0.36            20.7      0.045   \n",
       "1            6.3              0.30         0.34             1.6      0.049   \n",
       "2            8.1              0.28         0.40             6.9      0.050   \n",
       "3            7.2              0.23         0.32             8.5      0.058   \n",
       "4            7.2              0.23         0.32             8.5      0.058   \n",
       "\n",
       "   free sulfur dioxide  total sulfur dioxide  density    pH  sulphates  \\\n",
       "0                 45.0                 170.0   1.0010  3.00       0.45   \n",
       "1                 14.0                 132.0   0.9940  3.30       0.49   \n",
       "2                 30.0                  97.0   0.9951  3.26       0.44   \n",
       "3                 47.0                 186.0   0.9956  3.19       0.40   \n",
       "4                 47.0                 186.0   0.9956  3.19       0.40   \n",
       "\n",
       "   alcohol  quality  \n",
       "0      8.8        6  \n",
       "1      9.5        6  \n",
       "2     10.1        6  \n",
       "3      9.9        6  \n",
       "4      9.9        6  "
      ]
     },
     "execution_count": 3,
     "metadata": {},
     "output_type": "execute_result"
    }
   ],
   "source": [
    "white_df.head()"
   ]
  },
  {
   "cell_type": "code",
   "execution_count": 4,
   "metadata": {},
   "outputs": [
    {
     "name": "stdout",
     "output_type": "stream",
     "text": [
      "<class 'pandas.core.frame.DataFrame'>\n",
      "RangeIndex: 4898 entries, 0 to 4897\n",
      "Data columns (total 12 columns):\n",
      " #   Column                Non-Null Count  Dtype  \n",
      "---  ------                --------------  -----  \n",
      " 0   fixed acidity         4898 non-null   float64\n",
      " 1   volatile acidity      4898 non-null   float64\n",
      " 2   citric acid           4898 non-null   float64\n",
      " 3   residual sugar        4898 non-null   float64\n",
      " 4   chlorides             4898 non-null   float64\n",
      " 5   free sulfur dioxide   4898 non-null   float64\n",
      " 6   total sulfur dioxide  4898 non-null   float64\n",
      " 7   density               4898 non-null   float64\n",
      " 8   pH                    4898 non-null   float64\n",
      " 9   sulphates             4898 non-null   float64\n",
      " 10  alcohol               4898 non-null   float64\n",
      " 11  quality               4898 non-null   int64  \n",
      "dtypes: float64(11), int64(1)\n",
      "memory usage: 459.3 KB\n"
     ]
    }
   ],
   "source": [
    "white_df.info()"
   ]
  },
  {
   "cell_type": "code",
   "execution_count": 5,
   "metadata": {},
   "outputs": [
    {
     "data": {
      "text/html": [
       "<div>\n",
       "<style scoped>\n",
       "    .dataframe tbody tr th:only-of-type {\n",
       "        vertical-align: middle;\n",
       "    }\n",
       "\n",
       "    .dataframe tbody tr th {\n",
       "        vertical-align: top;\n",
       "    }\n",
       "\n",
       "    .dataframe thead th {\n",
       "        text-align: right;\n",
       "    }\n",
       "</style>\n",
       "<table border=\"1\" class=\"dataframe\">\n",
       "  <thead>\n",
       "    <tr style=\"text-align: right;\">\n",
       "      <th></th>\n",
       "      <th>fixed acidity</th>\n",
       "      <th>volatile acidity</th>\n",
       "      <th>citric acid</th>\n",
       "      <th>residual sugar</th>\n",
       "      <th>chlorides</th>\n",
       "      <th>free sulfur dioxide</th>\n",
       "      <th>total sulfur dioxide</th>\n",
       "      <th>density</th>\n",
       "      <th>pH</th>\n",
       "      <th>sulphates</th>\n",
       "      <th>alcohol</th>\n",
       "      <th>quality</th>\n",
       "    </tr>\n",
       "  </thead>\n",
       "  <tbody>\n",
       "    <tr>\n",
       "      <th>count</th>\n",
       "      <td>4898.000000</td>\n",
       "      <td>4898.000000</td>\n",
       "      <td>4898.000000</td>\n",
       "      <td>4898.000000</td>\n",
       "      <td>4898.000000</td>\n",
       "      <td>4898.000000</td>\n",
       "      <td>4898.000000</td>\n",
       "      <td>4898.000000</td>\n",
       "      <td>4898.000000</td>\n",
       "      <td>4898.000000</td>\n",
       "      <td>4898.000000</td>\n",
       "      <td>4898.000000</td>\n",
       "    </tr>\n",
       "    <tr>\n",
       "      <th>mean</th>\n",
       "      <td>6.854788</td>\n",
       "      <td>0.278241</td>\n",
       "      <td>0.334192</td>\n",
       "      <td>6.391415</td>\n",
       "      <td>0.045772</td>\n",
       "      <td>35.308085</td>\n",
       "      <td>138.360657</td>\n",
       "      <td>0.994027</td>\n",
       "      <td>3.188267</td>\n",
       "      <td>0.489847</td>\n",
       "      <td>10.514267</td>\n",
       "      <td>5.877909</td>\n",
       "    </tr>\n",
       "    <tr>\n",
       "      <th>std</th>\n",
       "      <td>0.843868</td>\n",
       "      <td>0.100795</td>\n",
       "      <td>0.121020</td>\n",
       "      <td>5.072058</td>\n",
       "      <td>0.021848</td>\n",
       "      <td>17.007137</td>\n",
       "      <td>42.498065</td>\n",
       "      <td>0.002991</td>\n",
       "      <td>0.151001</td>\n",
       "      <td>0.114126</td>\n",
       "      <td>1.230621</td>\n",
       "      <td>0.885639</td>\n",
       "    </tr>\n",
       "    <tr>\n",
       "      <th>min</th>\n",
       "      <td>3.800000</td>\n",
       "      <td>0.080000</td>\n",
       "      <td>0.000000</td>\n",
       "      <td>0.600000</td>\n",
       "      <td>0.009000</td>\n",
       "      <td>2.000000</td>\n",
       "      <td>9.000000</td>\n",
       "      <td>0.987110</td>\n",
       "      <td>2.720000</td>\n",
       "      <td>0.220000</td>\n",
       "      <td>8.000000</td>\n",
       "      <td>3.000000</td>\n",
       "    </tr>\n",
       "    <tr>\n",
       "      <th>25%</th>\n",
       "      <td>6.300000</td>\n",
       "      <td>0.210000</td>\n",
       "      <td>0.270000</td>\n",
       "      <td>1.700000</td>\n",
       "      <td>0.036000</td>\n",
       "      <td>23.000000</td>\n",
       "      <td>108.000000</td>\n",
       "      <td>0.991723</td>\n",
       "      <td>3.090000</td>\n",
       "      <td>0.410000</td>\n",
       "      <td>9.500000</td>\n",
       "      <td>5.000000</td>\n",
       "    </tr>\n",
       "    <tr>\n",
       "      <th>50%</th>\n",
       "      <td>6.800000</td>\n",
       "      <td>0.260000</td>\n",
       "      <td>0.320000</td>\n",
       "      <td>5.200000</td>\n",
       "      <td>0.043000</td>\n",
       "      <td>34.000000</td>\n",
       "      <td>134.000000</td>\n",
       "      <td>0.993740</td>\n",
       "      <td>3.180000</td>\n",
       "      <td>0.470000</td>\n",
       "      <td>10.400000</td>\n",
       "      <td>6.000000</td>\n",
       "    </tr>\n",
       "    <tr>\n",
       "      <th>75%</th>\n",
       "      <td>7.300000</td>\n",
       "      <td>0.320000</td>\n",
       "      <td>0.390000</td>\n",
       "      <td>9.900000</td>\n",
       "      <td>0.050000</td>\n",
       "      <td>46.000000</td>\n",
       "      <td>167.000000</td>\n",
       "      <td>0.996100</td>\n",
       "      <td>3.280000</td>\n",
       "      <td>0.550000</td>\n",
       "      <td>11.400000</td>\n",
       "      <td>6.000000</td>\n",
       "    </tr>\n",
       "    <tr>\n",
       "      <th>max</th>\n",
       "      <td>14.200000</td>\n",
       "      <td>1.100000</td>\n",
       "      <td>1.660000</td>\n",
       "      <td>65.800000</td>\n",
       "      <td>0.346000</td>\n",
       "      <td>289.000000</td>\n",
       "      <td>440.000000</td>\n",
       "      <td>1.038980</td>\n",
       "      <td>3.820000</td>\n",
       "      <td>1.080000</td>\n",
       "      <td>14.200000</td>\n",
       "      <td>9.000000</td>\n",
       "    </tr>\n",
       "  </tbody>\n",
       "</table>\n",
       "</div>"
      ],
      "text/plain": [
       "       fixed acidity  volatile acidity  citric acid  residual sugar  \\\n",
       "count    4898.000000       4898.000000  4898.000000     4898.000000   \n",
       "mean        6.854788          0.278241     0.334192        6.391415   \n",
       "std         0.843868          0.100795     0.121020        5.072058   \n",
       "min         3.800000          0.080000     0.000000        0.600000   \n",
       "25%         6.300000          0.210000     0.270000        1.700000   \n",
       "50%         6.800000          0.260000     0.320000        5.200000   \n",
       "75%         7.300000          0.320000     0.390000        9.900000   \n",
       "max        14.200000          1.100000     1.660000       65.800000   \n",
       "\n",
       "         chlorides  free sulfur dioxide  total sulfur dioxide      density  \\\n",
       "count  4898.000000          4898.000000           4898.000000  4898.000000   \n",
       "mean      0.045772            35.308085            138.360657     0.994027   \n",
       "std       0.021848            17.007137             42.498065     0.002991   \n",
       "min       0.009000             2.000000              9.000000     0.987110   \n",
       "25%       0.036000            23.000000            108.000000     0.991723   \n",
       "50%       0.043000            34.000000            134.000000     0.993740   \n",
       "75%       0.050000            46.000000            167.000000     0.996100   \n",
       "max       0.346000           289.000000            440.000000     1.038980   \n",
       "\n",
       "                pH    sulphates      alcohol      quality  \n",
       "count  4898.000000  4898.000000  4898.000000  4898.000000  \n",
       "mean      3.188267     0.489847    10.514267     5.877909  \n",
       "std       0.151001     0.114126     1.230621     0.885639  \n",
       "min       2.720000     0.220000     8.000000     3.000000  \n",
       "25%       3.090000     0.410000     9.500000     5.000000  \n",
       "50%       3.180000     0.470000    10.400000     6.000000  \n",
       "75%       3.280000     0.550000    11.400000     6.000000  \n",
       "max       3.820000     1.080000    14.200000     9.000000  "
      ]
     },
     "execution_count": 5,
     "metadata": {},
     "output_type": "execute_result"
    }
   ],
   "source": [
    "white_df.describe()"
   ]
  },
  {
   "cell_type": "code",
   "execution_count": 6,
   "metadata": {},
   "outputs": [],
   "source": [
    "# fill the `is_red` column with zeros.\n",
    "white_df[\"is_red\"] = 0"
   ]
  },
  {
   "cell_type": "code",
   "execution_count": 7,
   "metadata": {},
   "outputs": [
    {
     "data": {
      "text/html": [
       "<div>\n",
       "<style scoped>\n",
       "    .dataframe tbody tr th:only-of-type {\n",
       "        vertical-align: middle;\n",
       "    }\n",
       "\n",
       "    .dataframe tbody tr th {\n",
       "        vertical-align: top;\n",
       "    }\n",
       "\n",
       "    .dataframe thead th {\n",
       "        text-align: right;\n",
       "    }\n",
       "</style>\n",
       "<table border=\"1\" class=\"dataframe\">\n",
       "  <thead>\n",
       "    <tr style=\"text-align: right;\">\n",
       "      <th></th>\n",
       "      <th>fixed acidity</th>\n",
       "      <th>volatile acidity</th>\n",
       "      <th>citric acid</th>\n",
       "      <th>residual sugar</th>\n",
       "      <th>chlorides</th>\n",
       "      <th>free sulfur dioxide</th>\n",
       "      <th>total sulfur dioxide</th>\n",
       "      <th>density</th>\n",
       "      <th>pH</th>\n",
       "      <th>sulphates</th>\n",
       "      <th>alcohol</th>\n",
       "      <th>quality</th>\n",
       "      <th>is_red</th>\n",
       "    </tr>\n",
       "  </thead>\n",
       "  <tbody>\n",
       "    <tr>\n",
       "      <th>count</th>\n",
       "      <td>4898.000000</td>\n",
       "      <td>4898.000000</td>\n",
       "      <td>4898.000000</td>\n",
       "      <td>4898.000000</td>\n",
       "      <td>4898.000000</td>\n",
       "      <td>4898.000000</td>\n",
       "      <td>4898.000000</td>\n",
       "      <td>4898.000000</td>\n",
       "      <td>4898.000000</td>\n",
       "      <td>4898.000000</td>\n",
       "      <td>4898.000000</td>\n",
       "      <td>4898.000000</td>\n",
       "      <td>4898.0</td>\n",
       "    </tr>\n",
       "    <tr>\n",
       "      <th>mean</th>\n",
       "      <td>6.854788</td>\n",
       "      <td>0.278241</td>\n",
       "      <td>0.334192</td>\n",
       "      <td>6.391415</td>\n",
       "      <td>0.045772</td>\n",
       "      <td>35.308085</td>\n",
       "      <td>138.360657</td>\n",
       "      <td>0.994027</td>\n",
       "      <td>3.188267</td>\n",
       "      <td>0.489847</td>\n",
       "      <td>10.514267</td>\n",
       "      <td>5.877909</td>\n",
       "      <td>0.0</td>\n",
       "    </tr>\n",
       "    <tr>\n",
       "      <th>std</th>\n",
       "      <td>0.843868</td>\n",
       "      <td>0.100795</td>\n",
       "      <td>0.121020</td>\n",
       "      <td>5.072058</td>\n",
       "      <td>0.021848</td>\n",
       "      <td>17.007137</td>\n",
       "      <td>42.498065</td>\n",
       "      <td>0.002991</td>\n",
       "      <td>0.151001</td>\n",
       "      <td>0.114126</td>\n",
       "      <td>1.230621</td>\n",
       "      <td>0.885639</td>\n",
       "      <td>0.0</td>\n",
       "    </tr>\n",
       "    <tr>\n",
       "      <th>min</th>\n",
       "      <td>3.800000</td>\n",
       "      <td>0.080000</td>\n",
       "      <td>0.000000</td>\n",
       "      <td>0.600000</td>\n",
       "      <td>0.009000</td>\n",
       "      <td>2.000000</td>\n",
       "      <td>9.000000</td>\n",
       "      <td>0.987110</td>\n",
       "      <td>2.720000</td>\n",
       "      <td>0.220000</td>\n",
       "      <td>8.000000</td>\n",
       "      <td>3.000000</td>\n",
       "      <td>0.0</td>\n",
       "    </tr>\n",
       "    <tr>\n",
       "      <th>25%</th>\n",
       "      <td>6.300000</td>\n",
       "      <td>0.210000</td>\n",
       "      <td>0.270000</td>\n",
       "      <td>1.700000</td>\n",
       "      <td>0.036000</td>\n",
       "      <td>23.000000</td>\n",
       "      <td>108.000000</td>\n",
       "      <td>0.991723</td>\n",
       "      <td>3.090000</td>\n",
       "      <td>0.410000</td>\n",
       "      <td>9.500000</td>\n",
       "      <td>5.000000</td>\n",
       "      <td>0.0</td>\n",
       "    </tr>\n",
       "    <tr>\n",
       "      <th>50%</th>\n",
       "      <td>6.800000</td>\n",
       "      <td>0.260000</td>\n",
       "      <td>0.320000</td>\n",
       "      <td>5.200000</td>\n",
       "      <td>0.043000</td>\n",
       "      <td>34.000000</td>\n",
       "      <td>134.000000</td>\n",
       "      <td>0.993740</td>\n",
       "      <td>3.180000</td>\n",
       "      <td>0.470000</td>\n",
       "      <td>10.400000</td>\n",
       "      <td>6.000000</td>\n",
       "      <td>0.0</td>\n",
       "    </tr>\n",
       "    <tr>\n",
       "      <th>75%</th>\n",
       "      <td>7.300000</td>\n",
       "      <td>0.320000</td>\n",
       "      <td>0.390000</td>\n",
       "      <td>9.900000</td>\n",
       "      <td>0.050000</td>\n",
       "      <td>46.000000</td>\n",
       "      <td>167.000000</td>\n",
       "      <td>0.996100</td>\n",
       "      <td>3.280000</td>\n",
       "      <td>0.550000</td>\n",
       "      <td>11.400000</td>\n",
       "      <td>6.000000</td>\n",
       "      <td>0.0</td>\n",
       "    </tr>\n",
       "    <tr>\n",
       "      <th>max</th>\n",
       "      <td>14.200000</td>\n",
       "      <td>1.100000</td>\n",
       "      <td>1.660000</td>\n",
       "      <td>65.800000</td>\n",
       "      <td>0.346000</td>\n",
       "      <td>289.000000</td>\n",
       "      <td>440.000000</td>\n",
       "      <td>1.038980</td>\n",
       "      <td>3.820000</td>\n",
       "      <td>1.080000</td>\n",
       "      <td>14.200000</td>\n",
       "      <td>9.000000</td>\n",
       "      <td>0.0</td>\n",
       "    </tr>\n",
       "  </tbody>\n",
       "</table>\n",
       "</div>"
      ],
      "text/plain": [
       "       fixed acidity  volatile acidity  citric acid  residual sugar  \\\n",
       "count    4898.000000       4898.000000  4898.000000     4898.000000   \n",
       "mean        6.854788          0.278241     0.334192        6.391415   \n",
       "std         0.843868          0.100795     0.121020        5.072058   \n",
       "min         3.800000          0.080000     0.000000        0.600000   \n",
       "25%         6.300000          0.210000     0.270000        1.700000   \n",
       "50%         6.800000          0.260000     0.320000        5.200000   \n",
       "75%         7.300000          0.320000     0.390000        9.900000   \n",
       "max        14.200000          1.100000     1.660000       65.800000   \n",
       "\n",
       "         chlorides  free sulfur dioxide  total sulfur dioxide      density  \\\n",
       "count  4898.000000          4898.000000           4898.000000  4898.000000   \n",
       "mean      0.045772            35.308085            138.360657     0.994027   \n",
       "std       0.021848            17.007137             42.498065     0.002991   \n",
       "min       0.009000             2.000000              9.000000     0.987110   \n",
       "25%       0.036000            23.000000            108.000000     0.991723   \n",
       "50%       0.043000            34.000000            134.000000     0.993740   \n",
       "75%       0.050000            46.000000            167.000000     0.996100   \n",
       "max       0.346000           289.000000            440.000000     1.038980   \n",
       "\n",
       "                pH    sulphates      alcohol      quality  is_red  \n",
       "count  4898.000000  4898.000000  4898.000000  4898.000000  4898.0  \n",
       "mean      3.188267     0.489847    10.514267     5.877909     0.0  \n",
       "std       0.151001     0.114126     1.230621     0.885639     0.0  \n",
       "min       2.720000     0.220000     8.000000     3.000000     0.0  \n",
       "25%       3.090000     0.410000     9.500000     5.000000     0.0  \n",
       "50%       3.180000     0.470000    10.400000     6.000000     0.0  \n",
       "75%       3.280000     0.550000    11.400000     6.000000     0.0  \n",
       "max       3.820000     1.080000    14.200000     9.000000     0.0  "
      ]
     },
     "execution_count": 7,
     "metadata": {},
     "output_type": "execute_result"
    }
   ],
   "source": [
    "white_df.describe()"
   ]
  },
  {
   "cell_type": "code",
   "execution_count": 8,
   "metadata": {},
   "outputs": [],
   "source": [
    "# keep only the first of duplicate items\n",
    "white_df = white_df.drop_duplicates(keep='first')"
   ]
  },
  {
   "cell_type": "code",
   "execution_count": 9,
   "metadata": {},
   "outputs": [
    {
     "data": {
      "text/html": [
       "<div>\n",
       "<style scoped>\n",
       "    .dataframe tbody tr th:only-of-type {\n",
       "        vertical-align: middle;\n",
       "    }\n",
       "\n",
       "    .dataframe tbody tr th {\n",
       "        vertical-align: top;\n",
       "    }\n",
       "\n",
       "    .dataframe thead th {\n",
       "        text-align: right;\n",
       "    }\n",
       "</style>\n",
       "<table border=\"1\" class=\"dataframe\">\n",
       "  <thead>\n",
       "    <tr style=\"text-align: right;\">\n",
       "      <th></th>\n",
       "      <th>fixed acidity</th>\n",
       "      <th>volatile acidity</th>\n",
       "      <th>citric acid</th>\n",
       "      <th>residual sugar</th>\n",
       "      <th>chlorides</th>\n",
       "      <th>free sulfur dioxide</th>\n",
       "      <th>total sulfur dioxide</th>\n",
       "      <th>density</th>\n",
       "      <th>pH</th>\n",
       "      <th>sulphates</th>\n",
       "      <th>alcohol</th>\n",
       "      <th>quality</th>\n",
       "      <th>is_red</th>\n",
       "    </tr>\n",
       "  </thead>\n",
       "  <tbody>\n",
       "    <tr>\n",
       "      <th>0</th>\n",
       "      <td>7.0</td>\n",
       "      <td>0.27</td>\n",
       "      <td>0.36</td>\n",
       "      <td>20.7</td>\n",
       "      <td>0.045</td>\n",
       "      <td>45.0</td>\n",
       "      <td>170.0</td>\n",
       "      <td>1.0010</td>\n",
       "      <td>3.00</td>\n",
       "      <td>0.45</td>\n",
       "      <td>8.8</td>\n",
       "      <td>6</td>\n",
       "      <td>0</td>\n",
       "    </tr>\n",
       "    <tr>\n",
       "      <th>1</th>\n",
       "      <td>6.3</td>\n",
       "      <td>0.30</td>\n",
       "      <td>0.34</td>\n",
       "      <td>1.6</td>\n",
       "      <td>0.049</td>\n",
       "      <td>14.0</td>\n",
       "      <td>132.0</td>\n",
       "      <td>0.9940</td>\n",
       "      <td>3.30</td>\n",
       "      <td>0.49</td>\n",
       "      <td>9.5</td>\n",
       "      <td>6</td>\n",
       "      <td>0</td>\n",
       "    </tr>\n",
       "    <tr>\n",
       "      <th>2</th>\n",
       "      <td>8.1</td>\n",
       "      <td>0.28</td>\n",
       "      <td>0.40</td>\n",
       "      <td>6.9</td>\n",
       "      <td>0.050</td>\n",
       "      <td>30.0</td>\n",
       "      <td>97.0</td>\n",
       "      <td>0.9951</td>\n",
       "      <td>3.26</td>\n",
       "      <td>0.44</td>\n",
       "      <td>10.1</td>\n",
       "      <td>6</td>\n",
       "      <td>0</td>\n",
       "    </tr>\n",
       "    <tr>\n",
       "      <th>3</th>\n",
       "      <td>7.2</td>\n",
       "      <td>0.23</td>\n",
       "      <td>0.32</td>\n",
       "      <td>8.5</td>\n",
       "      <td>0.058</td>\n",
       "      <td>47.0</td>\n",
       "      <td>186.0</td>\n",
       "      <td>0.9956</td>\n",
       "      <td>3.19</td>\n",
       "      <td>0.40</td>\n",
       "      <td>9.9</td>\n",
       "      <td>6</td>\n",
       "      <td>0</td>\n",
       "    </tr>\n",
       "    <tr>\n",
       "      <th>6</th>\n",
       "      <td>6.2</td>\n",
       "      <td>0.32</td>\n",
       "      <td>0.16</td>\n",
       "      <td>7.0</td>\n",
       "      <td>0.045</td>\n",
       "      <td>30.0</td>\n",
       "      <td>136.0</td>\n",
       "      <td>0.9949</td>\n",
       "      <td>3.18</td>\n",
       "      <td>0.47</td>\n",
       "      <td>9.6</td>\n",
       "      <td>6</td>\n",
       "      <td>0</td>\n",
       "    </tr>\n",
       "  </tbody>\n",
       "</table>\n",
       "</div>"
      ],
      "text/plain": [
       "   fixed acidity  volatile acidity  citric acid  residual sugar  chlorides  \\\n",
       "0            7.0              0.27         0.36            20.7      0.045   \n",
       "1            6.3              0.30         0.34             1.6      0.049   \n",
       "2            8.1              0.28         0.40             6.9      0.050   \n",
       "3            7.2              0.23         0.32             8.5      0.058   \n",
       "6            6.2              0.32         0.16             7.0      0.045   \n",
       "\n",
       "   free sulfur dioxide  total sulfur dioxide  density    pH  sulphates  \\\n",
       "0                 45.0                 170.0   1.0010  3.00       0.45   \n",
       "1                 14.0                 132.0   0.9940  3.30       0.49   \n",
       "2                 30.0                  97.0   0.9951  3.26       0.44   \n",
       "3                 47.0                 186.0   0.9956  3.19       0.40   \n",
       "6                 30.0                 136.0   0.9949  3.18       0.47   \n",
       "\n",
       "   alcohol  quality  is_red  \n",
       "0      8.8        6       0  \n",
       "1      9.5        6       0  \n",
       "2     10.1        6       0  \n",
       "3      9.9        6       0  \n",
       "6      9.6        6       0  "
      ]
     },
     "execution_count": 9,
     "metadata": {},
     "output_type": "execute_result"
    }
   ],
   "source": [
    "white_df.head()"
   ]
  },
  {
   "cell_type": "code",
   "execution_count": 10,
   "metadata": {
    "deletable": false,
    "editable": false,
    "nbgrader": {
     "cell_type": "code",
     "checksum": "defe38d6ec58fd31cd67b89e46c4373f",
     "grade": true,
     "grade_id": "cell-30575e713b55fc51",
     "locked": true,
     "points": 1,
     "schema_version": 3,
     "solution": false,
     "task": false
    }
   },
   "outputs": [
    {
     "name": "stdout",
     "output_type": "stream",
     "text": [
      "\u001b[92m All public tests passed\n"
     ]
    }
   ],
   "source": [
    "# You can click `File -> Open` in the menu above and open the `utils.py` file \n",
    "# in case you want to inspect the unit tests being used for each graded function.\n",
    "\n",
    "utils.test_white_df(white_df)\n"
   ]
  },
  {
   "cell_type": "code",
   "execution_count": 11,
   "metadata": {
    "colab": {},
    "colab_type": "code",
    "id": "OQHK0ohBQRCk"
   },
   "outputs": [
    {
     "name": "stdout",
     "output_type": "stream",
     "text": [
      "8.8\n",
      "9.1\n"
     ]
    }
   ],
   "source": [
    "print(white_df.alcohol[0])\n",
    "print(white_df.alcohol[100])\n",
    "\n",
    "# EXPECTED OUTPUT\n",
    "# 8.8\n",
    "# 9.1"
   ]
  },
  {
   "cell_type": "markdown",
   "metadata": {},
   "source": [
    "### Pre-process the red wine dataset (TODO)\n",
    "- In the red wine dataset, you will fill in the column `is_red` with ones (1)."
   ]
  },
  {
   "cell_type": "code",
   "execution_count": 12,
   "metadata": {
    "colab": {},
    "colab_type": "code",
    "deletable": false,
    "id": "8y3QxKwBed8v",
    "nbgrader": {
     "cell_type": "code",
     "checksum": "be72275f78e2c2d0038dde9aa63f8d4f",
     "grade": false,
     "grade_id": "cell-e47a40f306593274",
     "locked": false,
     "schema_version": 3,
     "solution": true,
     "task": false
    }
   },
   "outputs": [],
   "source": [
    "## Please uncomment all lines in this cell and replace those marked with `# YOUR CODE HERE`.\n",
    "## You can select all lines in this code cell with Ctrl+A (Windows/Linux) or Cmd+A (Mac), then press Ctrl+/ (Windows/Linux) or Cmd+/ (Mac) to uncomment.\n",
    "\n",
    "# URL of the red wine dataset\n",
    "URL = 'http://archive.ics.uci.edu/ml/machine-learning-databases/wine-quality/winequality-red.csv'\n",
    "\n",
    "# load the dataset from the URL\n",
    "red_df = pd.read_csv(URL, sep=\";\")\n",
    "\n",
    "# fill the `is_red` column with ones.\n",
    "red_df[\"is_red\"] = 1\n",
    "\n",
    "# keep only the first of duplicate items\n",
    "red_df = red_df.drop_duplicates(keep='first')\n"
   ]
  },
  {
   "cell_type": "code",
   "execution_count": 13,
   "metadata": {},
   "outputs": [
    {
     "name": "stdout",
     "output_type": "stream",
     "text": [
      "<class 'pandas.core.frame.DataFrame'>\n",
      "Int64Index: 1359 entries, 0 to 1598\n",
      "Data columns (total 13 columns):\n",
      " #   Column                Non-Null Count  Dtype  \n",
      "---  ------                --------------  -----  \n",
      " 0   fixed acidity         1359 non-null   float64\n",
      " 1   volatile acidity      1359 non-null   float64\n",
      " 2   citric acid           1359 non-null   float64\n",
      " 3   residual sugar        1359 non-null   float64\n",
      " 4   chlorides             1359 non-null   float64\n",
      " 5   free sulfur dioxide   1359 non-null   float64\n",
      " 6   total sulfur dioxide  1359 non-null   float64\n",
      " 7   density               1359 non-null   float64\n",
      " 8   pH                    1359 non-null   float64\n",
      " 9   sulphates             1359 non-null   float64\n",
      " 10  alcohol               1359 non-null   float64\n",
      " 11  quality               1359 non-null   int64  \n",
      " 12  is_red                1359 non-null   int64  \n",
      "dtypes: float64(11), int64(2)\n",
      "memory usage: 148.6 KB\n"
     ]
    }
   ],
   "source": [
    "red_df.info()"
   ]
  },
  {
   "cell_type": "code",
   "execution_count": 14,
   "metadata": {},
   "outputs": [
    {
     "data": {
      "text/html": [
       "<div>\n",
       "<style scoped>\n",
       "    .dataframe tbody tr th:only-of-type {\n",
       "        vertical-align: middle;\n",
       "    }\n",
       "\n",
       "    .dataframe tbody tr th {\n",
       "        vertical-align: top;\n",
       "    }\n",
       "\n",
       "    .dataframe thead th {\n",
       "        text-align: right;\n",
       "    }\n",
       "</style>\n",
       "<table border=\"1\" class=\"dataframe\">\n",
       "  <thead>\n",
       "    <tr style=\"text-align: right;\">\n",
       "      <th></th>\n",
       "      <th>fixed acidity</th>\n",
       "      <th>volatile acidity</th>\n",
       "      <th>citric acid</th>\n",
       "      <th>residual sugar</th>\n",
       "      <th>chlorides</th>\n",
       "      <th>free sulfur dioxide</th>\n",
       "      <th>total sulfur dioxide</th>\n",
       "      <th>density</th>\n",
       "      <th>pH</th>\n",
       "      <th>sulphates</th>\n",
       "      <th>alcohol</th>\n",
       "      <th>quality</th>\n",
       "      <th>is_red</th>\n",
       "    </tr>\n",
       "  </thead>\n",
       "  <tbody>\n",
       "    <tr>\n",
       "      <th>count</th>\n",
       "      <td>1359.000000</td>\n",
       "      <td>1359.000000</td>\n",
       "      <td>1359.000000</td>\n",
       "      <td>1359.000000</td>\n",
       "      <td>1359.000000</td>\n",
       "      <td>1359.000000</td>\n",
       "      <td>1359.000000</td>\n",
       "      <td>1359.000000</td>\n",
       "      <td>1359.000000</td>\n",
       "      <td>1359.000000</td>\n",
       "      <td>1359.000000</td>\n",
       "      <td>1359.000000</td>\n",
       "      <td>1359.0</td>\n",
       "    </tr>\n",
       "    <tr>\n",
       "      <th>mean</th>\n",
       "      <td>8.310596</td>\n",
       "      <td>0.529478</td>\n",
       "      <td>0.272333</td>\n",
       "      <td>2.523400</td>\n",
       "      <td>0.088124</td>\n",
       "      <td>15.893304</td>\n",
       "      <td>46.825975</td>\n",
       "      <td>0.996709</td>\n",
       "      <td>3.309787</td>\n",
       "      <td>0.658705</td>\n",
       "      <td>10.432315</td>\n",
       "      <td>5.623252</td>\n",
       "      <td>1.0</td>\n",
       "    </tr>\n",
       "    <tr>\n",
       "      <th>std</th>\n",
       "      <td>1.736990</td>\n",
       "      <td>0.183031</td>\n",
       "      <td>0.195537</td>\n",
       "      <td>1.352314</td>\n",
       "      <td>0.049377</td>\n",
       "      <td>10.447270</td>\n",
       "      <td>33.408946</td>\n",
       "      <td>0.001869</td>\n",
       "      <td>0.155036</td>\n",
       "      <td>0.170667</td>\n",
       "      <td>1.082065</td>\n",
       "      <td>0.823578</td>\n",
       "      <td>0.0</td>\n",
       "    </tr>\n",
       "    <tr>\n",
       "      <th>min</th>\n",
       "      <td>4.600000</td>\n",
       "      <td>0.120000</td>\n",
       "      <td>0.000000</td>\n",
       "      <td>0.900000</td>\n",
       "      <td>0.012000</td>\n",
       "      <td>1.000000</td>\n",
       "      <td>6.000000</td>\n",
       "      <td>0.990070</td>\n",
       "      <td>2.740000</td>\n",
       "      <td>0.330000</td>\n",
       "      <td>8.400000</td>\n",
       "      <td>3.000000</td>\n",
       "      <td>1.0</td>\n",
       "    </tr>\n",
       "    <tr>\n",
       "      <th>25%</th>\n",
       "      <td>7.100000</td>\n",
       "      <td>0.390000</td>\n",
       "      <td>0.090000</td>\n",
       "      <td>1.900000</td>\n",
       "      <td>0.070000</td>\n",
       "      <td>7.000000</td>\n",
       "      <td>22.000000</td>\n",
       "      <td>0.995600</td>\n",
       "      <td>3.210000</td>\n",
       "      <td>0.550000</td>\n",
       "      <td>9.500000</td>\n",
       "      <td>5.000000</td>\n",
       "      <td>1.0</td>\n",
       "    </tr>\n",
       "    <tr>\n",
       "      <th>50%</th>\n",
       "      <td>7.900000</td>\n",
       "      <td>0.520000</td>\n",
       "      <td>0.260000</td>\n",
       "      <td>2.200000</td>\n",
       "      <td>0.079000</td>\n",
       "      <td>14.000000</td>\n",
       "      <td>38.000000</td>\n",
       "      <td>0.996700</td>\n",
       "      <td>3.310000</td>\n",
       "      <td>0.620000</td>\n",
       "      <td>10.200000</td>\n",
       "      <td>6.000000</td>\n",
       "      <td>1.0</td>\n",
       "    </tr>\n",
       "    <tr>\n",
       "      <th>75%</th>\n",
       "      <td>9.200000</td>\n",
       "      <td>0.640000</td>\n",
       "      <td>0.430000</td>\n",
       "      <td>2.600000</td>\n",
       "      <td>0.091000</td>\n",
       "      <td>21.000000</td>\n",
       "      <td>63.000000</td>\n",
       "      <td>0.997820</td>\n",
       "      <td>3.400000</td>\n",
       "      <td>0.730000</td>\n",
       "      <td>11.100000</td>\n",
       "      <td>6.000000</td>\n",
       "      <td>1.0</td>\n",
       "    </tr>\n",
       "    <tr>\n",
       "      <th>max</th>\n",
       "      <td>15.900000</td>\n",
       "      <td>1.580000</td>\n",
       "      <td>1.000000</td>\n",
       "      <td>15.500000</td>\n",
       "      <td>0.611000</td>\n",
       "      <td>72.000000</td>\n",
       "      <td>289.000000</td>\n",
       "      <td>1.003690</td>\n",
       "      <td>4.010000</td>\n",
       "      <td>2.000000</td>\n",
       "      <td>14.900000</td>\n",
       "      <td>8.000000</td>\n",
       "      <td>1.0</td>\n",
       "    </tr>\n",
       "  </tbody>\n",
       "</table>\n",
       "</div>"
      ],
      "text/plain": [
       "       fixed acidity  volatile acidity  citric acid  residual sugar  \\\n",
       "count    1359.000000       1359.000000  1359.000000     1359.000000   \n",
       "mean        8.310596          0.529478     0.272333        2.523400   \n",
       "std         1.736990          0.183031     0.195537        1.352314   \n",
       "min         4.600000          0.120000     0.000000        0.900000   \n",
       "25%         7.100000          0.390000     0.090000        1.900000   \n",
       "50%         7.900000          0.520000     0.260000        2.200000   \n",
       "75%         9.200000          0.640000     0.430000        2.600000   \n",
       "max        15.900000          1.580000     1.000000       15.500000   \n",
       "\n",
       "         chlorides  free sulfur dioxide  total sulfur dioxide      density  \\\n",
       "count  1359.000000          1359.000000           1359.000000  1359.000000   \n",
       "mean      0.088124            15.893304             46.825975     0.996709   \n",
       "std       0.049377            10.447270             33.408946     0.001869   \n",
       "min       0.012000             1.000000              6.000000     0.990070   \n",
       "25%       0.070000             7.000000             22.000000     0.995600   \n",
       "50%       0.079000            14.000000             38.000000     0.996700   \n",
       "75%       0.091000            21.000000             63.000000     0.997820   \n",
       "max       0.611000            72.000000            289.000000     1.003690   \n",
       "\n",
       "                pH    sulphates      alcohol      quality  is_red  \n",
       "count  1359.000000  1359.000000  1359.000000  1359.000000  1359.0  \n",
       "mean      3.309787     0.658705    10.432315     5.623252     1.0  \n",
       "std       0.155036     0.170667     1.082065     0.823578     0.0  \n",
       "min       2.740000     0.330000     8.400000     3.000000     1.0  \n",
       "25%       3.210000     0.550000     9.500000     5.000000     1.0  \n",
       "50%       3.310000     0.620000    10.200000     6.000000     1.0  \n",
       "75%       3.400000     0.730000    11.100000     6.000000     1.0  \n",
       "max       4.010000     2.000000    14.900000     8.000000     1.0  "
      ]
     },
     "execution_count": 14,
     "metadata": {},
     "output_type": "execute_result"
    }
   ],
   "source": [
    "red_df.describe()"
   ]
  },
  {
   "cell_type": "code",
   "execution_count": 15,
   "metadata": {},
   "outputs": [
    {
     "data": {
      "text/html": [
       "<div>\n",
       "<style scoped>\n",
       "    .dataframe tbody tr th:only-of-type {\n",
       "        vertical-align: middle;\n",
       "    }\n",
       "\n",
       "    .dataframe tbody tr th {\n",
       "        vertical-align: top;\n",
       "    }\n",
       "\n",
       "    .dataframe thead th {\n",
       "        text-align: right;\n",
       "    }\n",
       "</style>\n",
       "<table border=\"1\" class=\"dataframe\">\n",
       "  <thead>\n",
       "    <tr style=\"text-align: right;\">\n",
       "      <th></th>\n",
       "      <th>fixed acidity</th>\n",
       "      <th>volatile acidity</th>\n",
       "      <th>citric acid</th>\n",
       "      <th>residual sugar</th>\n",
       "      <th>chlorides</th>\n",
       "      <th>free sulfur dioxide</th>\n",
       "      <th>total sulfur dioxide</th>\n",
       "      <th>density</th>\n",
       "      <th>pH</th>\n",
       "      <th>sulphates</th>\n",
       "      <th>alcohol</th>\n",
       "      <th>quality</th>\n",
       "      <th>is_red</th>\n",
       "    </tr>\n",
       "  </thead>\n",
       "  <tbody>\n",
       "    <tr>\n",
       "      <th>0</th>\n",
       "      <td>7.4</td>\n",
       "      <td>0.70</td>\n",
       "      <td>0.00</td>\n",
       "      <td>1.9</td>\n",
       "      <td>0.076</td>\n",
       "      <td>11.0</td>\n",
       "      <td>34.0</td>\n",
       "      <td>0.9978</td>\n",
       "      <td>3.51</td>\n",
       "      <td>0.56</td>\n",
       "      <td>9.4</td>\n",
       "      <td>5</td>\n",
       "      <td>1</td>\n",
       "    </tr>\n",
       "    <tr>\n",
       "      <th>1</th>\n",
       "      <td>7.8</td>\n",
       "      <td>0.88</td>\n",
       "      <td>0.00</td>\n",
       "      <td>2.6</td>\n",
       "      <td>0.098</td>\n",
       "      <td>25.0</td>\n",
       "      <td>67.0</td>\n",
       "      <td>0.9968</td>\n",
       "      <td>3.20</td>\n",
       "      <td>0.68</td>\n",
       "      <td>9.8</td>\n",
       "      <td>5</td>\n",
       "      <td>1</td>\n",
       "    </tr>\n",
       "    <tr>\n",
       "      <th>2</th>\n",
       "      <td>7.8</td>\n",
       "      <td>0.76</td>\n",
       "      <td>0.04</td>\n",
       "      <td>2.3</td>\n",
       "      <td>0.092</td>\n",
       "      <td>15.0</td>\n",
       "      <td>54.0</td>\n",
       "      <td>0.9970</td>\n",
       "      <td>3.26</td>\n",
       "      <td>0.65</td>\n",
       "      <td>9.8</td>\n",
       "      <td>5</td>\n",
       "      <td>1</td>\n",
       "    </tr>\n",
       "    <tr>\n",
       "      <th>3</th>\n",
       "      <td>11.2</td>\n",
       "      <td>0.28</td>\n",
       "      <td>0.56</td>\n",
       "      <td>1.9</td>\n",
       "      <td>0.075</td>\n",
       "      <td>17.0</td>\n",
       "      <td>60.0</td>\n",
       "      <td>0.9980</td>\n",
       "      <td>3.16</td>\n",
       "      <td>0.58</td>\n",
       "      <td>9.8</td>\n",
       "      <td>6</td>\n",
       "      <td>1</td>\n",
       "    </tr>\n",
       "    <tr>\n",
       "      <th>5</th>\n",
       "      <td>7.4</td>\n",
       "      <td>0.66</td>\n",
       "      <td>0.00</td>\n",
       "      <td>1.8</td>\n",
       "      <td>0.075</td>\n",
       "      <td>13.0</td>\n",
       "      <td>40.0</td>\n",
       "      <td>0.9978</td>\n",
       "      <td>3.51</td>\n",
       "      <td>0.56</td>\n",
       "      <td>9.4</td>\n",
       "      <td>5</td>\n",
       "      <td>1</td>\n",
       "    </tr>\n",
       "  </tbody>\n",
       "</table>\n",
       "</div>"
      ],
      "text/plain": [
       "   fixed acidity  volatile acidity  citric acid  residual sugar  chlorides  \\\n",
       "0            7.4              0.70         0.00             1.9      0.076   \n",
       "1            7.8              0.88         0.00             2.6      0.098   \n",
       "2            7.8              0.76         0.04             2.3      0.092   \n",
       "3           11.2              0.28         0.56             1.9      0.075   \n",
       "5            7.4              0.66         0.00             1.8      0.075   \n",
       "\n",
       "   free sulfur dioxide  total sulfur dioxide  density    pH  sulphates  \\\n",
       "0                 11.0                  34.0   0.9978  3.51       0.56   \n",
       "1                 25.0                  67.0   0.9968  3.20       0.68   \n",
       "2                 15.0                  54.0   0.9970  3.26       0.65   \n",
       "3                 17.0                  60.0   0.9980  3.16       0.58   \n",
       "5                 13.0                  40.0   0.9978  3.51       0.56   \n",
       "\n",
       "   alcohol  quality  is_red  \n",
       "0      9.4        5       1  \n",
       "1      9.8        5       1  \n",
       "2      9.8        5       1  \n",
       "3      9.8        6       1  \n",
       "5      9.4        5       1  "
      ]
     },
     "execution_count": 15,
     "metadata": {},
     "output_type": "execute_result"
    }
   ],
   "source": [
    "red_df.head()"
   ]
  },
  {
   "cell_type": "code",
   "execution_count": 16,
   "metadata": {
    "deletable": false,
    "editable": false,
    "nbgrader": {
     "cell_type": "code",
     "checksum": "d8e0c91b0fd668b63ba74a8f2f958b59",
     "grade": true,
     "grade_id": "cell-2a75937adcc0c25b",
     "locked": true,
     "points": 1,
     "schema_version": 3,
     "solution": false,
     "task": false
    }
   },
   "outputs": [
    {
     "name": "stdout",
     "output_type": "stream",
     "text": [
      "\u001b[92m All public tests passed\n"
     ]
    }
   ],
   "source": [
    "utils.test_red_df(red_df)\n"
   ]
  },
  {
   "cell_type": "code",
   "execution_count": 17,
   "metadata": {
    "colab": {},
    "colab_type": "code",
    "id": "zsB3LUzNQpo_"
   },
   "outputs": [
    {
     "name": "stdout",
     "output_type": "stream",
     "text": [
      "9.4\n",
      "10.2\n"
     ]
    }
   ],
   "source": [
    "print(red_df.alcohol[0])\n",
    "print(red_df.alcohol[100])\n",
    "\n",
    "# EXPECTED OUTPUT\n",
    "# 9.4\n",
    "# 10.2"
   ]
  },
  {
   "cell_type": "markdown",
   "metadata": {
    "colab_type": "text",
    "id": "2G8B-NYuM6-f"
   },
   "source": [
    "### Concatenate the datasets\n",
    "\n",
    "Next, concatenate the red and white wine dataframes."
   ]
  },
  {
   "cell_type": "code",
   "execution_count": 18,
   "metadata": {
    "colab": {},
    "colab_type": "code",
    "id": "YpQrOjJbfN3m"
   },
   "outputs": [],
   "source": [
    "df = pd.concat([red_df, white_df], ignore_index=True)"
   ]
  },
  {
   "cell_type": "code",
   "execution_count": 19,
   "metadata": {
    "colab": {},
    "colab_type": "code",
    "id": "Se2dTmThQyjb"
   },
   "outputs": [
    {
     "name": "stdout",
     "output_type": "stream",
     "text": [
      "9.4\n",
      "9.5\n"
     ]
    }
   ],
   "source": [
    "print(df.alcohol[0])\n",
    "print(df.alcohol[100])\n",
    "\n",
    "# EXPECTED OUTPUT\n",
    "# 9.4\n",
    "# 9.5"
   ]
  },
  {
   "cell_type": "code",
   "execution_count": 20,
   "metadata": {
    "colab": {},
    "colab_type": "code",
    "id": "wx6y3rPpQv4k"
   },
   "outputs": [],
   "source": [
    "# NOTE: In a real-world scenario, you should shuffle the data.\n",
    "# YOU ARE NOT going to do that here because we want to test\n",
    "# with deterministic data. But if you want the code to do it,\n",
    "# it's in the commented line below:\n",
    "\n",
    "#df = df.iloc[np.random.permutation(len(df))]"
   ]
  },
  {
   "cell_type": "markdown",
   "metadata": {
    "colab_type": "text",
    "id": "-EqIcbg5M_n1"
   },
   "source": [
    "This will chart the quality of the wines."
   ]
  },
  {
   "cell_type": "code",
   "execution_count": 21,
   "metadata": {
    "colab": {},
    "colab_type": "code",
    "id": "IsvK0-Sgy17C"
   },
   "outputs": [
    {
     "data": {
      "image/png": "[encoded data removed]",
      "text/plain": [
       "<Figure size 432x288 with 1 Axes>"
      ]
     },
     "metadata": {
      "needs_background": "light"
     },
     "output_type": "display_data"
    }
   ],
   "source": [
    "df['quality'].hist(bins=20);"
   ]
  },
  {
   "cell_type": "markdown",
   "metadata": {
    "colab_type": "text",
    "id": "Nut1rmYLzf-p"
   },
   "source": [
    "### Imbalanced data (TODO)\n",
    "You can see from the plot above that the wine quality dataset is imbalanced. \n",
    "- Since there are very few observations with quality equal to 3, 4, 8 and 9, you can drop these observations from your dataset. \n",
    "- You can do this by removing data belonging to all classes except those > 4 and < 8."
   ]
  },
  {
   "cell_type": "code",
   "execution_count": 22,
   "metadata": {
    "colab": {},
    "colab_type": "code",
    "deletable": false,
    "id": "doH9_-gnf3sz",
    "nbgrader": {
     "cell_type": "code",
     "checksum": "d9ba9fc3a3ca02ccc567be33652b80fe",
     "grade": false,
     "grade_id": "cell-6a3e9db696f6827b",
     "locked": false,
     "schema_version": 3,
     "solution": true,
     "task": false
    }
   },
   "outputs": [],
   "source": [
    "## Please uncomment all lines in this cell and replace those marked with `# YOUR CODE HERE`.\n",
    "## You can select all lines in this code cell with Ctrl+A (Windows/Linux) or Cmd+A (Mac), then press Ctrl+/ (Windows/Linux) or Cmd+/ (Mac) to uncomment.\n",
    "\n",
    "# get data with wine quality greater than 4 and less than 8\n",
    "df = df[(df['quality'] > 4) & (df['quality'] < 8)]\n",
    "\n",
    "# reset index and drop the old one\n",
    "df = df.reset_index(drop=True)"
   ]
  },
  {
   "cell_type": "code",
   "execution_count": 23,
   "metadata": {
    "deletable": false,
    "editable": false,
    "nbgrader": {
     "cell_type": "code",
     "checksum": "281e1d86a4803560ed5892cd7eda4c01",
     "grade": true,
     "grade_id": "cell-aed3da719d4682c7",
     "locked": true,
     "points": 1,
     "schema_version": 3,
     "solution": false,
     "task": false
    }
   },
   "outputs": [
    {
     "name": "stdout",
     "output_type": "stream",
     "text": [
      "\u001b[92m All public tests passed\n"
     ]
    }
   ],
   "source": [
    "utils.test_df_drop(df)\n",
    "\n"
   ]
  },
  {
   "cell_type": "code",
   "execution_count": 24,
   "metadata": {
    "colab": {},
    "colab_type": "code",
    "id": "xNR1iAlMRPXO"
   },
   "outputs": [
    {
     "name": "stdout",
     "output_type": "stream",
     "text": [
      "9.4\n",
      "10.9\n"
     ]
    }
   ],
   "source": [
    "print(df.alcohol[0])\n",
    "print(df.alcohol[100])\n",
    "\n",
    "# EXPECTED OUTPUT\n",
    "# 9.4\n",
    "# 10.9"
   ]
  },
  {
   "cell_type": "markdown",
   "metadata": {
    "colab_type": "text",
    "id": "cwhuRpnVRTzG"
   },
   "source": [
    "You can plot again to see the new range of data and quality"
   ]
  },
  {
   "cell_type": "code",
   "execution_count": 25,
   "metadata": {
    "colab": {},
    "colab_type": "code",
    "id": "857ygzZiLgGg"
   },
   "outputs": [
    {
     "data": {
      "image/png": "[encoded data removed]",
      "text/plain": [
       "<Figure size 432x288 with 1 Axes>"
      ]
     },
     "metadata": {
      "needs_background": "light"
     },
     "output_type": "display_data"
    }
   ],
   "source": [
    "df['quality'].hist(bins=20);"
   ]
  },
  {
   "cell_type": "markdown",
   "metadata": {
    "colab_type": "text",
    "id": "n3k0vqSsp84t"
   },
   "source": [
    "### Train Test Split (TODO)\n",
    "\n",
    "Next, you can split the datasets into training, test and validation datasets.\n",
    "- The data frame should be split 80:20 into `train` and `test` sets.\n",
    "- The resulting `train` should then be split 80:20 into `train` and `val` sets.\n",
    "- The `train_test_split` parameter `test_size` takes a float value that ranges between 0. and 1, and represents the proportion of the dataset that is allocated to the test set.  The rest of the data is allocated to the training set."
   ]
  },
  {
   "cell_type": "code",
   "execution_count": 26,
   "metadata": {
    "colab": {},
    "colab_type": "code",
    "deletable": false,
    "id": "PAVIf2-fgRVY",
    "nbgrader": {
     "cell_type": "code",
     "checksum": "7f5738f4fb51d65adc9a8acbdf2b9970",
     "grade": false,
     "grade_id": "cell-91946cadf745206b",
     "locked": false,
     "schema_version": 3,
     "solution": true,
     "task": false
    }
   },
   "outputs": [],
   "source": [
    "## Please uncomment all lines in this cell and replace those marked with `# YOUR CODE HERE`.\n",
    "## You can select all lines in this code cell with Ctrl+A (Windows/Linux) or Cmd+A (Mac), then press Ctrl+/ (Windows/Linux) or Cmd+/ (Mac) to uncomment.\n",
    "\n",
    "\n",
    "## Please do not change the random_state parameter. This is needed for grading.\n",
    "\n",
    "# split df into 80:20 train and test sets\n",
    "train, test = train_test_split(df, test_size=0.2, random_state = 1)\n",
    "                               \n",
    "# split train into 80:20 train and val sets\n",
    "train, val = train_test_split(train, test_size=0.2, random_state = 1)"
   ]
  },
  {
   "cell_type": "code",
   "execution_count": 27,
   "metadata": {
    "colab": {},
    "colab_type": "code",
    "deletable": false,
    "editable": false,
    "id": "57h9LcEzRWpk",
    "nbgrader": {
     "cell_type": "code",
     "checksum": "42adbe9e66efac7c7a5f8cd73ac92f22",
     "grade": true,
     "grade_id": "cell-64b8b38cd0b965f6",
     "locked": true,
     "points": 1,
     "schema_version": 3,
     "solution": false,
     "task": false
    }
   },
   "outputs": [
    {
     "name": "stdout",
     "output_type": "stream",
     "text": [
      "\u001b[92m All public tests passed\n"
     ]
    }
   ],
   "source": [
    "utils.test_data_sizes(train.size, test.size, val.size)\n",
    "\n"
   ]
  },
  {
   "cell_type": "code",
   "execution_count": 28,
   "metadata": {},
   "outputs": [
    {
     "data": {
      "text/html": [
       "<div>\n",
       "<style scoped>\n",
       "    .dataframe tbody tr th:only-of-type {\n",
       "        vertical-align: middle;\n",
       "    }\n",
       "\n",
       "    .dataframe tbody tr th {\n",
       "        vertical-align: top;\n",
       "    }\n",
       "\n",
       "    .dataframe thead th {\n",
       "        text-align: right;\n",
       "    }\n",
       "</style>\n",
       "<table border=\"1\" class=\"dataframe\">\n",
       "  <thead>\n",
       "    <tr style=\"text-align: right;\">\n",
       "      <th></th>\n",
       "      <th>fixed acidity</th>\n",
       "      <th>volatile acidity</th>\n",
       "      <th>citric acid</th>\n",
       "      <th>residual sugar</th>\n",
       "      <th>chlorides</th>\n",
       "      <th>free sulfur dioxide</th>\n",
       "      <th>total sulfur dioxide</th>\n",
       "      <th>density</th>\n",
       "      <th>pH</th>\n",
       "      <th>sulphates</th>\n",
       "      <th>alcohol</th>\n",
       "      <th>quality</th>\n",
       "      <th>is_red</th>\n",
       "    </tr>\n",
       "  </thead>\n",
       "  <tbody>\n",
       "    <tr>\n",
       "      <th>225</th>\n",
       "      <td>7.5</td>\n",
       "      <td>0.65</td>\n",
       "      <td>0.18</td>\n",
       "      <td>7.0</td>\n",
       "      <td>0.088</td>\n",
       "      <td>27.0</td>\n",
       "      <td>94.0</td>\n",
       "      <td>0.99915</td>\n",
       "      <td>3.38</td>\n",
       "      <td>0.77</td>\n",
       "      <td>9.4</td>\n",
       "      <td>5</td>\n",
       "      <td>1</td>\n",
       "    </tr>\n",
       "    <tr>\n",
       "      <th>3557</th>\n",
       "      <td>6.3</td>\n",
       "      <td>0.27</td>\n",
       "      <td>0.29</td>\n",
       "      <td>12.2</td>\n",
       "      <td>0.044</td>\n",
       "      <td>59.0</td>\n",
       "      <td>196.0</td>\n",
       "      <td>0.99782</td>\n",
       "      <td>3.14</td>\n",
       "      <td>0.40</td>\n",
       "      <td>8.8</td>\n",
       "      <td>6</td>\n",
       "      <td>0</td>\n",
       "    </tr>\n",
       "    <tr>\n",
       "      <th>3825</th>\n",
       "      <td>8.8</td>\n",
       "      <td>0.27</td>\n",
       "      <td>0.25</td>\n",
       "      <td>5.0</td>\n",
       "      <td>0.024</td>\n",
       "      <td>52.0</td>\n",
       "      <td>99.0</td>\n",
       "      <td>0.99250</td>\n",
       "      <td>2.87</td>\n",
       "      <td>0.49</td>\n",
       "      <td>11.4</td>\n",
       "      <td>5</td>\n",
       "      <td>0</td>\n",
       "    </tr>\n",
       "    <tr>\n",
       "      <th>1740</th>\n",
       "      <td>6.4</td>\n",
       "      <td>0.45</td>\n",
       "      <td>0.07</td>\n",
       "      <td>1.1</td>\n",
       "      <td>0.030</td>\n",
       "      <td>10.0</td>\n",
       "      <td>131.0</td>\n",
       "      <td>0.99050</td>\n",
       "      <td>2.97</td>\n",
       "      <td>0.28</td>\n",
       "      <td>10.8</td>\n",
       "      <td>5</td>\n",
       "      <td>0</td>\n",
       "    </tr>\n",
       "    <tr>\n",
       "      <th>1221</th>\n",
       "      <td>7.2</td>\n",
       "      <td>0.53</td>\n",
       "      <td>0.13</td>\n",
       "      <td>2.0</td>\n",
       "      <td>0.058</td>\n",
       "      <td>18.0</td>\n",
       "      <td>22.0</td>\n",
       "      <td>0.99573</td>\n",
       "      <td>3.21</td>\n",
       "      <td>0.68</td>\n",
       "      <td>9.9</td>\n",
       "      <td>6</td>\n",
       "      <td>1</td>\n",
       "    </tr>\n",
       "  </tbody>\n",
       "</table>\n",
       "</div>"
      ],
      "text/plain": [
       "      fixed acidity  volatile acidity  citric acid  residual sugar  chlorides  \\\n",
       "225             7.5              0.65         0.18             7.0      0.088   \n",
       "3557            6.3              0.27         0.29            12.2      0.044   \n",
       "3825            8.8              0.27         0.25             5.0      0.024   \n",
       "1740            6.4              0.45         0.07             1.1      0.030   \n",
       "1221            7.2              0.53         0.13             2.0      0.058   \n",
       "\n",
       "      free sulfur dioxide  total sulfur dioxide  density    pH  sulphates  \\\n",
       "225                  27.0                  94.0  0.99915  3.38       0.77   \n",
       "3557                 59.0                 196.0  0.99782  3.14       0.40   \n",
       "3825                 52.0                  99.0  0.99250  2.87       0.49   \n",
       "1740                 10.0                 131.0  0.99050  2.97       0.28   \n",
       "1221                 18.0                  22.0  0.99573  3.21       0.68   \n",
       "\n",
       "      alcohol  quality  is_red  \n",
       "225       9.4        5       1  \n",
       "3557      8.8        6       0  \n",
       "3825     11.4        5       0  \n",
       "1740     10.8        5       0  \n",
       "1221      9.9        6       1  "
      ]
     },
     "execution_count": 28,
     "metadata": {},
     "output_type": "execute_result"
    }
   ],
   "source": [
    "train.head()"
   ]
  },
  {
   "cell_type": "code",
   "execution_count": 29,
   "metadata": {},
   "outputs": [
    {
     "data": {
      "text/html": [
       "<div>\n",
       "<style scoped>\n",
       "    .dataframe tbody tr th:only-of-type {\n",
       "        vertical-align: middle;\n",
       "    }\n",
       "\n",
       "    .dataframe tbody tr th {\n",
       "        vertical-align: top;\n",
       "    }\n",
       "\n",
       "    .dataframe thead th {\n",
       "        text-align: right;\n",
       "    }\n",
       "</style>\n",
       "<table border=\"1\" class=\"dataframe\">\n",
       "  <thead>\n",
       "    <tr style=\"text-align: right;\">\n",
       "      <th></th>\n",
       "      <th>fixed acidity</th>\n",
       "      <th>volatile acidity</th>\n",
       "      <th>citric acid</th>\n",
       "      <th>residual sugar</th>\n",
       "      <th>chlorides</th>\n",
       "      <th>free sulfur dioxide</th>\n",
       "      <th>total sulfur dioxide</th>\n",
       "      <th>density</th>\n",
       "      <th>pH</th>\n",
       "      <th>sulphates</th>\n",
       "      <th>alcohol</th>\n",
       "      <th>quality</th>\n",
       "      <th>is_red</th>\n",
       "    </tr>\n",
       "  </thead>\n",
       "  <tbody>\n",
       "    <tr>\n",
       "      <th>2372</th>\n",
       "      <td>6.9</td>\n",
       "      <td>0.23</td>\n",
       "      <td>0.24</td>\n",
       "      <td>14.2</td>\n",
       "      <td>0.053</td>\n",
       "      <td>19.0</td>\n",
       "      <td>94.0</td>\n",
       "      <td>0.99820</td>\n",
       "      <td>3.17</td>\n",
       "      <td>0.50</td>\n",
       "      <td>9.6</td>\n",
       "      <td>5</td>\n",
       "      <td>0</td>\n",
       "    </tr>\n",
       "    <tr>\n",
       "      <th>1900</th>\n",
       "      <td>6.6</td>\n",
       "      <td>0.21</td>\n",
       "      <td>0.31</td>\n",
       "      <td>11.4</td>\n",
       "      <td>0.039</td>\n",
       "      <td>46.0</td>\n",
       "      <td>165.0</td>\n",
       "      <td>0.99795</td>\n",
       "      <td>3.41</td>\n",
       "      <td>0.44</td>\n",
       "      <td>9.8</td>\n",
       "      <td>7</td>\n",
       "      <td>0</td>\n",
       "    </tr>\n",
       "    <tr>\n",
       "      <th>275</th>\n",
       "      <td>8.9</td>\n",
       "      <td>0.43</td>\n",
       "      <td>0.45</td>\n",
       "      <td>1.9</td>\n",
       "      <td>0.052</td>\n",
       "      <td>6.0</td>\n",
       "      <td>16.0</td>\n",
       "      <td>0.99480</td>\n",
       "      <td>3.35</td>\n",
       "      <td>0.70</td>\n",
       "      <td>12.5</td>\n",
       "      <td>6</td>\n",
       "      <td>1</td>\n",
       "    </tr>\n",
       "    <tr>\n",
       "      <th>3276</th>\n",
       "      <td>6.4</td>\n",
       "      <td>0.68</td>\n",
       "      <td>0.26</td>\n",
       "      <td>3.4</td>\n",
       "      <td>0.069</td>\n",
       "      <td>25.0</td>\n",
       "      <td>146.0</td>\n",
       "      <td>0.99347</td>\n",
       "      <td>3.18</td>\n",
       "      <td>0.40</td>\n",
       "      <td>9.3</td>\n",
       "      <td>5</td>\n",
       "      <td>0</td>\n",
       "    </tr>\n",
       "    <tr>\n",
       "      <th>2360</th>\n",
       "      <td>6.6</td>\n",
       "      <td>0.23</td>\n",
       "      <td>0.26</td>\n",
       "      <td>1.3</td>\n",
       "      <td>0.045</td>\n",
       "      <td>16.0</td>\n",
       "      <td>128.0</td>\n",
       "      <td>0.99340</td>\n",
       "      <td>3.36</td>\n",
       "      <td>0.60</td>\n",
       "      <td>10.0</td>\n",
       "      <td>6</td>\n",
       "      <td>0</td>\n",
       "    </tr>\n",
       "  </tbody>\n",
       "</table>\n",
       "</div>"
      ],
      "text/plain": [
       "      fixed acidity  volatile acidity  citric acid  residual sugar  chlorides  \\\n",
       "2372            6.9              0.23         0.24            14.2      0.053   \n",
       "1900            6.6              0.21         0.31            11.4      0.039   \n",
       "275             8.9              0.43         0.45             1.9      0.052   \n",
       "3276            6.4              0.68         0.26             3.4      0.069   \n",
       "2360            6.6              0.23         0.26             1.3      0.045   \n",
       "\n",
       "      free sulfur dioxide  total sulfur dioxide  density    pH  sulphates  \\\n",
       "2372                 19.0                  94.0  0.99820  3.17       0.50   \n",
       "1900                 46.0                 165.0  0.99795  3.41       0.44   \n",
       "275                   6.0                  16.0  0.99480  3.35       0.70   \n",
       "3276                 25.0                 146.0  0.99347  3.18       0.40   \n",
       "2360                 16.0                 128.0  0.99340  3.36       0.60   \n",
       "\n",
       "      alcohol  quality  is_red  \n",
       "2372      9.6        5       0  \n",
       "1900      9.8        7       0  \n",
       "275      12.5        6       1  \n",
       "3276      9.3        5       0  \n",
       "2360     10.0        6       0  "
      ]
     },
     "execution_count": 29,
     "metadata": {},
     "output_type": "execute_result"
    }
   ],
   "source": [
    "test.head()"
   ]
  },
  {
   "cell_type": "code",
   "execution_count": 30,
   "metadata": {},
   "outputs": [
    {
     "data": {
      "text/html": [
       "<div>\n",
       "<style scoped>\n",
       "    .dataframe tbody tr th:only-of-type {\n",
       "        vertical-align: middle;\n",
       "    }\n",
       "\n",
       "    .dataframe tbody tr th {\n",
       "        vertical-align: top;\n",
       "    }\n",
       "\n",
       "    .dataframe thead th {\n",
       "        text-align: right;\n",
       "    }\n",
       "</style>\n",
       "<table border=\"1\" class=\"dataframe\">\n",
       "  <thead>\n",
       "    <tr style=\"text-align: right;\">\n",
       "      <th></th>\n",
       "      <th>fixed acidity</th>\n",
       "      <th>volatile acidity</th>\n",
       "      <th>citric acid</th>\n",
       "      <th>residual sugar</th>\n",
       "      <th>chlorides</th>\n",
       "      <th>free sulfur dioxide</th>\n",
       "      <th>total sulfur dioxide</th>\n",
       "      <th>density</th>\n",
       "      <th>pH</th>\n",
       "      <th>sulphates</th>\n",
       "      <th>alcohol</th>\n",
       "      <th>quality</th>\n",
       "      <th>is_red</th>\n",
       "    </tr>\n",
       "  </thead>\n",
       "  <tbody>\n",
       "    <tr>\n",
       "      <th>4149</th>\n",
       "      <td>7.4</td>\n",
       "      <td>0.22</td>\n",
       "      <td>0.27</td>\n",
       "      <td>1.6</td>\n",
       "      <td>0.057</td>\n",
       "      <td>45.0</td>\n",
       "      <td>98.0</td>\n",
       "      <td>0.99299</td>\n",
       "      <td>3.29</td>\n",
       "      <td>0.44</td>\n",
       "      <td>9.9</td>\n",
       "      <td>7</td>\n",
       "      <td>0</td>\n",
       "    </tr>\n",
       "    <tr>\n",
       "      <th>4340</th>\n",
       "      <td>6.1</td>\n",
       "      <td>0.25</td>\n",
       "      <td>0.28</td>\n",
       "      <td>10.0</td>\n",
       "      <td>0.055</td>\n",
       "      <td>56.0</td>\n",
       "      <td>131.0</td>\n",
       "      <td>0.99400</td>\n",
       "      <td>3.22</td>\n",
       "      <td>0.35</td>\n",
       "      <td>10.9</td>\n",
       "      <td>6</td>\n",
       "      <td>0</td>\n",
       "    </tr>\n",
       "    <tr>\n",
       "      <th>2045</th>\n",
       "      <td>6.4</td>\n",
       "      <td>0.28</td>\n",
       "      <td>0.41</td>\n",
       "      <td>6.8</td>\n",
       "      <td>0.045</td>\n",
       "      <td>61.0</td>\n",
       "      <td>216.0</td>\n",
       "      <td>0.99520</td>\n",
       "      <td>3.09</td>\n",
       "      <td>0.46</td>\n",
       "      <td>9.4</td>\n",
       "      <td>5</td>\n",
       "      <td>0</td>\n",
       "    </tr>\n",
       "    <tr>\n",
       "      <th>1966</th>\n",
       "      <td>6.1</td>\n",
       "      <td>0.28</td>\n",
       "      <td>0.35</td>\n",
       "      <td>12.8</td>\n",
       "      <td>0.048</td>\n",
       "      <td>63.0</td>\n",
       "      <td>229.0</td>\n",
       "      <td>0.99750</td>\n",
       "      <td>3.08</td>\n",
       "      <td>0.40</td>\n",
       "      <td>8.9</td>\n",
       "      <td>5</td>\n",
       "      <td>0</td>\n",
       "    </tr>\n",
       "    <tr>\n",
       "      <th>3452</th>\n",
       "      <td>6.9</td>\n",
       "      <td>0.40</td>\n",
       "      <td>0.30</td>\n",
       "      <td>10.6</td>\n",
       "      <td>0.033</td>\n",
       "      <td>24.0</td>\n",
       "      <td>87.0</td>\n",
       "      <td>0.99265</td>\n",
       "      <td>3.15</td>\n",
       "      <td>0.45</td>\n",
       "      <td>12.8</td>\n",
       "      <td>6</td>\n",
       "      <td>0</td>\n",
       "    </tr>\n",
       "  </tbody>\n",
       "</table>\n",
       "</div>"
      ],
      "text/plain": [
       "      fixed acidity  volatile acidity  citric acid  residual sugar  chlorides  \\\n",
       "4149            7.4              0.22         0.27             1.6      0.057   \n",
       "4340            6.1              0.25         0.28            10.0      0.055   \n",
       "2045            6.4              0.28         0.41             6.8      0.045   \n",
       "1966            6.1              0.28         0.35            12.8      0.048   \n",
       "3452            6.9              0.40         0.30            10.6      0.033   \n",
       "\n",
       "      free sulfur dioxide  total sulfur dioxide  density    pH  sulphates  \\\n",
       "4149                 45.0                  98.0  0.99299  3.29       0.44   \n",
       "4340                 56.0                 131.0  0.99400  3.22       0.35   \n",
       "2045                 61.0                 216.0  0.99520  3.09       0.46   \n",
       "1966                 63.0                 229.0  0.99750  3.08       0.40   \n",
       "3452                 24.0                  87.0  0.99265  3.15       0.45   \n",
       "\n",
       "      alcohol  quality  is_red  \n",
       "4149      9.9        7       0  \n",
       "4340     10.9        6       0  \n",
       "2045      9.4        5       0  \n",
       "1966      8.9        5       0  \n",
       "3452     12.8        6       0  "
      ]
     },
     "execution_count": 30,
     "metadata": {},
     "output_type": "execute_result"
    }
   ],
   "source": [
    "val.head()"
   ]
  },
  {
   "cell_type": "markdown",
   "metadata": {
    "colab_type": "text",
    "id": "RwTNu4KFqG-K"
   },
   "source": [
    "Here's where you can explore the training stats. You can pop the labels 'is_red' and 'quality' from the data as these will be used as the labels\n"
   ]
  },
  {
   "cell_type": "code",
   "execution_count": 31,
   "metadata": {
    "colab": {},
    "colab_type": "code",
    "id": "Y_afyhhHM6WQ"
   },
   "outputs": [],
   "source": [
    "train_stats = train.describe()\n",
    "train_stats.pop('is_red')\n",
    "train_stats.pop('quality')\n",
    "train_stats = train_stats.transpose()"
   ]
  },
  {
   "cell_type": "markdown",
   "metadata": {
    "colab_type": "text",
    "id": "ahvbYm4fNqSt"
   },
   "source": [
    "Explore the training stats!"
   ]
  },
  {
   "cell_type": "code",
   "execution_count": 32,
   "metadata": {
    "colab": {},
    "colab_type": "code",
    "id": "n_gAtPjZ0otF"
   },
   "outputs": [
    {
     "data": {
      "text/html": [
       "<div>\n",
       "<style scoped>\n",
       "    .dataframe tbody tr th:only-of-type {\n",
       "        vertical-align: middle;\n",
       "    }\n",
       "\n",
       "    .dataframe tbody tr th {\n",
       "        vertical-align: top;\n",
       "    }\n",
       "\n",
       "    .dataframe thead th {\n",
       "        text-align: right;\n",
       "    }\n",
       "</style>\n",
       "<table border=\"1\" class=\"dataframe\">\n",
       "  <thead>\n",
       "    <tr style=\"text-align: right;\">\n",
       "      <th></th>\n",
       "      <th>count</th>\n",
       "      <th>mean</th>\n",
       "      <th>std</th>\n",
       "      <th>min</th>\n",
       "      <th>25%</th>\n",
       "      <th>50%</th>\n",
       "      <th>75%</th>\n",
       "      <th>max</th>\n",
       "    </tr>\n",
       "  </thead>\n",
       "  <tbody>\n",
       "    <tr>\n",
       "      <th>fixed acidity</th>\n",
       "      <td>3155.0</td>\n",
       "      <td>7.221616</td>\n",
       "      <td>1.325297</td>\n",
       "      <td>3.80000</td>\n",
       "      <td>6.40000</td>\n",
       "      <td>7.00000</td>\n",
       "      <td>7.7000</td>\n",
       "      <td>15.60000</td>\n",
       "    </tr>\n",
       "    <tr>\n",
       "      <th>volatile acidity</th>\n",
       "      <td>3155.0</td>\n",
       "      <td>0.338929</td>\n",
       "      <td>0.162476</td>\n",
       "      <td>0.08000</td>\n",
       "      <td>0.23000</td>\n",
       "      <td>0.29000</td>\n",
       "      <td>0.4000</td>\n",
       "      <td>1.24000</td>\n",
       "    </tr>\n",
       "    <tr>\n",
       "      <th>citric acid</th>\n",
       "      <td>3155.0</td>\n",
       "      <td>0.321569</td>\n",
       "      <td>0.147970</td>\n",
       "      <td>0.00000</td>\n",
       "      <td>0.25000</td>\n",
       "      <td>0.31000</td>\n",
       "      <td>0.4000</td>\n",
       "      <td>1.66000</td>\n",
       "    </tr>\n",
       "    <tr>\n",
       "      <th>residual sugar</th>\n",
       "      <td>3155.0</td>\n",
       "      <td>5.155911</td>\n",
       "      <td>4.639632</td>\n",
       "      <td>0.60000</td>\n",
       "      <td>1.80000</td>\n",
       "      <td>2.80000</td>\n",
       "      <td>7.6500</td>\n",
       "      <td>65.80000</td>\n",
       "    </tr>\n",
       "    <tr>\n",
       "      <th>chlorides</th>\n",
       "      <td>3155.0</td>\n",
       "      <td>0.056976</td>\n",
       "      <td>0.036802</td>\n",
       "      <td>0.01200</td>\n",
       "      <td>0.03800</td>\n",
       "      <td>0.04700</td>\n",
       "      <td>0.0660</td>\n",
       "      <td>0.61100</td>\n",
       "    </tr>\n",
       "    <tr>\n",
       "      <th>free sulfur dioxide</th>\n",
       "      <td>3155.0</td>\n",
       "      <td>30.388590</td>\n",
       "      <td>17.236784</td>\n",
       "      <td>1.00000</td>\n",
       "      <td>17.00000</td>\n",
       "      <td>28.00000</td>\n",
       "      <td>41.0000</td>\n",
       "      <td>131.00000</td>\n",
       "    </tr>\n",
       "    <tr>\n",
       "      <th>total sulfur dioxide</th>\n",
       "      <td>3155.0</td>\n",
       "      <td>115.062282</td>\n",
       "      <td>56.706617</td>\n",
       "      <td>6.00000</td>\n",
       "      <td>75.00000</td>\n",
       "      <td>117.00000</td>\n",
       "      <td>156.0000</td>\n",
       "      <td>344.00000</td>\n",
       "    </tr>\n",
       "    <tr>\n",
       "      <th>density</th>\n",
       "      <td>3155.0</td>\n",
       "      <td>0.994633</td>\n",
       "      <td>0.003005</td>\n",
       "      <td>0.98711</td>\n",
       "      <td>0.99232</td>\n",
       "      <td>0.99481</td>\n",
       "      <td>0.9968</td>\n",
       "      <td>1.03898</td>\n",
       "    </tr>\n",
       "    <tr>\n",
       "      <th>pH</th>\n",
       "      <td>3155.0</td>\n",
       "      <td>3.223201</td>\n",
       "      <td>0.161272</td>\n",
       "      <td>2.72000</td>\n",
       "      <td>3.11000</td>\n",
       "      <td>3.21000</td>\n",
       "      <td>3.3300</td>\n",
       "      <td>4.01000</td>\n",
       "    </tr>\n",
       "    <tr>\n",
       "      <th>sulphates</th>\n",
       "      <td>3155.0</td>\n",
       "      <td>0.534051</td>\n",
       "      <td>0.149149</td>\n",
       "      <td>0.22000</td>\n",
       "      <td>0.43000</td>\n",
       "      <td>0.51000</td>\n",
       "      <td>0.6000</td>\n",
       "      <td>1.95000</td>\n",
       "    </tr>\n",
       "    <tr>\n",
       "      <th>alcohol</th>\n",
       "      <td>3155.0</td>\n",
       "      <td>10.504466</td>\n",
       "      <td>1.154654</td>\n",
       "      <td>8.50000</td>\n",
       "      <td>9.50000</td>\n",
       "      <td>10.30000</td>\n",
       "      <td>11.3000</td>\n",
       "      <td>14.00000</td>\n",
       "    </tr>\n",
       "  </tbody>\n",
       "</table>\n",
       "</div>"
      ],
      "text/plain": [
       "                       count        mean        std      min       25%  \\\n",
       "fixed acidity         3155.0    7.221616   1.325297  3.80000   6.40000   \n",
       "volatile acidity      3155.0    0.338929   0.162476  0.08000   0.23000   \n",
       "citric acid           3155.0    0.321569   0.147970  0.00000   0.25000   \n",
       "residual sugar        3155.0    5.155911   4.639632  0.60000   1.80000   \n",
       "chlorides             3155.0    0.056976   0.036802  0.01200   0.03800   \n",
       "free sulfur dioxide   3155.0   30.388590  17.236784  1.00000  17.00000   \n",
       "total sulfur dioxide  3155.0  115.062282  56.706617  6.00000  75.00000   \n",
       "density               3155.0    0.994633   0.003005  0.98711   0.99232   \n",
       "pH                    3155.0    3.223201   0.161272  2.72000   3.11000   \n",
       "sulphates             3155.0    0.534051   0.149149  0.22000   0.43000   \n",
       "alcohol               3155.0   10.504466   1.154654  8.50000   9.50000   \n",
       "\n",
       "                            50%       75%        max  \n",
       "fixed acidity           7.00000    7.7000   15.60000  \n",
       "volatile acidity        0.29000    0.4000    1.24000  \n",
       "citric acid             0.31000    0.4000    1.66000  \n",
       "residual sugar          2.80000    7.6500   65.80000  \n",
       "chlorides               0.04700    0.0660    0.61100  \n",
       "free sulfur dioxide    28.00000   41.0000  131.00000  \n",
       "total sulfur dioxide  117.00000  156.0000  344.00000  \n",
       "density                 0.99481    0.9968    1.03898  \n",
       "pH                      3.21000    3.3300    4.01000  \n",
       "sulphates               0.51000    0.6000    1.95000  \n",
       "alcohol                10.30000   11.3000   14.00000  "
      ]
     },
     "execution_count": 32,
     "metadata": {},
     "output_type": "execute_result"
    }
   ],
   "source": [
    "train_stats"
   ]
  },
  {
   "cell_type": "markdown",
   "metadata": {
    "colab_type": "text",
    "id": "bGPvt9jir_HC"
   },
   "source": [
    "### Get the labels (TODO)\n",
    "\n",
    "The features and labels are currently in the same dataframe.\n",
    "- You will want to store the label columns `is_red` and `quality` separately from the feature columns.  \n",
    "- The following function, `format_output`, gets these two columns from the dataframe (it's given to you).\n",
    "- `format_output` also formats the data into numpy arrays. \n",
    "- Please use the `format_output` and apply it to the `train`, `val` and `test` sets to get dataframes for the labels."
   ]
  },
  {
   "cell_type": "code",
   "execution_count": 33,
   "metadata": {
    "colab": {},
    "colab_type": "code",
    "id": "Z_fs14XQqZVP"
   },
   "outputs": [],
   "source": [
    "def format_output(data):\n",
    "    is_red = data.pop('is_red')\n",
    "    is_red = np.array(is_red)\n",
    "    quality = data.pop('quality')\n",
    "    quality = np.array(quality)\n",
    "    return (quality, is_red)"
   ]
  },
  {
   "cell_type": "code",
   "execution_count": 34,
   "metadata": {
    "colab": {},
    "colab_type": "code",
    "deletable": false,
    "id": "8L3ZZe1fQicm",
    "nbgrader": {
     "cell_type": "code",
     "checksum": "7a86809e54895a816434c48dc903f55d",
     "grade": false,
     "grade_id": "cell-5c30fa2c2a354b0f",
     "locked": false,
     "schema_version": 3,
     "solution": true,
     "task": false
    }
   },
   "outputs": [],
   "source": [
    "## Please uncomment all lines in this cell and replace those marked with `# YOUR CODE HERE`.\n",
    "## You can select all lines in this code cell with Ctrl+A (Windows/Linux) or Cmd+A (Mac), then press Ctrl+/ (Windows/Linux) or Cmd+/ (Mac) to uncomment.\n",
    "\n",
    "# format the output of the train set\n",
    "train_Y = format_output(train)\n",
    "\n",
    "# format the output of the val set\n",
    "val_Y = format_output(val)\n",
    "    \n",
    "# format the output of the test set\n",
    "test_Y = format_output(test)"
   ]
  },
  {
   "cell_type": "code",
   "execution_count": 35,
   "metadata": {
    "deletable": false,
    "editable": false,
    "nbgrader": {
     "cell_type": "code",
     "checksum": "359cabbafaed14ec9bbc1e57a7b6f32c",
     "grade": true,
     "grade_id": "cell-4977d8befb80f56b",
     "locked": true,
     "points": 1,
     "schema_version": 3,
     "solution": false,
     "task": false
    }
   },
   "outputs": [
    {
     "name": "stdout",
     "output_type": "stream",
     "text": [
      "\u001b[92m All public tests passed\n"
     ]
    }
   ],
   "source": [
    "utils.test_format_output(df, train_Y, val_Y, test_Y)"
   ]
  },
  {
   "cell_type": "markdown",
   "metadata": {},
   "source": [
    "Notice that after you get the labels, the `train`, `val` and `test` dataframes no longer contain the label columns, and contain just the feature columns.\n",
    "- This is because you used `.pop` in the `format_output` function."
   ]
  },
  {
   "cell_type": "code",
   "execution_count": 36,
   "metadata": {},
   "outputs": [
    {
     "data": {
      "text/html": [
       "<div>\n",
       "<style scoped>\n",
       "    .dataframe tbody tr th:only-of-type {\n",
       "        vertical-align: middle;\n",
       "    }\n",
       "\n",
       "    .dataframe tbody tr th {\n",
       "        vertical-align: top;\n",
       "    }\n",
       "\n",
       "    .dataframe thead th {\n",
       "        text-align: right;\n",
       "    }\n",
       "</style>\n",
       "<table border=\"1\" class=\"dataframe\">\n",
       "  <thead>\n",
       "    <tr style=\"text-align: right;\">\n",
       "      <th></th>\n",
       "      <th>fixed acidity</th>\n",
       "      <th>volatile acidity</th>\n",
       "      <th>citric acid</th>\n",
       "      <th>residual sugar</th>\n",
       "      <th>chlorides</th>\n",
       "      <th>free sulfur dioxide</th>\n",
       "      <th>total sulfur dioxide</th>\n",
       "      <th>density</th>\n",
       "      <th>pH</th>\n",
       "      <th>sulphates</th>\n",
       "      <th>alcohol</th>\n",
       "    </tr>\n",
       "  </thead>\n",
       "  <tbody>\n",
       "    <tr>\n",
       "      <th>225</th>\n",
       "      <td>7.5</td>\n",
       "      <td>0.65</td>\n",
       "      <td>0.18</td>\n",
       "      <td>7.0</td>\n",
       "      <td>0.088</td>\n",
       "      <td>27.0</td>\n",
       "      <td>94.0</td>\n",
       "      <td>0.99915</td>\n",
       "      <td>3.38</td>\n",
       "      <td>0.77</td>\n",
       "      <td>9.4</td>\n",
       "    </tr>\n",
       "    <tr>\n",
       "      <th>3557</th>\n",
       "      <td>6.3</td>\n",
       "      <td>0.27</td>\n",
       "      <td>0.29</td>\n",
       "      <td>12.2</td>\n",
       "      <td>0.044</td>\n",
       "      <td>59.0</td>\n",
       "      <td>196.0</td>\n",
       "      <td>0.99782</td>\n",
       "      <td>3.14</td>\n",
       "      <td>0.40</td>\n",
       "      <td>8.8</td>\n",
       "    </tr>\n",
       "    <tr>\n",
       "      <th>3825</th>\n",
       "      <td>8.8</td>\n",
       "      <td>0.27</td>\n",
       "      <td>0.25</td>\n",
       "      <td>5.0</td>\n",
       "      <td>0.024</td>\n",
       "      <td>52.0</td>\n",
       "      <td>99.0</td>\n",
       "      <td>0.99250</td>\n",
       "      <td>2.87</td>\n",
       "      <td>0.49</td>\n",
       "      <td>11.4</td>\n",
       "    </tr>\n",
       "    <tr>\n",
       "      <th>1740</th>\n",
       "      <td>6.4</td>\n",
       "      <td>0.45</td>\n",
       "      <td>0.07</td>\n",
       "      <td>1.1</td>\n",
       "      <td>0.030</td>\n",
       "      <td>10.0</td>\n",
       "      <td>131.0</td>\n",
       "      <td>0.99050</td>\n",
       "      <td>2.97</td>\n",
       "      <td>0.28</td>\n",
       "      <td>10.8</td>\n",
       "    </tr>\n",
       "    <tr>\n",
       "      <th>1221</th>\n",
       "      <td>7.2</td>\n",
       "      <td>0.53</td>\n",
       "      <td>0.13</td>\n",
       "      <td>2.0</td>\n",
       "      <td>0.058</td>\n",
       "      <td>18.0</td>\n",
       "      <td>22.0</td>\n",
       "      <td>0.99573</td>\n",
       "      <td>3.21</td>\n",
       "      <td>0.68</td>\n",
       "      <td>9.9</td>\n",
       "    </tr>\n",
       "  </tbody>\n",
       "</table>\n",
       "</div>"
      ],
      "text/plain": [
       "      fixed acidity  volatile acidity  citric acid  residual sugar  chlorides  \\\n",
       "225             7.5              0.65         0.18             7.0      0.088   \n",
       "3557            6.3              0.27         0.29            12.2      0.044   \n",
       "3825            8.8              0.27         0.25             5.0      0.024   \n",
       "1740            6.4              0.45         0.07             1.1      0.030   \n",
       "1221            7.2              0.53         0.13             2.0      0.058   \n",
       "\n",
       "      free sulfur dioxide  total sulfur dioxide  density    pH  sulphates  \\\n",
       "225                  27.0                  94.0  0.99915  3.38       0.77   \n",
       "3557                 59.0                 196.0  0.99782  3.14       0.40   \n",
       "3825                 52.0                  99.0  0.99250  2.87       0.49   \n",
       "1740                 10.0                 131.0  0.99050  2.97       0.28   \n",
       "1221                 18.0                  22.0  0.99573  3.21       0.68   \n",
       "\n",
       "      alcohol  \n",
       "225       9.4  \n",
       "3557      8.8  \n",
       "3825     11.4  \n",
       "1740     10.8  \n",
       "1221      9.9  "
      ]
     },
     "execution_count": 36,
     "metadata": {},
     "output_type": "execute_result"
    }
   ],
   "source": [
    "train.head()"
   ]
  },
  {
   "cell_type": "code",
   "execution_count": 37,
   "metadata": {},
   "outputs": [
    {
     "name": "stdout",
     "output_type": "stream",
     "text": [
      "(array([5, 6, 5, ..., 6, 5, 5]), array([1, 0, 0, ..., 1, 1, 0]))\n"
     ]
    }
   ],
   "source": [
    "print(train_Y)"
   ]
  },
  {
   "cell_type": "markdown",
   "metadata": {
    "colab_type": "text",
    "id": "hEdbrruAsN1D"
   },
   "source": [
    "### Normalize the data (TODO)\n",
    "\n",
    "Next, you can normalize the data, x, using the formula:\n",
    "$$x_{norm} = \\frac{x - \\mu}{\\sigma}$$\n",
    "- The `norm` function is defined for you.\n",
    "- Please apply the `norm` function to normalize the dataframes that contains the feature columns of `train`, `val` and `test` sets."
   ]
  },
  {
   "cell_type": "code",
   "execution_count": 38,
   "metadata": {
    "colab": {},
    "colab_type": "code",
    "id": "WWiZPAHCLjUs"
   },
   "outputs": [],
   "source": [
    "def norm(x):\n",
    "    return (x - train_stats['mean']) / train_stats['std']"
   ]
  },
  {
   "cell_type": "code",
   "execution_count": 39,
   "metadata": {
    "colab": {},
    "colab_type": "code",
    "deletable": false,
    "id": "JEaOi2I2Lk69",
    "nbgrader": {
     "cell_type": "code",
     "checksum": "6bc0cdcb563d192f271067aa3373ff32",
     "grade": false,
     "grade_id": "cell-d8416d975c371095",
     "locked": false,
     "schema_version": 3,
     "solution": true,
     "task": false
    }
   },
   "outputs": [],
   "source": [
    "## Please uncomment all lines in this cell and replace those marked with `# YOUR CODE HERE`.\n",
    "## You can select all lines in this code cell with Ctrl+A (Windows/Linux) or Cmd+A (Mac), then press Ctrl+/ (Windows/Linux) or Cmd+/ (Mac) to uncomment.\n",
    "\n",
    "# normalize the train set\n",
    "norm_train_X = norm(train)\n",
    "    \n",
    "# normalize the val set\n",
    "norm_val_X = norm(val)\n",
    "    \n",
    "# normalize the test set\n",
    "norm_test_X = norm(test)"
   ]
  },
  {
   "cell_type": "code",
   "execution_count": 40,
   "metadata": {
    "deletable": false,
    "editable": false,
    "nbgrader": {
     "cell_type": "code",
     "checksum": "4f567db45bf40191601780379cc100b8",
     "grade": true,
     "grade_id": "cell-97fad979d157529b",
     "locked": true,
     "points": 1,
     "schema_version": 3,
     "solution": false,
     "task": false
    }
   },
   "outputs": [
    {
     "name": "stdout",
     "output_type": "stream",
     "text": [
      "\u001b[92m All public tests passed\n"
     ]
    }
   ],
   "source": [
    "utils.test_norm(norm_train_X, norm_val_X, norm_test_X, train, val, test)\n"
   ]
  },
  {
   "cell_type": "markdown",
   "metadata": {
    "colab_type": "text",
    "id": "hzykDwQhsaPO"
   },
   "source": [
    "## Define the Model (TODO)\n",
    "\n",
    "Define the model using the functional API. The base model will be 2 `Dense` layers of 128 neurons each, and have the `'relu'` activation.\n",
    "- Check out the documentation for [tf.keras.layers.Dense](https://www.tensorflow.org/api_docs/python/tf/keras/layers/Dense)"
   ]
  },
  {
   "cell_type": "code",
   "execution_count": 41,
   "metadata": {
    "colab": {},
    "colab_type": "code",
    "deletable": false,
    "id": "Rhcns3oTFkM6",
    "nbgrader": {
     "cell_type": "code",
     "checksum": "74b031247e569526552bf13a034a1c07",
     "grade": false,
     "grade_id": "cell-73fceedad1fe351c",
     "locked": false,
     "schema_version": 3,
     "solution": true,
     "task": false
    }
   },
   "outputs": [],
   "source": [
    "## Please uncomment all lines in this cell and replace those marked with `# YOUR CODE HERE`.\n",
    "## You can select all lines in this code cell with Ctrl+A (Windows/Linux) or Cmd+A (Mac), then press Ctrl+/ (Windows/Linux) or Cmd+/ (Mac) to uncomment.\n",
    "\n",
    "def base_model(inputs):   \n",
    "    # connect a Dense layer with 128 neurons and a relu activation\n",
    "    x = Dense(128, activation='relu')(inputs)\n",
    "    \n",
    "    # connect another Dense layer with 128 neurons and a relu activation\n",
    "    x = Dense(128, activation='relu')(x)\n",
    "    return x\n",
    "  "
   ]
  },
  {
   "cell_type": "code",
   "execution_count": 42,
   "metadata": {
    "deletable": false,
    "editable": false,
    "nbgrader": {
     "cell_type": "code",
     "checksum": "9255924b3def80f679616e4c851a43e1",
     "grade": true,
     "grade_id": "cell-54f742a133353d75",
     "locked": true,
     "points": 1,
     "schema_version": 3,
     "solution": false,
     "task": false
    }
   },
   "outputs": [
    {
     "name": "stdout",
     "output_type": "stream",
     "text": [
      "\u001b[92m All public tests passed\n"
     ]
    }
   ],
   "source": [
    "utils.test_base_model(base_model)"
   ]
  },
  {
   "cell_type": "markdown",
   "metadata": {
    "colab_type": "text",
    "id": "xem_fcVws6Kz"
   },
   "source": [
    "# Define output layers of the model (TODO)\n",
    "\n",
    "You will add output layers to the base model. \n",
    "- The model will need two outputs.\n",
    "\n",
    "One output layer will predict wine quality, which is a numeric value.\n",
    "- Define a `Dense` layer with 1 neuron.\n",
    "- Since this is a regression output, the activation can be left as its default value `None`.\n",
    "\n",
    "The other output layer will predict the wine type, which is either red `1` or not red `0` (white).\n",
    "- Define a `Dense` layer with 1 neuron.\n",
    "- Since there are two possible categories, you can use a sigmoid activation for binary classification.\n",
    "\n",
    "Define the `Model`\n",
    "- Define the `Model` object, and set the following parameters:\n",
    "  - `inputs`: pass in the inputs to the model as a list.\n",
    "  - `outputs`: pass in a list of the outputs that you just defined: wine quality, then wine type.\n",
    "  - **Note**: please list the wine quality before wine type in the outputs, as this will affect the calculated loss if you choose the other order."
   ]
  },
  {
   "cell_type": "code",
   "execution_count": 43,
   "metadata": {
    "colab": {},
    "colab_type": "code",
    "deletable": false,
    "id": "n5UGF8PMVLPt",
    "nbgrader": {
     "cell_type": "code",
     "checksum": "76d35b90d20cdcbb22986cd8211057de",
     "grade": false,
     "grade_id": "cell-19e285f482f021fb",
     "locked": false,
     "schema_version": 3,
     "solution": true,
     "task": false
    }
   },
   "outputs": [],
   "source": [
    "## Please uncomment all lines in this cell and replace those marked with `# YOUR CODE HERE`.\n",
    "## You can select all lines in this code cell with Ctrl+A (Windows/Linux) or Cmd+A (Mac), then press Ctrl+/ (Windows/Linux) or Cmd+/ (Mac) to uncomment.\n",
    "\n",
    "def final_model(inputs):\n",
    "    # get the base model\n",
    "    x = base_model(inputs)\n",
    "    \n",
    "    # connect the output Dense layer for regression\n",
    "    wine_quality = Dense(units='1', name='wine_quality')(x)\n",
    "    \n",
    "    # connect the output Dense layer for classification. this will use a sigmoid activation.\n",
    "    wine_type = Dense(units='1', activation='sigmoid', name='wine_type')(x)\n",
    "    \n",
    "    # define the model using the input and output layers\n",
    "    model = Model(inputs=inputs, outputs=[wine_quality, wine_type])\n",
    "    \n",
    "    return model"
   ]
  },
  {
   "cell_type": "code",
   "execution_count": 44,
   "metadata": {
    "deletable": false,
    "editable": false,
    "nbgrader": {
     "cell_type": "code",
     "checksum": "89cbf89d8ab5e2e59ecf7f63f517520a",
     "grade": true,
     "grade_id": "cell-40d050f855c817d1",
     "locked": true,
     "points": 1,
     "schema_version": 3,
     "solution": false,
     "task": false
    }
   },
   "outputs": [
    {
     "name": "stdout",
     "output_type": "stream",
     "text": [
      "\u001b[92m All public tests passed\n"
     ]
    }
   ],
   "source": [
    "utils.test_final_model(final_model)"
   ]
  },
  {
   "cell_type": "markdown",
   "metadata": {
    "colab_type": "text",
    "id": "5R0BMTsltZyu"
   },
   "source": [
    "## Compiling the Model\n",
    "\n",
    "Next, compile the model. When setting the loss parameter of `model.compile`, you're setting the loss for each of the two outputs (wine quality and wine type).\n",
    "\n",
    "To set more than one loss, use a dictionary of key-value pairs.\n",
    "- You can look at the docs for the losses [here](https://www.tensorflow.org/api_docs/python/tf/keras/losses#functions).\n",
    "    - **Note**: For the desired spelling, please look at the \"Functions\" section of the documentation and not the \"classes\" section on that same page.\n",
    "- wine_type: Since you will be performing binary classification on wine type, you should use the binary crossentropy loss function for it.  Please pass this in as a string.  \n",
    "  - **Hint**, this should be all lowercase.  In the documentation, you'll see this under the \"Functions\" section, not the \"Classes\" section.\n",
    "- wine_quality: since this is a regression output, use the mean squared error.  Please pass it in as a string, all lowercase.\n",
    "  - **Hint**: You may notice that there are two aliases for mean squared error.  Please use the shorter name.\n",
    "\n",
    "\n",
    "You will also set the metric for each of the two outputs.  Again, to set metrics for two or more outputs, use a dictionary with key value pairs.\n",
    "- The metrics documentation is linked [here](https://www.tensorflow.org/api_docs/python/tf/keras/metrics).\n",
    "- For the wine type, please set it to accuracy as a string, all lowercase.\n",
    "- For wine quality, please use the root mean squared error.  Instead of a string, you'll set it to an instance of the class [RootMeanSquaredError](https://www.tensorflow.org/api_docs/python/tf/keras/metrics/RootMeanSquaredError), which belongs to the tf.keras.metrics module.\n",
    "\n",
    "**Note**: If you see the error message \n",
    ">Exception: wine quality loss function is incorrect.\n",
    "\n",
    "- Please also check your other losses and metrics, as the error may be caused by the other three key-value pairs and not the wine quality loss."
   ]
  },
  {
   "cell_type": "code",
   "execution_count": 47,
   "metadata": {},
   "outputs": [
    {
     "data": {
      "text/plain": [
       "11"
      ]
     },
     "execution_count": 47,
     "metadata": {},
     "output_type": "execute_result"
    }
   ],
   "source": [
    "len(norm_train_X.columns)"
   ]
  },
  {
   "cell_type": "code",
   "execution_count": 48,
   "metadata": {
    "colab": {},
    "colab_type": "code",
    "deletable": false,
    "id": "LK11duUbUjmh",
    "nbgrader": {
     "cell_type": "code",
     "checksum": "22f45067ca69eb2ccadb43874dbcc27b",
     "grade": false,
     "grade_id": "cell-81afdc4dcca51d5e",
     "locked": false,
     "schema_version": 3,
     "solution": true,
     "task": false
    }
   },
   "outputs": [],
   "source": [
    "## Please uncomment all lines in this cell and replace those marked with `# YOUR CODE HERE`.\n",
    "## You can select all lines in this code cell with Ctrl+A (Windows/Linux) or Cmd+A (Mac), then press Ctrl+/ (Windows/Linux) or Cmd+/ (Mac) to uncomment.\n",
    "\n",
    "inputs = tf.keras.layers.Input(shape=(11,))\n",
    "rms = tf.keras.optimizers.RMSprop(lr=0.0001)\n",
    "model = final_model(inputs)\n",
    "\n",
    "model.compile(optimizer=rms, \n",
    "              loss = {'wine_type' : 'binary_crossentropy',\n",
    "                      'wine_quality' : 'mse'\n",
    "                      },\n",
    "              metrics = {'wine_type' : 'accuracy',\n",
    "                         'wine_quality': tf.keras.metrics.RootMeanSquaredError()\n",
    "                         }\n",
    "             )\n"
   ]
  },
  {
   "cell_type": "code",
   "execution_count": 49,
   "metadata": {
    "deletable": false,
    "editable": false,
    "nbgrader": {
     "cell_type": "code",
     "checksum": "88e02238ea5e456ff65e835cc8158054",
     "grade": true,
     "grade_id": "cell-2eeeba02391c4632",
     "locked": true,
     "points": 1,
     "schema_version": 3,
     "solution": false,
     "task": false
    }
   },
   "outputs": [
    {
     "name": "stdout",
     "output_type": "stream",
     "text": [
      "\u001b[92m All public tests passed\n"
     ]
    }
   ],
   "source": [
    "utils.test_model_compile(model)"
   ]
  },
  {
   "cell_type": "markdown",
   "metadata": {
    "colab_type": "text",
    "id": "90MpAMpWuKm-"
   },
   "source": [
    "## Training the Model\n",
    "\n",
    "Fit the model to the training inputs and outputs. \n",
    "- Check the documentation for [model.fit](https://www.tensorflow.org/api_docs/python/tf/keras/Model#fit).\n",
    "- Remember to use the normalized training set as inputs. \n",
    "- For the validation data, please use the normalized validation set."
   ]
  },
  {
   "cell_type": "code",
   "execution_count": 50,
   "metadata": {
    "colab": {},
    "colab_type": "code",
    "deletable": false,
    "id": "_eiZkle4XwiY",
    "nbgrader": {
     "cell_type": "code",
     "checksum": "2ca7664be03bfd6fd3651ae44d17b793",
     "grade": false,
     "grade_id": "cell-0bb56262896f6680",
     "locked": false,
     "schema_version": 3,
     "solution": true,
     "task": false
    }
   },
   "outputs": [
    {
     "name": "stdout",
     "output_type": "stream",
     "text": [
      "Train on 3155 samples, validate on 789 samples\n",
      "Epoch 1/180\n",
      "3155/3155 [==============================] - 1s 382us/sample - loss: 28.0855 - wine_quality_loss: 27.3571 - wine_type_loss: 0.6923 - wine_quality_root_mean_squared_error: 5.2338 - wine_type_accuracy: 0.6685 - val_loss: 20.8550 - val_wine_quality_loss: 20.2014 - val_wine_type_loss: 0.6619 - val_wine_quality_root_mean_squared_error: 4.4937 - val_wine_type_accuracy: 0.7275\n",
      "Epoch 2/180\n",
      "3155/3155 [==============================] - 0s 115us/sample - loss: 14.7097 - wine_quality_loss: 14.0771 - wine_type_loss: 0.6198 - wine_quality_root_mean_squared_error: 3.7536 - wine_type_accuracy: 0.7436 - val_loss: 9.4006 - val_wine_quality_loss: 8.8694 - val_wine_type_loss: 0.5896 - val_wine_quality_root_mean_squared_error: 2.9684 - val_wine_type_accuracy: 0.7338\n",
      "Epoch 3/180\n",
      "3155/3155 [==============================] - 0s 99us/sample - loss: 6.1618 - wine_quality_loss: 5.6132 - wine_type_loss: 0.5368 - wine_quality_root_mean_squared_error: 2.3717 - wine_type_accuracy: 0.7442 - val_loss: 3.9209 - val_wine_quality_loss: 3.5096 - val_wine_type_loss: 0.4945 - val_wine_quality_root_mean_squared_error: 1.8510 - val_wine_type_accuracy: 0.7351\n",
      "Epoch 4/180\n",
      "3155/3155 [==============================] - 0s 97us/sample - loss: 3.1820 - wine_quality_loss: 2.7441 - wine_type_loss: 0.4324 - wine_quality_root_mean_squared_error: 1.6581 - wine_type_accuracy: 0.7746 - val_loss: 2.7428 - val_wine_quality_loss: 2.4172 - val_wine_type_loss: 0.3878 - val_wine_quality_root_mean_squared_error: 1.5345 - val_wine_type_accuracy: 0.8441\n",
      "Epoch 5/180\n",
      "3155/3155 [==============================] - 0s 97us/sample - loss: 2.4715 - wine_quality_loss: 2.1368 - wine_type_loss: 0.3353 - wine_quality_root_mean_squared_error: 1.4615 - wine_type_accuracy: 0.9084 - val_loss: 2.3093 - val_wine_quality_loss: 2.0550 - val_wine_type_loss: 0.2978 - val_wine_quality_root_mean_squared_error: 1.4182 - val_wine_type_accuracy: 0.9480\n",
      "Epoch 6/180\n",
      "3155/3155 [==============================] - 0s 99us/sample - loss: 2.0992 - wine_quality_loss: 1.8399 - wine_type_loss: 0.2565 - wine_quality_root_mean_squared_error: 1.3574 - wine_type_accuracy: 0.9610 - val_loss: 2.0031 - val_wine_quality_loss: 1.8012 - val_wine_type_loss: 0.2307 - val_wine_quality_root_mean_squared_error: 1.3312 - val_wine_type_accuracy: 0.9772\n",
      "Epoch 7/180\n",
      "3155/3155 [==============================] - 0s 112us/sample - loss: 1.8584 - wine_quality_loss: 1.6545 - wine_type_loss: 0.2003 - wine_quality_root_mean_squared_error: 1.2876 - wine_type_accuracy: 0.9775 - val_loss: 1.7777 - val_wine_quality_loss: 1.6180 - val_wine_type_loss: 0.1806 - val_wine_quality_root_mean_squared_error: 1.2637 - val_wine_type_accuracy: 0.9835\n",
      "Epoch 8/180\n",
      "3155/3155 [==============================] - 0s 98us/sample - loss: 1.6679 - wine_quality_loss: 1.5067 - wine_type_loss: 0.1584 - wine_quality_root_mean_squared_error: 1.2285 - wine_type_accuracy: 0.9826 - val_loss: 1.6047 - val_wine_quality_loss: 1.4759 - val_wine_type_loss: 0.1432 - val_wine_quality_root_mean_squared_error: 1.2088 - val_wine_type_accuracy: 0.9848\n",
      "Epoch 9/180\n",
      "3155/3155 [==============================] - 0s 95us/sample - loss: 1.5102 - wine_quality_loss: 1.3817 - wine_type_loss: 0.1289 - wine_quality_root_mean_squared_error: 1.1752 - wine_type_accuracy: 0.9848 - val_loss: 1.4537 - val_wine_quality_loss: 1.3478 - val_wine_type_loss: 0.1173 - val_wine_quality_root_mean_squared_error: 1.1559 - val_wine_type_accuracy: 0.9873\n",
      "Epoch 10/180\n",
      "3155/3155 [==============================] - 0s 95us/sample - loss: 1.3944 - wine_quality_loss: 1.2842 - wine_type_loss: 0.1081 - wine_quality_root_mean_squared_error: 1.1342 - wine_type_accuracy: 0.9864 - val_loss: 1.3469 - val_wine_quality_loss: 1.2564 - val_wine_type_loss: 0.0979 - val_wine_quality_root_mean_squared_error: 1.1175 - val_wine_type_accuracy: 0.9911\n",
      "Epoch 11/180\n",
      "3155/3155 [==============================] - 0s 94us/sample - loss: 1.2924 - wine_quality_loss: 1.2000 - wine_type_loss: 0.0924 - wine_quality_root_mean_squared_error: 1.0953 - wine_type_accuracy: 0.9876 - val_loss: 1.2414 - val_wine_quality_loss: 1.1625 - val_wine_type_loss: 0.0845 - val_wine_quality_root_mean_squared_error: 1.0755 - val_wine_type_accuracy: 0.9911\n",
      "Epoch 12/180\n",
      "3155/3155 [==============================] - 0s 94us/sample - loss: 1.1991 - wine_quality_loss: 1.1171 - wine_type_loss: 0.0806 - wine_quality_root_mean_squared_error: 1.0576 - wine_type_accuracy: 0.9889 - val_loss: 1.1608 - val_wine_quality_loss: 1.0904 - val_wine_type_loss: 0.0735 - val_wine_quality_root_mean_squared_error: 1.0426 - val_wine_type_accuracy: 0.9911\n",
      "Epoch 13/180\n",
      "3155/3155 [==============================] - 0s 96us/sample - loss: 1.1235 - wine_quality_loss: 1.0507 - wine_type_loss: 0.0722 - wine_quality_root_mean_squared_error: 1.0254 - wine_type_accuracy: 0.9886 - val_loss: 1.0809 - val_wine_quality_loss: 1.0172 - val_wine_type_loss: 0.0659 - val_wine_quality_root_mean_squared_error: 1.0074 - val_wine_type_accuracy: 0.9911\n",
      "Epoch 14/180\n",
      "3155/3155 [==============================] - 0s 95us/sample - loss: 1.0565 - wine_quality_loss: 0.9909 - wine_type_loss: 0.0657 - wine_quality_root_mean_squared_error: 0.9956 - wine_type_accuracy: 0.9886 - val_loss: 1.0157 - val_wine_quality_loss: 0.9572 - val_wine_type_loss: 0.0599 - val_wine_quality_root_mean_squared_error: 0.9775 - val_wine_type_accuracy: 0.9911\n",
      "Epoch 15/180\n",
      "3155/3155 [==============================] - 0s 97us/sample - loss: 0.9972 - wine_quality_loss: 0.9382 - wine_type_loss: 0.0604 - wine_quality_root_mean_squared_error: 0.9679 - wine_type_accuracy: 0.9889 - val_loss: 0.9635 - val_wine_quality_loss: 0.9087 - val_wine_type_loss: 0.0555 - val_wine_quality_root_mean_squared_error: 0.9528 - val_wine_type_accuracy: 0.9911\n",
      "Epoch 16/180\n",
      "3155/3155 [==============================] - 0s 95us/sample - loss: 0.9429 - wine_quality_loss: 0.8864 - wine_type_loss: 0.0571 - wine_quality_root_mean_squared_error: 0.9416 - wine_type_accuracy: 0.9889 - val_loss: 0.9016 - val_wine_quality_loss: 0.8505 - val_wine_type_loss: 0.0519 - val_wine_quality_root_mean_squared_error: 0.9217 - val_wine_type_accuracy: 0.9911\n",
      "Epoch 17/180\n",
      "3155/3155 [==============================] - 0s 97us/sample - loss: 0.8867 - wine_quality_loss: 0.8333 - wine_type_loss: 0.0528 - wine_quality_root_mean_squared_error: 0.9131 - wine_type_accuracy: 0.9892 - val_loss: 0.8572 - val_wine_quality_loss: 0.8086 - val_wine_type_loss: 0.0486 - val_wine_quality_root_mean_squared_error: 0.8991 - val_wine_type_accuracy: 0.9911\n",
      "Epoch 18/180\n",
      "3155/3155 [==============================] - 0s 97us/sample - loss: 0.8417 - wine_quality_loss: 0.7915 - wine_type_loss: 0.0499 - wine_quality_root_mean_squared_error: 0.8897 - wine_type_accuracy: 0.9899 - val_loss: 0.8083 - val_wine_quality_loss: 0.7616 - val_wine_type_loss: 0.0459 - val_wine_quality_root_mean_squared_error: 0.8730 - val_wine_type_accuracy: 0.9911\n",
      "Epoch 19/180\n",
      "3155/3155 [==============================] - 0s 98us/sample - loss: 0.7975 - wine_quality_loss: 0.7496 - wine_type_loss: 0.0477 - wine_quality_root_mean_squared_error: 0.8659 - wine_type_accuracy: 0.9895 - val_loss: 0.7676 - val_wine_quality_loss: 0.7227 - val_wine_type_loss: 0.0439 - val_wine_quality_root_mean_squared_error: 0.8505 - val_wine_type_accuracy: 0.9911\n",
      "Epoch 20/180\n",
      "3155/3155 [==============================] - 0s 110us/sample - loss: 0.7596 - wine_quality_loss: 0.7132 - wine_type_loss: 0.0456 - wine_quality_root_mean_squared_error: 0.8449 - wine_type_accuracy: 0.9902 - val_loss: 0.7196 - val_wine_quality_loss: 0.6765 - val_wine_type_loss: 0.0422 - val_wine_quality_root_mean_squared_error: 0.8229 - val_wine_type_accuracy: 0.9911\n",
      "Epoch 21/180\n",
      "3155/3155 [==============================] - 0s 98us/sample - loss: 0.7198 - wine_quality_loss: 0.6752 - wine_type_loss: 0.0438 - wine_quality_root_mean_squared_error: 0.8221 - wine_type_accuracy: 0.9908 - val_loss: 0.6943 - val_wine_quality_loss: 0.6522 - val_wine_type_loss: 0.0407 - val_wine_quality_root_mean_squared_error: 0.8083 - val_wine_type_accuracy: 0.9924\n",
      "Epoch 22/180\n",
      "3155/3155 [==============================] - 0s 97us/sample - loss: 0.6875 - wine_quality_loss: 0.6453 - wine_type_loss: 0.0424 - wine_quality_root_mean_squared_error: 0.8031 - wine_type_accuracy: 0.9911 - val_loss: 0.6600 - val_wine_quality_loss: 0.6193 - val_wine_type_loss: 0.0393 - val_wine_quality_root_mean_squared_error: 0.7876 - val_wine_type_accuracy: 0.9924\n",
      "Epoch 23/180\n",
      "3155/3155 [==============================] - 0s 94us/sample - loss: 0.6567 - wine_quality_loss: 0.6154 - wine_type_loss: 0.0410 - wine_quality_root_mean_squared_error: 0.7846 - wine_type_accuracy: 0.9911 - val_loss: 0.6379 - val_wine_quality_loss: 0.5978 - val_wine_type_loss: 0.0383 - val_wine_quality_root_mean_squared_error: 0.7741 - val_wine_type_accuracy: 0.9937\n",
      "Epoch 24/180\n",
      "3155/3155 [==============================] - 0s 96us/sample - loss: 0.6274 - wine_quality_loss: 0.5870 - wine_type_loss: 0.0401 - wine_quality_root_mean_squared_error: 0.7664 - wine_type_accuracy: 0.9914 - val_loss: 0.5971 - val_wine_quality_loss: 0.5586 - val_wine_type_loss: 0.0374 - val_wine_quality_root_mean_squared_error: 0.7480 - val_wine_type_accuracy: 0.9937\n",
      "Epoch 25/180\n",
      "3155/3155 [==============================] - 0s 97us/sample - loss: 0.6010 - wine_quality_loss: 0.5623 - wine_type_loss: 0.0388 - wine_quality_root_mean_squared_error: 0.7497 - wine_type_accuracy: 0.9914 - val_loss: 0.5828 - val_wine_quality_loss: 0.5445 - val_wine_type_loss: 0.0365 - val_wine_quality_root_mean_squared_error: 0.7389 - val_wine_type_accuracy: 0.9937\n",
      "Epoch 26/180\n",
      "3155/3155 [==============================] - 0s 94us/sample - loss: 0.5771 - wine_quality_loss: 0.5396 - wine_type_loss: 0.0379 - wine_quality_root_mean_squared_error: 0.7343 - wine_type_accuracy: 0.9911 - val_loss: 0.5513 - val_wine_quality_loss: 0.5138 - val_wine_type_loss: 0.0358 - val_wine_quality_root_mean_squared_error: 0.7178 - val_wine_type_accuracy: 0.9937\n",
      "Epoch 27/180\n",
      "3155/3155 [==============================] - 0s 98us/sample - loss: 0.5537 - wine_quality_loss: 0.5165 - wine_type_loss: 0.0373 - wine_quality_root_mean_squared_error: 0.7187 - wine_type_accuracy: 0.9921 - val_loss: 0.5358 - val_wine_quality_loss: 0.4987 - val_wine_type_loss: 0.0352 - val_wine_quality_root_mean_squared_error: 0.7073 - val_wine_type_accuracy: 0.9937\n",
      "Epoch 28/180\n",
      "3155/3155 [==============================] - 0s 92us/sample - loss: 0.5344 - wine_quality_loss: 0.4972 - wine_type_loss: 0.0363 - wine_quality_root_mean_squared_error: 0.7056 - wine_type_accuracy: 0.9921 - val_loss: 0.5161 - val_wine_quality_loss: 0.4797 - val_wine_type_loss: 0.0347 - val_wine_quality_root_mean_squared_error: 0.6936 - val_wine_type_accuracy: 0.9937\n",
      "Epoch 29/180\n",
      "3155/3155 [==============================] - 0s 96us/sample - loss: 0.5148 - wine_quality_loss: 0.4807 - wine_type_loss: 0.0358 - wine_quality_root_mean_squared_error: 0.6922 - wine_type_accuracy: 0.9924 - val_loss: 0.5065 - val_wine_quality_loss: 0.4703 - val_wine_type_loss: 0.0342 - val_wine_quality_root_mean_squared_error: 0.6870 - val_wine_type_accuracy: 0.9937\n",
      "Epoch 30/180\n",
      "3155/3155 [==============================] - 0s 94us/sample - loss: 0.4977 - wine_quality_loss: 0.4621 - wine_type_loss: 0.0350 - wine_quality_root_mean_squared_error: 0.6802 - wine_type_accuracy: 0.9930 - val_loss: 0.4777 - val_wine_quality_loss: 0.4423 - val_wine_type_loss: 0.0336 - val_wine_quality_root_mean_squared_error: 0.6662 - val_wine_type_accuracy: 0.9937\n",
      "Epoch 31/180\n",
      "3155/3155 [==============================] - 0s 96us/sample - loss: 0.4802 - wine_quality_loss: 0.4458 - wine_type_loss: 0.0344 - wine_quality_root_mean_squared_error: 0.6677 - wine_type_accuracy: 0.9927 - val_loss: 0.4601 - val_wine_quality_loss: 0.4250 - val_wine_type_loss: 0.0333 - val_wine_quality_root_mean_squared_error: 0.6530 - val_wine_type_accuracy: 0.9937\n",
      "Epoch 32/180\n",
      "3155/3155 [==============================] - 0s 96us/sample - loss: 0.4668 - wine_quality_loss: 0.4332 - wine_type_loss: 0.0352 - wine_quality_root_mean_squared_error: 0.6579 - wine_type_accuracy: 0.9927 - val_loss: 0.4504 - val_wine_quality_loss: 0.4158 - val_wine_type_loss: 0.0329 - val_wine_quality_root_mean_squared_error: 0.6459 - val_wine_type_accuracy: 0.9937\n",
      "Epoch 33/180\n",
      "3155/3155 [==============================] - 0s 96us/sample - loss: 0.4532 - wine_quality_loss: 0.4201 - wine_type_loss: 0.0335 - wine_quality_root_mean_squared_error: 0.6479 - wine_type_accuracy: 0.9930 - val_loss: 0.4454 - val_wine_quality_loss: 0.4112 - val_wine_type_loss: 0.0326 - val_wine_quality_root_mean_squared_error: 0.6422 - val_wine_type_accuracy: 0.9937\n",
      "Epoch 34/180\n",
      "3155/3155 [==============================] - 0s 95us/sample - loss: 0.4408 - wine_quality_loss: 0.4079 - wine_type_loss: 0.0329 - wine_quality_root_mean_squared_error: 0.6387 - wine_type_accuracy: 0.9930 - val_loss: 0.4255 - val_wine_quality_loss: 0.3916 - val_wine_type_loss: 0.0324 - val_wine_quality_root_mean_squared_error: 0.6267 - val_wine_type_accuracy: 0.9937\n",
      "Epoch 35/180\n",
      "3155/3155 [==============================] - 0s 97us/sample - loss: 0.4313 - wine_quality_loss: 0.3987 - wine_type_loss: 0.0324 - wine_quality_root_mean_squared_error: 0.6314 - wine_type_accuracy: 0.9930 - val_loss: 0.4191 - val_wine_quality_loss: 0.3853 - val_wine_type_loss: 0.0321 - val_wine_quality_root_mean_squared_error: 0.6218 - val_wine_type_accuracy: 0.9937\n",
      "Epoch 36/180\n",
      "3155/3155 [==============================] - 0s 97us/sample - loss: 0.4216 - wine_quality_loss: 0.3901 - wine_type_loss: 0.0320 - wine_quality_root_mean_squared_error: 0.6241 - wine_type_accuracy: 0.9930 - val_loss: 0.4102 - val_wine_quality_loss: 0.3769 - val_wine_type_loss: 0.0318 - val_wine_quality_root_mean_squared_error: 0.6148 - val_wine_type_accuracy: 0.9924\n",
      "Epoch 37/180\n",
      "3155/3155 [==============================] - 0s 97us/sample - loss: 0.4128 - wine_quality_loss: 0.3801 - wine_type_loss: 0.0317 - wine_quality_root_mean_squared_error: 0.6172 - wine_type_accuracy: 0.9930 - val_loss: 0.3987 - val_wine_quality_loss: 0.3659 - val_wine_type_loss: 0.0315 - val_wine_quality_root_mean_squared_error: 0.6057 - val_wine_type_accuracy: 0.9924\n",
      "Epoch 38/180\n",
      "3155/3155 [==============================] - 0s 80us/sample - loss: 0.4044 - wine_quality_loss: 0.3734 - wine_type_loss: 0.0313 - wine_quality_root_mean_squared_error: 0.6107 - wine_type_accuracy: 0.9930 - val_loss: 0.4028 - val_wine_quality_loss: 0.3700 - val_wine_type_loss: 0.0314 - val_wine_quality_root_mean_squared_error: 0.6092 - val_wine_type_accuracy: 0.9924\n",
      "Epoch 39/180\n",
      "3155/3155 [==============================] - 0s 95us/sample - loss: 0.3986 - wine_quality_loss: 0.3673 - wine_type_loss: 0.0310 - wine_quality_root_mean_squared_error: 0.6062 - wine_type_accuracy: 0.9930 - val_loss: 0.3924 - val_wine_quality_loss: 0.3596 - val_wine_type_loss: 0.0312 - val_wine_quality_root_mean_squared_error: 0.6007 - val_wine_type_accuracy: 0.9949\n",
      "Epoch 40/180\n",
      "3155/3155 [==============================] - 0s 96us/sample - loss: 0.3908 - wine_quality_loss: 0.3598 - wine_type_loss: 0.0306 - wine_quality_root_mean_squared_error: 0.6001 - wine_type_accuracy: 0.9937 - val_loss: 0.3960 - val_wine_quality_loss: 0.3634 - val_wine_type_loss: 0.0309 - val_wine_quality_root_mean_squared_error: 0.6039 - val_wine_type_accuracy: 0.9937\n",
      "Epoch 41/180\n",
      "3155/3155 [==============================] - 0s 95us/sample - loss: 0.3875 - wine_quality_loss: 0.3570 - wine_type_loss: 0.0304 - wine_quality_root_mean_squared_error: 0.5976 - wine_type_accuracy: 0.9940 - val_loss: 0.3876 - val_wine_quality_loss: 0.3550 - val_wine_type_loss: 0.0309 - val_wine_quality_root_mean_squared_error: 0.5970 - val_wine_type_accuracy: 0.9949\n",
      "Epoch 42/180\n",
      "3155/3155 [==============================] - 0s 95us/sample - loss: 0.3815 - wine_quality_loss: 0.3512 - wine_type_loss: 0.0300 - wine_quality_root_mean_squared_error: 0.5928 - wine_type_accuracy: 0.9937 - val_loss: 0.3805 - val_wine_quality_loss: 0.3482 - val_wine_type_loss: 0.0306 - val_wine_quality_root_mean_squared_error: 0.5912 - val_wine_type_accuracy: 0.9949\n",
      "Epoch 43/180\n",
      "3155/3155 [==============================] - 0s 111us/sample - loss: 0.3771 - wine_quality_loss: 0.3474 - wine_type_loss: 0.0297 - wine_quality_root_mean_squared_error: 0.5894 - wine_type_accuracy: 0.9940 - val_loss: 0.3768 - val_wine_quality_loss: 0.3448 - val_wine_type_loss: 0.0305 - val_wine_quality_root_mean_squared_error: 0.5881 - val_wine_type_accuracy: 0.9949\n",
      "Epoch 44/180\n",
      "3155/3155 [==============================] - 0s 79us/sample - loss: 0.3734 - wine_quality_loss: 0.3442 - wine_type_loss: 0.0294 - wine_quality_root_mean_squared_error: 0.5864 - wine_type_accuracy: 0.9940 - val_loss: 0.3713 - val_wine_quality_loss: 0.3396 - val_wine_type_loss: 0.0303 - val_wine_quality_root_mean_squared_error: 0.5836 - val_wine_type_accuracy: 0.9949\n",
      "Epoch 45/180\n",
      "3155/3155 [==============================] - 0s 81us/sample - loss: 0.3693 - wine_quality_loss: 0.3402 - wine_type_loss: 0.0292 - wine_quality_root_mean_squared_error: 0.5831 - wine_type_accuracy: 0.9940 - val_loss: 0.3721 - val_wine_quality_loss: 0.3403 - val_wine_type_loss: 0.0303 - val_wine_quality_root_mean_squared_error: 0.5843 - val_wine_type_accuracy: 0.9949\n",
      "Epoch 46/180\n",
      "3155/3155 [==============================] - 0s 95us/sample - loss: 0.3657 - wine_quality_loss: 0.3370 - wine_type_loss: 0.0290 - wine_quality_root_mean_squared_error: 0.5802 - wine_type_accuracy: 0.9937 - val_loss: 0.3698 - val_wine_quality_loss: 0.3382 - val_wine_type_loss: 0.0302 - val_wine_quality_root_mean_squared_error: 0.5825 - val_wine_type_accuracy: 0.9949\n",
      "Epoch 47/180\n",
      "3155/3155 [==============================] - 0s 94us/sample - loss: 0.3628 - wine_quality_loss: 0.3344 - wine_type_loss: 0.0287 - wine_quality_root_mean_squared_error: 0.5779 - wine_type_accuracy: 0.9937 - val_loss: 0.3714 - val_wine_quality_loss: 0.3402 - val_wine_type_loss: 0.0300 - val_wine_quality_root_mean_squared_error: 0.5840 - val_wine_type_accuracy: 0.9949\n",
      "Epoch 48/180\n",
      "3155/3155 [==============================] - 0s 96us/sample - loss: 0.3591 - wine_quality_loss: 0.3304 - wine_type_loss: 0.0284 - wine_quality_root_mean_squared_error: 0.5750 - wine_type_accuracy: 0.9937 - val_loss: 0.3650 - val_wine_quality_loss: 0.3338 - val_wine_type_loss: 0.0301 - val_wine_quality_root_mean_squared_error: 0.5784 - val_wine_type_accuracy: 0.9949\n",
      "Epoch 49/180\n",
      "3155/3155 [==============================] - 0s 94us/sample - loss: 0.3575 - wine_quality_loss: 0.3285 - wine_type_loss: 0.0282 - wine_quality_root_mean_squared_error: 0.5737 - wine_type_accuracy: 0.9937 - val_loss: 0.3762 - val_wine_quality_loss: 0.3455 - val_wine_type_loss: 0.0297 - val_wine_quality_root_mean_squared_error: 0.5883 - val_wine_type_accuracy: 0.9949\n",
      "Epoch 50/180\n",
      "3155/3155 [==============================] - 0s 110us/sample - loss: 0.3551 - wine_quality_loss: 0.3269 - wine_type_loss: 0.0280 - wine_quality_root_mean_squared_error: 0.5719 - wine_type_accuracy: 0.9937 - val_loss: 0.3648 - val_wine_quality_loss: 0.3338 - val_wine_type_loss: 0.0296 - val_wine_quality_root_mean_squared_error: 0.5787 - val_wine_type_accuracy: 0.9949\n",
      "Epoch 51/180\n",
      "3155/3155 [==============================] - 0s 97us/sample - loss: 0.3514 - wine_quality_loss: 0.3240 - wine_type_loss: 0.0278 - wine_quality_root_mean_squared_error: 0.5689 - wine_type_accuracy: 0.9937 - val_loss: 0.3592 - val_wine_quality_loss: 0.3289 - val_wine_type_loss: 0.0293 - val_wine_quality_root_mean_squared_error: 0.5740 - val_wine_type_accuracy: 0.9949\n",
      "Epoch 52/180\n",
      "3155/3155 [==============================] - 0s 95us/sample - loss: 0.3509 - wine_quality_loss: 0.3234 - wine_type_loss: 0.0276 - wine_quality_root_mean_squared_error: 0.5686 - wine_type_accuracy: 0.9937 - val_loss: 0.3549 - val_wine_quality_loss: 0.3245 - val_wine_type_loss: 0.0294 - val_wine_quality_root_mean_squared_error: 0.5702 - val_wine_type_accuracy: 0.9949\n",
      "Epoch 53/180\n",
      "3155/3155 [==============================] - 0s 98us/sample - loss: 0.3476 - wine_quality_loss: 0.3203 - wine_type_loss: 0.0275 - wine_quality_root_mean_squared_error: 0.5658 - wine_type_accuracy: 0.9943 - val_loss: 0.3612 - val_wine_quality_loss: 0.3304 - val_wine_type_loss: 0.0292 - val_wine_quality_root_mean_squared_error: 0.5759 - val_wine_type_accuracy: 0.9949\n",
      "Epoch 54/180\n",
      "3155/3155 [==============================] - 0s 95us/sample - loss: 0.3471 - wine_quality_loss: 0.3201 - wine_type_loss: 0.0271 - wine_quality_root_mean_squared_error: 0.5656 - wine_type_accuracy: 0.9943 - val_loss: 0.3629 - val_wine_quality_loss: 0.3324 - val_wine_type_loss: 0.0290 - val_wine_quality_root_mean_squared_error: 0.5776 - val_wine_type_accuracy: 0.9949\n",
      "Epoch 55/180\n",
      "3155/3155 [==============================] - 0s 94us/sample - loss: 0.3452 - wine_quality_loss: 0.3178 - wine_type_loss: 0.0269 - wine_quality_root_mean_squared_error: 0.5641 - wine_type_accuracy: 0.9943 - val_loss: 0.3540 - val_wine_quality_loss: 0.3237 - val_wine_type_loss: 0.0289 - val_wine_quality_root_mean_squared_error: 0.5699 - val_wine_type_accuracy: 0.9949\n",
      "Epoch 56/180\n",
      "3155/3155 [==============================] - 0s 95us/sample - loss: 0.3429 - wine_quality_loss: 0.3175 - wine_type_loss: 0.0267 - wine_quality_root_mean_squared_error: 0.5622 - wine_type_accuracy: 0.9943 - val_loss: 0.3575 - val_wine_quality_loss: 0.3272 - val_wine_type_loss: 0.0289 - val_wine_quality_root_mean_squared_error: 0.5729 - val_wine_type_accuracy: 0.9949\n",
      "Epoch 57/180\n",
      "3155/3155 [==============================] - 0s 96us/sample - loss: 0.3407 - wine_quality_loss: 0.3137 - wine_type_loss: 0.0277 - wine_quality_root_mean_squared_error: 0.5604 - wine_type_accuracy: 0.9943 - val_loss: 0.3513 - val_wine_quality_loss: 0.3214 - val_wine_type_loss: 0.0289 - val_wine_quality_root_mean_squared_error: 0.5675 - val_wine_type_accuracy: 0.9949\n",
      "Epoch 58/180\n",
      "3155/3155 [==============================] - 0s 98us/sample - loss: 0.3393 - wine_quality_loss: 0.3128 - wine_type_loss: 0.0264 - wine_quality_root_mean_squared_error: 0.5593 - wine_type_accuracy: 0.9946 - val_loss: 0.3530 - val_wine_quality_loss: 0.3230 - val_wine_type_loss: 0.0287 - val_wine_quality_root_mean_squared_error: 0.5692 - val_wine_type_accuracy: 0.9949\n",
      "Epoch 59/180\n",
      "3155/3155 [==============================] - 0s 96us/sample - loss: 0.3386 - wine_quality_loss: 0.3128 - wine_type_loss: 0.0262 - wine_quality_root_mean_squared_error: 0.5588 - wine_type_accuracy: 0.9949 - val_loss: 0.3477 - val_wine_quality_loss: 0.3180 - val_wine_type_loss: 0.0286 - val_wine_quality_root_mean_squared_error: 0.5646 - val_wine_type_accuracy: 0.9949\n",
      "Epoch 60/180\n",
      "3155/3155 [==============================] - 0s 97us/sample - loss: 0.3361 - wine_quality_loss: 0.3096 - wine_type_loss: 0.0260 - wine_quality_root_mean_squared_error: 0.5567 - wine_type_accuracy: 0.9949 - val_loss: 0.3517 - val_wine_quality_loss: 0.3224 - val_wine_type_loss: 0.0285 - val_wine_quality_root_mean_squared_error: 0.5682 - val_wine_type_accuracy: 0.9949\n",
      "Epoch 61/180\n",
      "3155/3155 [==============================] - 0s 94us/sample - loss: 0.3359 - wine_quality_loss: 0.3096 - wine_type_loss: 0.0258 - wine_quality_root_mean_squared_error: 0.5568 - wine_type_accuracy: 0.9949 - val_loss: 0.3448 - val_wine_quality_loss: 0.3152 - val_wine_type_loss: 0.0284 - val_wine_quality_root_mean_squared_error: 0.5621 - val_wine_type_accuracy: 0.9949\n",
      "Epoch 62/180\n",
      "3155/3155 [==============================] - 0s 96us/sample - loss: 0.3342 - wine_quality_loss: 0.3086 - wine_type_loss: 0.0257 - wine_quality_root_mean_squared_error: 0.5554 - wine_type_accuracy: 0.9949 - val_loss: 0.3520 - val_wine_quality_loss: 0.3226 - val_wine_type_loss: 0.0283 - val_wine_quality_root_mean_squared_error: 0.5687 - val_wine_type_accuracy: 0.9949\n",
      "Epoch 63/180\n",
      "3155/3155 [==============================] - 0s 95us/sample - loss: 0.3329 - wine_quality_loss: 0.3074 - wine_type_loss: 0.0255 - wine_quality_root_mean_squared_error: 0.5544 - wine_type_accuracy: 0.9949 - val_loss: 0.3521 - val_wine_quality_loss: 0.3226 - val_wine_type_loss: 0.0284 - val_wine_quality_root_mean_squared_error: 0.5686 - val_wine_type_accuracy: 0.9949\n",
      "Epoch 64/180\n",
      "3155/3155 [==============================] - 0s 96us/sample - loss: 0.3319 - wine_quality_loss: 0.3068 - wine_type_loss: 0.0253 - wine_quality_root_mean_squared_error: 0.5537 - wine_type_accuracy: 0.9952 - val_loss: 0.3448 - val_wine_quality_loss: 0.3156 - val_wine_type_loss: 0.0281 - val_wine_quality_root_mean_squared_error: 0.5624 - val_wine_type_accuracy: 0.9949\n",
      "Epoch 65/180\n",
      "3155/3155 [==============================] - 0s 97us/sample - loss: 0.3299 - wine_quality_loss: 0.3042 - wine_type_loss: 0.0253 - wine_quality_root_mean_squared_error: 0.5519 - wine_type_accuracy: 0.9949 - val_loss: 0.3423 - val_wine_quality_loss: 0.3132 - val_wine_type_loss: 0.0280 - val_wine_quality_root_mean_squared_error: 0.5603 - val_wine_type_accuracy: 0.9949\n",
      "Epoch 66/180\n",
      "3155/3155 [==============================] - 0s 99us/sample - loss: 0.3300 - wine_quality_loss: 0.3045 - wine_type_loss: 0.0252 - wine_quality_root_mean_squared_error: 0.5522 - wine_type_accuracy: 0.9952 - val_loss: 0.3418 - val_wine_quality_loss: 0.3127 - val_wine_type_loss: 0.0280 - val_wine_quality_root_mean_squared_error: 0.5599 - val_wine_type_accuracy: 0.9949\n",
      "Epoch 67/180\n",
      "3155/3155 [==============================] - 0s 96us/sample - loss: 0.3284 - wine_quality_loss: 0.3034 - wine_type_loss: 0.0249 - wine_quality_root_mean_squared_error: 0.5509 - wine_type_accuracy: 0.9949 - val_loss: 0.3449 - val_wine_quality_loss: 0.3160 - val_wine_type_loss: 0.0279 - val_wine_quality_root_mean_squared_error: 0.5627 - val_wine_type_accuracy: 0.9949\n",
      "Epoch 68/180\n",
      "3155/3155 [==============================] - 0s 95us/sample - loss: 0.3273 - wine_quality_loss: 0.3021 - wine_type_loss: 0.0248 - wine_quality_root_mean_squared_error: 0.5499 - wine_type_accuracy: 0.9952 - val_loss: 0.3407 - val_wine_quality_loss: 0.3118 - val_wine_type_loss: 0.0279 - val_wine_quality_root_mean_squared_error: 0.5589 - val_wine_type_accuracy: 0.9949\n",
      "Epoch 69/180\n",
      "3155/3155 [==============================] - 0s 97us/sample - loss: 0.3262 - wine_quality_loss: 0.3021 - wine_type_loss: 0.0246 - wine_quality_root_mean_squared_error: 0.5491 - wine_type_accuracy: 0.9952 - val_loss: 0.3456 - val_wine_quality_loss: 0.3166 - val_wine_type_loss: 0.0278 - val_wine_quality_root_mean_squared_error: 0.5634 - val_wine_type_accuracy: 0.9949\n",
      "Epoch 70/180\n",
      "3155/3155 [==============================] - 0s 96us/sample - loss: 0.3268 - wine_quality_loss: 0.3022 - wine_type_loss: 0.0244 - wine_quality_root_mean_squared_error: 0.5498 - wine_type_accuracy: 0.9956 - val_loss: 0.3420 - val_wine_quality_loss: 0.3133 - val_wine_type_loss: 0.0278 - val_wine_quality_root_mean_squared_error: 0.5602 - val_wine_type_accuracy: 0.9949\n",
      "Epoch 71/180\n",
      "3155/3155 [==============================] - 0s 97us/sample - loss: 0.3248 - wine_quality_loss: 0.2999 - wine_type_loss: 0.0243 - wine_quality_root_mean_squared_error: 0.5481 - wine_type_accuracy: 0.9949 - val_loss: 0.3439 - val_wine_quality_loss: 0.3152 - val_wine_type_loss: 0.0277 - val_wine_quality_root_mean_squared_error: 0.5621 - val_wine_type_accuracy: 0.9949\n",
      "Epoch 72/180\n",
      "3155/3155 [==============================] - 0s 95us/sample - loss: 0.3245 - wine_quality_loss: 0.2995 - wine_type_loss: 0.0256 - wine_quality_root_mean_squared_error: 0.5479 - wine_type_accuracy: 0.9956 - val_loss: 0.3413 - val_wine_quality_loss: 0.3127 - val_wine_type_loss: 0.0276 - val_wine_quality_root_mean_squared_error: 0.5598 - val_wine_type_accuracy: 0.9949\n",
      "Epoch 73/180\n",
      "3155/3155 [==============================] - 0s 94us/sample - loss: 0.3230 - wine_quality_loss: 0.2991 - wine_type_loss: 0.0240 - wine_quality_root_mean_squared_error: 0.5467 - wine_type_accuracy: 0.9952 - val_loss: 0.3388 - val_wine_quality_loss: 0.3104 - val_wine_type_loss: 0.0274 - val_wine_quality_root_mean_squared_error: 0.5577 - val_wine_type_accuracy: 0.9949\n",
      "Epoch 74/180\n",
      "3155/3155 [==============================] - 0s 97us/sample - loss: 0.3217 - wine_quality_loss: 0.2976 - wine_type_loss: 0.0242 - wine_quality_root_mean_squared_error: 0.5456 - wine_type_accuracy: 0.9956 - val_loss: 0.3402 - val_wine_quality_loss: 0.3117 - val_wine_type_loss: 0.0274 - val_wine_quality_root_mean_squared_error: 0.5589 - val_wine_type_accuracy: 0.9949\n",
      "Epoch 75/180\n",
      "3155/3155 [==============================] - 0s 96us/sample - loss: 0.3215 - wine_quality_loss: 0.2971 - wine_type_loss: 0.0238 - wine_quality_root_mean_squared_error: 0.5456 - wine_type_accuracy: 0.9956 - val_loss: 0.3428 - val_wine_quality_loss: 0.3146 - val_wine_type_loss: 0.0274 - val_wine_quality_root_mean_squared_error: 0.5613 - val_wine_type_accuracy: 0.9949\n",
      "Epoch 76/180\n",
      "3155/3155 [==============================] - 0s 112us/sample - loss: 0.3199 - wine_quality_loss: 0.2962 - wine_type_loss: 0.0236 - wine_quality_root_mean_squared_error: 0.5442 - wine_type_accuracy: 0.9956 - val_loss: 0.3478 - val_wine_quality_loss: 0.3194 - val_wine_type_loss: 0.0272 - val_wine_quality_root_mean_squared_error: 0.5659 - val_wine_type_accuracy: 0.9949\n",
      "Epoch 77/180\n",
      "3155/3155 [==============================] - 0s 97us/sample - loss: 0.3198 - wine_quality_loss: 0.2957 - wine_type_loss: 0.0236 - wine_quality_root_mean_squared_error: 0.5442 - wine_type_accuracy: 0.9956 - val_loss: 0.3381 - val_wine_quality_loss: 0.3099 - val_wine_type_loss: 0.0273 - val_wine_quality_root_mean_squared_error: 0.5572 - val_wine_type_accuracy: 0.9949\n",
      "Epoch 78/180\n",
      "3155/3155 [==============================] - 0s 94us/sample - loss: 0.3175 - wine_quality_loss: 0.2943 - wine_type_loss: 0.0234 - wine_quality_root_mean_squared_error: 0.5423 - wine_type_accuracy: 0.9956 - val_loss: 0.3477 - val_wine_quality_loss: 0.3194 - val_wine_type_loss: 0.0271 - val_wine_quality_root_mean_squared_error: 0.5659 - val_wine_type_accuracy: 0.9949\n",
      "Epoch 79/180\n",
      "3155/3155 [==============================] - 0s 94us/sample - loss: 0.3184 - wine_quality_loss: 0.2946 - wine_type_loss: 0.0233 - wine_quality_root_mean_squared_error: 0.5432 - wine_type_accuracy: 0.9956 - val_loss: 0.3430 - val_wine_quality_loss: 0.3148 - val_wine_type_loss: 0.0271 - val_wine_quality_root_mean_squared_error: 0.5618 - val_wine_type_accuracy: 0.9949\n",
      "Epoch 80/180\n",
      "3155/3155 [==============================] - 0s 95us/sample - loss: 0.3172 - wine_quality_loss: 0.2939 - wine_type_loss: 0.0231 - wine_quality_root_mean_squared_error: 0.5423 - wine_type_accuracy: 0.9959 - val_loss: 0.3414 - val_wine_quality_loss: 0.3134 - val_wine_type_loss: 0.0270 - val_wine_quality_root_mean_squared_error: 0.5604 - val_wine_type_accuracy: 0.9949\n",
      "Epoch 81/180\n",
      "3155/3155 [==============================] - 0s 79us/sample - loss: 0.3155 - wine_quality_loss: 0.2923 - wine_type_loss: 0.0230 - wine_quality_root_mean_squared_error: 0.5408 - wine_type_accuracy: 0.9959 - val_loss: 0.3421 - val_wine_quality_loss: 0.3146 - val_wine_type_loss: 0.0269 - val_wine_quality_root_mean_squared_error: 0.5611 - val_wine_type_accuracy: 0.9949\n",
      "Epoch 82/180\n",
      "3155/3155 [==============================] - 0s 112us/sample - loss: 0.3165 - wine_quality_loss: 0.2938 - wine_type_loss: 0.0229 - wine_quality_root_mean_squared_error: 0.5418 - wine_type_accuracy: 0.9959 - val_loss: 0.3370 - val_wine_quality_loss: 0.3092 - val_wine_type_loss: 0.0268 - val_wine_quality_root_mean_squared_error: 0.5566 - val_wine_type_accuracy: 0.9949\n",
      "Epoch 83/180\n",
      "3155/3155 [==============================] - 0s 95us/sample - loss: 0.3158 - wine_quality_loss: 0.2930 - wine_type_loss: 0.0227 - wine_quality_root_mean_squared_error: 0.5413 - wine_type_accuracy: 0.9959 - val_loss: 0.3372 - val_wine_quality_loss: 0.3096 - val_wine_type_loss: 0.0268 - val_wine_quality_root_mean_squared_error: 0.5569 - val_wine_type_accuracy: 0.9949\n",
      "Epoch 84/180\n",
      "3155/3155 [==============================] - 0s 91us/sample - loss: 0.3141 - wine_quality_loss: 0.2918 - wine_type_loss: 0.0227 - wine_quality_root_mean_squared_error: 0.5398 - wine_type_accuracy: 0.9959 - val_loss: 0.3516 - val_wine_quality_loss: 0.3238 - val_wine_type_loss: 0.0268 - val_wine_quality_root_mean_squared_error: 0.5696 - val_wine_type_accuracy: 0.9949\n",
      "Epoch 85/180\n",
      "3155/3155 [==============================] - 0s 98us/sample - loss: 0.3141 - wine_quality_loss: 0.2917 - wine_type_loss: 0.0226 - wine_quality_root_mean_squared_error: 0.5399 - wine_type_accuracy: 0.9959 - val_loss: 0.3397 - val_wine_quality_loss: 0.3121 - val_wine_type_loss: 0.0268 - val_wine_quality_root_mean_squared_error: 0.5590 - val_wine_type_accuracy: 0.9949\n",
      "Epoch 86/180\n",
      "3155/3155 [==============================] - 0s 96us/sample - loss: 0.3132 - wine_quality_loss: 0.2913 - wine_type_loss: 0.0224 - wine_quality_root_mean_squared_error: 0.5391 - wine_type_accuracy: 0.9959 - val_loss: 0.3385 - val_wine_quality_loss: 0.3109 - val_wine_type_loss: 0.0267 - val_wine_quality_root_mean_squared_error: 0.5581 - val_wine_type_accuracy: 0.9949\n",
      "Epoch 87/180\n",
      "3155/3155 [==============================] - 0s 99us/sample - loss: 0.3119 - wine_quality_loss: 0.2894 - wine_type_loss: 0.0223 - wine_quality_root_mean_squared_error: 0.5380 - wine_type_accuracy: 0.9959 - val_loss: 0.3374 - val_wine_quality_loss: 0.3100 - val_wine_type_loss: 0.0267 - val_wine_quality_root_mean_squared_error: 0.5571 - val_wine_type_accuracy: 0.9949\n",
      "Epoch 88/180\n",
      "3155/3155 [==============================] - 0s 93us/sample - loss: 0.3109 - wine_quality_loss: 0.2881 - wine_type_loss: 0.0222 - wine_quality_root_mean_squared_error: 0.5372 - wine_type_accuracy: 0.9959 - val_loss: 0.3378 - val_wine_quality_loss: 0.3104 - val_wine_type_loss: 0.0267 - val_wine_quality_root_mean_squared_error: 0.5575 - val_wine_type_accuracy: 0.9949\n",
      "Epoch 89/180\n",
      "3155/3155 [==============================] - 0s 98us/sample - loss: 0.3109 - wine_quality_loss: 0.2890 - wine_type_loss: 0.0223 - wine_quality_root_mean_squared_error: 0.5373 - wine_type_accuracy: 0.9959 - val_loss: 0.3478 - val_wine_quality_loss: 0.3199 - val_wine_type_loss: 0.0267 - val_wine_quality_root_mean_squared_error: 0.5664 - val_wine_type_accuracy: 0.9949\n",
      "Epoch 90/180\n",
      "3155/3155 [==============================] - 0s 96us/sample - loss: 0.3109 - wine_quality_loss: 0.2887 - wine_type_loss: 0.0220 - wine_quality_root_mean_squared_error: 0.5374 - wine_type_accuracy: 0.9959 - val_loss: 0.3371 - val_wine_quality_loss: 0.3098 - val_wine_type_loss: 0.0266 - val_wine_quality_root_mean_squared_error: 0.5569 - val_wine_type_accuracy: 0.9949\n",
      "Epoch 91/180\n",
      "3155/3155 [==============================] - 0s 96us/sample - loss: 0.3098 - wine_quality_loss: 0.2881 - wine_type_loss: 0.0219 - wine_quality_root_mean_squared_error: 0.5364 - wine_type_accuracy: 0.9959 - val_loss: 0.3355 - val_wine_quality_loss: 0.3082 - val_wine_type_loss: 0.0265 - val_wine_quality_root_mean_squared_error: 0.5556 - val_wine_type_accuracy: 0.9949\n",
      "Epoch 92/180\n",
      "3155/3155 [==============================] - 0s 95us/sample - loss: 0.3092 - wine_quality_loss: 0.2872 - wine_type_loss: 0.0218 - wine_quality_root_mean_squared_error: 0.5361 - wine_type_accuracy: 0.9959 - val_loss: 0.3417 - val_wine_quality_loss: 0.3145 - val_wine_type_loss: 0.0264 - val_wine_quality_root_mean_squared_error: 0.5611 - val_wine_type_accuracy: 0.9949\n",
      "Epoch 93/180\n",
      "3155/3155 [==============================] - 0s 95us/sample - loss: 0.3092 - wine_quality_loss: 0.2874 - wine_type_loss: 0.0218 - wine_quality_root_mean_squared_error: 0.5361 - wine_type_accuracy: 0.9959 - val_loss: 0.3365 - val_wine_quality_loss: 0.3091 - val_wine_type_loss: 0.0264 - val_wine_quality_root_mean_squared_error: 0.5566 - val_wine_type_accuracy: 0.9949\n",
      "Epoch 94/180\n",
      "3155/3155 [==============================] - 0s 96us/sample - loss: 0.3089 - wine_quality_loss: 0.2873 - wine_type_loss: 0.0216 - wine_quality_root_mean_squared_error: 0.5360 - wine_type_accuracy: 0.9959 - val_loss: 0.3456 - val_wine_quality_loss: 0.3182 - val_wine_type_loss: 0.0264 - val_wine_quality_root_mean_squared_error: 0.5647 - val_wine_type_accuracy: 0.9949\n",
      "Epoch 95/180\n",
      "3155/3155 [==============================] - 0s 95us/sample - loss: 0.3083 - wine_quality_loss: 0.2866 - wine_type_loss: 0.0215 - wine_quality_root_mean_squared_error: 0.5355 - wine_type_accuracy: 0.9959 - val_loss: 0.3366 - val_wine_quality_loss: 0.3097 - val_wine_type_loss: 0.0262 - val_wine_quality_root_mean_squared_error: 0.5568 - val_wine_type_accuracy: 0.9949\n",
      "Epoch 96/180\n",
      "3155/3155 [==============================] - 0s 113us/sample - loss: 0.3076 - wine_quality_loss: 0.2859 - wine_type_loss: 0.0214 - wine_quality_root_mean_squared_error: 0.5349 - wine_type_accuracy: 0.9959 - val_loss: 0.3396 - val_wine_quality_loss: 0.3127 - val_wine_type_loss: 0.0261 - val_wine_quality_root_mean_squared_error: 0.5596 - val_wine_type_accuracy: 0.9949\n",
      "Epoch 97/180\n",
      "3155/3155 [==============================] - 0s 95us/sample - loss: 0.3070 - wine_quality_loss: 0.2858 - wine_type_loss: 0.0213 - wine_quality_root_mean_squared_error: 0.5345 - wine_type_accuracy: 0.9959 - val_loss: 0.3389 - val_wine_quality_loss: 0.3117 - val_wine_type_loss: 0.0261 - val_wine_quality_root_mean_squared_error: 0.5590 - val_wine_type_accuracy: 0.9949\n",
      "Epoch 98/180\n",
      "3155/3155 [==============================] - 0s 80us/sample - loss: 0.3063 - wine_quality_loss: 0.2850 - wine_type_loss: 0.0212 - wine_quality_root_mean_squared_error: 0.5339 - wine_type_accuracy: 0.9959 - val_loss: 0.3352 - val_wine_quality_loss: 0.3083 - val_wine_type_loss: 0.0260 - val_wine_quality_root_mean_squared_error: 0.5558 - val_wine_type_accuracy: 0.9949\n",
      "Epoch 99/180\n",
      "3155/3155 [==============================] - 0s 111us/sample - loss: 0.3050 - wine_quality_loss: 0.2836 - wine_type_loss: 0.0211 - wine_quality_root_mean_squared_error: 0.5328 - wine_type_accuracy: 0.9959 - val_loss: 0.3345 - val_wine_quality_loss: 0.3076 - val_wine_type_loss: 0.0261 - val_wine_quality_root_mean_squared_error: 0.5551 - val_wine_type_accuracy: 0.9949\n",
      "Epoch 100/180\n",
      "3155/3155 [==============================] - 0s 94us/sample - loss: 0.3047 - wine_quality_loss: 0.2836 - wine_type_loss: 0.0210 - wine_quality_root_mean_squared_error: 0.5325 - wine_type_accuracy: 0.9959 - val_loss: 0.3410 - val_wine_quality_loss: 0.3140 - val_wine_type_loss: 0.0259 - val_wine_quality_root_mean_squared_error: 0.5610 - val_wine_type_accuracy: 0.9949\n",
      "Epoch 101/180\n",
      "3155/3155 [==============================] - 0s 98us/sample - loss: 0.3049 - wine_quality_loss: 0.2839 - wine_type_loss: 0.0210 - wine_quality_root_mean_squared_error: 0.5328 - wine_type_accuracy: 0.9959 - val_loss: 0.3408 - val_wine_quality_loss: 0.3139 - val_wine_type_loss: 0.0260 - val_wine_quality_root_mean_squared_error: 0.5608 - val_wine_type_accuracy: 0.9949\n",
      "Epoch 102/180\n",
      "3155/3155 [==============================] - 0s 94us/sample - loss: 0.3044 - wine_quality_loss: 0.2834 - wine_type_loss: 0.0208 - wine_quality_root_mean_squared_error: 0.5325 - wine_type_accuracy: 0.9959 - val_loss: 0.3372 - val_wine_quality_loss: 0.3104 - val_wine_type_loss: 0.0259 - val_wine_quality_root_mean_squared_error: 0.5576 - val_wine_type_accuracy: 0.9949\n",
      "Epoch 103/180\n",
      "3155/3155 [==============================] - 0s 97us/sample - loss: 0.3036 - wine_quality_loss: 0.2830 - wine_type_loss: 0.0208 - wine_quality_root_mean_squared_error: 0.5318 - wine_type_accuracy: 0.9959 - val_loss: 0.3384 - val_wine_quality_loss: 0.3117 - val_wine_type_loss: 0.0258 - val_wine_quality_root_mean_squared_error: 0.5588 - val_wine_type_accuracy: 0.9949\n",
      "Epoch 104/180\n",
      "3155/3155 [==============================] - 0s 96us/sample - loss: 0.3015 - wine_quality_loss: 0.2810 - wine_type_loss: 0.0207 - wine_quality_root_mean_squared_error: 0.5299 - wine_type_accuracy: 0.9959 - val_loss: 0.3407 - val_wine_quality_loss: 0.3143 - val_wine_type_loss: 0.0258 - val_wine_quality_root_mean_squared_error: 0.5609 - val_wine_type_accuracy: 0.9949\n",
      "Epoch 105/180\n",
      "3155/3155 [==============================] - 0s 94us/sample - loss: 0.3017 - wine_quality_loss: 0.2810 - wine_type_loss: 0.0206 - wine_quality_root_mean_squared_error: 0.5301 - wine_type_accuracy: 0.9959 - val_loss: 0.3341 - val_wine_quality_loss: 0.3075 - val_wine_type_loss: 0.0258 - val_wine_quality_root_mean_squared_error: 0.5549 - val_wine_type_accuracy: 0.9949\n",
      "Epoch 106/180\n",
      "3155/3155 [==============================] - 0s 99us/sample - loss: 0.3019 - wine_quality_loss: 0.2816 - wine_type_loss: 0.0205 - wine_quality_root_mean_squared_error: 0.5304 - wine_type_accuracy: 0.9959 - val_loss: 0.3399 - val_wine_quality_loss: 0.3135 - val_wine_type_loss: 0.0257 - val_wine_quality_root_mean_squared_error: 0.5602 - val_wine_type_accuracy: 0.9949\n",
      "Epoch 107/180\n",
      "3155/3155 [==============================] - 0s 96us/sample - loss: 0.3017 - wine_quality_loss: 0.2814 - wine_type_loss: 0.0204 - wine_quality_root_mean_squared_error: 0.5303 - wine_type_accuracy: 0.9959 - val_loss: 0.3320 - val_wine_quality_loss: 0.3054 - val_wine_type_loss: 0.0257 - val_wine_quality_root_mean_squared_error: 0.5531 - val_wine_type_accuracy: 0.9949\n",
      "Epoch 108/180\n",
      "3155/3155 [==============================] - 0s 95us/sample - loss: 0.3007 - wine_quality_loss: 0.2797 - wine_type_loss: 0.0204 - wine_quality_root_mean_squared_error: 0.5295 - wine_type_accuracy: 0.9959 - val_loss: 0.3319 - val_wine_quality_loss: 0.3057 - val_wine_type_loss: 0.0256 - val_wine_quality_root_mean_squared_error: 0.5532 - val_wine_type_accuracy: 0.9949\n",
      "Epoch 109/180\n",
      "3155/3155 [==============================] - 0s 94us/sample - loss: 0.3000 - wine_quality_loss: 0.2796 - wine_type_loss: 0.0209 - wine_quality_root_mean_squared_error: 0.5289 - wine_type_accuracy: 0.9959 - val_loss: 0.3337 - val_wine_quality_loss: 0.3074 - val_wine_type_loss: 0.0257 - val_wine_quality_root_mean_squared_error: 0.5547 - val_wine_type_accuracy: 0.9949\n",
      "Epoch 110/180\n",
      "3155/3155 [==============================] - 0s 96us/sample - loss: 0.2993 - wine_quality_loss: 0.2794 - wine_type_loss: 0.0202 - wine_quality_root_mean_squared_error: 0.5283 - wine_type_accuracy: 0.9959 - val_loss: 0.3331 - val_wine_quality_loss: 0.3069 - val_wine_type_loss: 0.0255 - val_wine_quality_root_mean_squared_error: 0.5543 - val_wine_type_accuracy: 0.9949\n",
      "Epoch 111/180\n",
      "3155/3155 [==============================] - 0s 94us/sample - loss: 0.2994 - wine_quality_loss: 0.2799 - wine_type_loss: 0.0200 - wine_quality_root_mean_squared_error: 0.5285 - wine_type_accuracy: 0.9959 - val_loss: 0.3360 - val_wine_quality_loss: 0.3096 - val_wine_type_loss: 0.0255 - val_wine_quality_root_mean_squared_error: 0.5569 - val_wine_type_accuracy: 0.9949\n",
      "Epoch 112/180\n",
      "3155/3155 [==============================] - 0s 96us/sample - loss: 0.2992 - wine_quality_loss: 0.2790 - wine_type_loss: 0.0200 - wine_quality_root_mean_squared_error: 0.5283 - wine_type_accuracy: 0.9959 - val_loss: 0.3351 - val_wine_quality_loss: 0.3089 - val_wine_type_loss: 0.0254 - val_wine_quality_root_mean_squared_error: 0.5562 - val_wine_type_accuracy: 0.9949\n",
      "Epoch 113/180\n",
      "3155/3155 [==============================] - 0s 96us/sample - loss: 0.2988 - wine_quality_loss: 0.2788 - wine_type_loss: 0.0199 - wine_quality_root_mean_squared_error: 0.5281 - wine_type_accuracy: 0.9959 - val_loss: 0.3327 - val_wine_quality_loss: 0.3065 - val_wine_type_loss: 0.0255 - val_wine_quality_root_mean_squared_error: 0.5540 - val_wine_type_accuracy: 0.9949\n",
      "Epoch 114/180\n",
      "3155/3155 [==============================] - 0s 97us/sample - loss: 0.2987 - wine_quality_loss: 0.2784 - wine_type_loss: 0.0198 - wine_quality_root_mean_squared_error: 0.5280 - wine_type_accuracy: 0.9959 - val_loss: 0.3351 - val_wine_quality_loss: 0.3089 - val_wine_type_loss: 0.0253 - val_wine_quality_root_mean_squared_error: 0.5562 - val_wine_type_accuracy: 0.9949\n",
      "Epoch 115/180\n",
      "3155/3155 [==============================] - 0s 94us/sample - loss: 0.2977 - wine_quality_loss: 0.2780 - wine_type_loss: 0.0197 - wine_quality_root_mean_squared_error: 0.5272 - wine_type_accuracy: 0.9959 - val_loss: 0.3299 - val_wine_quality_loss: 0.3038 - val_wine_type_loss: 0.0252 - val_wine_quality_root_mean_squared_error: 0.5516 - val_wine_type_accuracy: 0.9949\n",
      "Epoch 116/180\n",
      "3155/3155 [==============================] - 0s 114us/sample - loss: 0.2964 - wine_quality_loss: 0.2766 - wine_type_loss: 0.0196 - wine_quality_root_mean_squared_error: 0.5261 - wine_type_accuracy: 0.9959 - val_loss: 0.3426 - val_wine_quality_loss: 0.3162 - val_wine_type_loss: 0.0253 - val_wine_quality_root_mean_squared_error: 0.5630 - val_wine_type_accuracy: 0.9949\n",
      "Epoch 117/180\n",
      "3155/3155 [==============================] - 0s 97us/sample - loss: 0.2966 - wine_quality_loss: 0.2765 - wine_type_loss: 0.0196 - wine_quality_root_mean_squared_error: 0.5263 - wine_type_accuracy: 0.9959 - val_loss: 0.3324 - val_wine_quality_loss: 0.3065 - val_wine_type_loss: 0.0253 - val_wine_quality_root_mean_squared_error: 0.5539 - val_wine_type_accuracy: 0.9949\n",
      "Epoch 118/180\n",
      "3155/3155 [==============================] - 0s 98us/sample - loss: 0.2963 - wine_quality_loss: 0.2766 - wine_type_loss: 0.0195 - wine_quality_root_mean_squared_error: 0.5261 - wine_type_accuracy: 0.9959 - val_loss: 0.3455 - val_wine_quality_loss: 0.3191 - val_wine_type_loss: 0.0253 - val_wine_quality_root_mean_squared_error: 0.5656 - val_wine_type_accuracy: 0.9949\n",
      "Epoch 119/180\n",
      "3155/3155 [==============================] - 0s 95us/sample - loss: 0.2959 - wine_quality_loss: 0.2767 - wine_type_loss: 0.0194 - wine_quality_root_mean_squared_error: 0.5257 - wine_type_accuracy: 0.9959 - val_loss: 0.3405 - val_wine_quality_loss: 0.3145 - val_wine_type_loss: 0.0253 - val_wine_quality_root_mean_squared_error: 0.5611 - val_wine_type_accuracy: 0.9949\n",
      "Epoch 120/180\n",
      "3155/3155 [==============================] - 0s 96us/sample - loss: 0.2950 - wine_quality_loss: 0.2763 - wine_type_loss: 0.0193 - wine_quality_root_mean_squared_error: 0.5250 - wine_type_accuracy: 0.9959 - val_loss: 0.3358 - val_wine_quality_loss: 0.3099 - val_wine_type_loss: 0.0252 - val_wine_quality_root_mean_squared_error: 0.5571 - val_wine_type_accuracy: 0.9949\n",
      "Epoch 121/180\n",
      "3155/3155 [==============================] - 0s 94us/sample - loss: 0.2943 - wine_quality_loss: 0.2748 - wine_type_loss: 0.0205 - wine_quality_root_mean_squared_error: 0.5244 - wine_type_accuracy: 0.9959 - val_loss: 0.3422 - val_wine_quality_loss: 0.3160 - val_wine_type_loss: 0.0251 - val_wine_quality_root_mean_squared_error: 0.5628 - val_wine_type_accuracy: 0.9949\n",
      "Epoch 122/180\n",
      "3155/3155 [==============================] - 0s 96us/sample - loss: 0.2950 - wine_quality_loss: 0.2757 - wine_type_loss: 0.0192 - wine_quality_root_mean_squared_error: 0.5251 - wine_type_accuracy: 0.9959 - val_loss: 0.3333 - val_wine_quality_loss: 0.3074 - val_wine_type_loss: 0.0250 - val_wine_quality_root_mean_squared_error: 0.5550 - val_wine_type_accuracy: 0.9949\n",
      "Epoch 123/180\n",
      "3155/3155 [==============================] - 0s 95us/sample - loss: 0.2947 - wine_quality_loss: 0.2757 - wine_type_loss: 0.0191 - wine_quality_root_mean_squared_error: 0.5249 - wine_type_accuracy: 0.9959 - val_loss: 0.3352 - val_wine_quality_loss: 0.3094 - val_wine_type_loss: 0.0251 - val_wine_quality_root_mean_squared_error: 0.5566 - val_wine_type_accuracy: 0.9949\n",
      "Epoch 124/180\n",
      "3155/3155 [==============================] - 0s 93us/sample - loss: 0.2933 - wine_quality_loss: 0.2737 - wine_type_loss: 0.0190 - wine_quality_root_mean_squared_error: 0.5236 - wine_type_accuracy: 0.9959 - val_loss: 0.3395 - val_wine_quality_loss: 0.3137 - val_wine_type_loss: 0.0250 - val_wine_quality_root_mean_squared_error: 0.5605 - val_wine_type_accuracy: 0.9949\n",
      "Epoch 125/180\n",
      "3155/3155 [==============================] - 0s 93us/sample - loss: 0.2935 - wine_quality_loss: 0.2742 - wine_type_loss: 0.0189 - wine_quality_root_mean_squared_error: 0.5240 - wine_type_accuracy: 0.9959 - val_loss: 0.3321 - val_wine_quality_loss: 0.3066 - val_wine_type_loss: 0.0250 - val_wine_quality_root_mean_squared_error: 0.5538 - val_wine_type_accuracy: 0.9949\n",
      "Epoch 126/180\n",
      "3155/3155 [==============================] - 0s 92us/sample - loss: 0.2924 - wine_quality_loss: 0.2739 - wine_type_loss: 0.0188 - wine_quality_root_mean_squared_error: 0.5230 - wine_type_accuracy: 0.9959 - val_loss: 0.3402 - val_wine_quality_loss: 0.3143 - val_wine_type_loss: 0.0250 - val_wine_quality_root_mean_squared_error: 0.5611 - val_wine_type_accuracy: 0.9949\n",
      "Epoch 127/180\n",
      "3155/3155 [==============================] - 0s 95us/sample - loss: 0.2926 - wine_quality_loss: 0.2735 - wine_type_loss: 0.0187 - wine_quality_root_mean_squared_error: 0.5233 - wine_type_accuracy: 0.9959 - val_loss: 0.3362 - val_wine_quality_loss: 0.3106 - val_wine_type_loss: 0.0249 - val_wine_quality_root_mean_squared_error: 0.5576 - val_wine_type_accuracy: 0.9949\n",
      "Epoch 128/180\n",
      "3155/3155 [==============================] - 0s 95us/sample - loss: 0.2920 - wine_quality_loss: 0.2734 - wine_type_loss: 0.0187 - wine_quality_root_mean_squared_error: 0.5227 - wine_type_accuracy: 0.9959 - val_loss: 0.3341 - val_wine_quality_loss: 0.3084 - val_wine_type_loss: 0.0249 - val_wine_quality_root_mean_squared_error: 0.5557 - val_wine_type_accuracy: 0.9949\n",
      "Epoch 129/180\n",
      "3155/3155 [==============================] - 0s 92us/sample - loss: 0.2920 - wine_quality_loss: 0.2737 - wine_type_loss: 0.0186 - wine_quality_root_mean_squared_error: 0.5228 - wine_type_accuracy: 0.9959 - val_loss: 0.3351 - val_wine_quality_loss: 0.3094 - val_wine_type_loss: 0.0249 - val_wine_quality_root_mean_squared_error: 0.5567 - val_wine_type_accuracy: 0.9949\n",
      "Epoch 130/180\n",
      "3155/3155 [==============================] - 0s 80us/sample - loss: 0.2907 - wine_quality_loss: 0.2722 - wine_type_loss: 0.0186 - wine_quality_root_mean_squared_error: 0.5216 - wine_type_accuracy: 0.9959 - val_loss: 0.3319 - val_wine_quality_loss: 0.3063 - val_wine_type_loss: 0.0248 - val_wine_quality_root_mean_squared_error: 0.5539 - val_wine_type_accuracy: 0.9949\n",
      "Epoch 131/180\n",
      "3155/3155 [==============================] - 0s 94us/sample - loss: 0.2898 - wine_quality_loss: 0.2712 - wine_type_loss: 0.0184 - wine_quality_root_mean_squared_error: 0.5209 - wine_type_accuracy: 0.9959 - val_loss: 0.3428 - val_wine_quality_loss: 0.3170 - val_wine_type_loss: 0.0250 - val_wine_quality_root_mean_squared_error: 0.5635 - val_wine_type_accuracy: 0.9949\n",
      "Epoch 132/180\n",
      "3155/3155 [==============================] - 0s 95us/sample - loss: 0.2896 - wine_quality_loss: 0.2710 - wine_type_loss: 0.0184 - wine_quality_root_mean_squared_error: 0.5207 - wine_type_accuracy: 0.9959 - val_loss: 0.3416 - val_wine_quality_loss: 0.3157 - val_wine_type_loss: 0.0248 - val_wine_quality_root_mean_squared_error: 0.5625 - val_wine_type_accuracy: 0.9949\n",
      "Epoch 133/180\n",
      "3155/3155 [==============================] - 0s 97us/sample - loss: 0.2899 - wine_quality_loss: 0.2719 - wine_type_loss: 0.0183 - wine_quality_root_mean_squared_error: 0.5210 - wine_type_accuracy: 0.9959 - val_loss: 0.3321 - val_wine_quality_loss: 0.3066 - val_wine_type_loss: 0.0248 - val_wine_quality_root_mean_squared_error: 0.5541 - val_wine_type_accuracy: 0.9949\n",
      "Epoch 134/180\n",
      "3155/3155 [==============================] - 0s 95us/sample - loss: 0.2890 - wine_quality_loss: 0.2707 - wine_type_loss: 0.0183 - wine_quality_root_mean_squared_error: 0.5203 - wine_type_accuracy: 0.9959 - val_loss: 0.3332 - val_wine_quality_loss: 0.3079 - val_wine_type_loss: 0.0247 - val_wine_quality_root_mean_squared_error: 0.5552 - val_wine_type_accuracy: 0.9949\n",
      "Epoch 135/180\n",
      "3155/3155 [==============================] - 0s 98us/sample - loss: 0.2897 - wine_quality_loss: 0.2711 - wine_type_loss: 0.0182 - wine_quality_root_mean_squared_error: 0.5210 - wine_type_accuracy: 0.9959 - val_loss: 0.3308 - val_wine_quality_loss: 0.3054 - val_wine_type_loss: 0.0247 - val_wine_quality_root_mean_squared_error: 0.5529 - val_wine_type_accuracy: 0.9949\n",
      "Epoch 136/180\n",
      "3155/3155 [==============================] - 0s 94us/sample - loss: 0.2885 - wine_quality_loss: 0.2700 - wine_type_loss: 0.0181 - wine_quality_root_mean_squared_error: 0.5200 - wine_type_accuracy: 0.9959 - val_loss: 0.3413 - val_wine_quality_loss: 0.3157 - val_wine_type_loss: 0.0246 - val_wine_quality_root_mean_squared_error: 0.5625 - val_wine_type_accuracy: 0.9949\n",
      "Epoch 137/180\n",
      "3155/3155 [==============================] - 0s 96us/sample - loss: 0.2885 - wine_quality_loss: 0.2701 - wine_type_loss: 0.0180 - wine_quality_root_mean_squared_error: 0.5200 - wine_type_accuracy: 0.9959 - val_loss: 0.3342 - val_wine_quality_loss: 0.3087 - val_wine_type_loss: 0.0247 - val_wine_quality_root_mean_squared_error: 0.5560 - val_wine_type_accuracy: 0.9949\n",
      "Epoch 138/180\n",
      "3155/3155 [==============================] - 0s 93us/sample - loss: 0.2868 - wine_quality_loss: 0.2691 - wine_type_loss: 0.0180 - wine_quality_root_mean_squared_error: 0.5184 - wine_type_accuracy: 0.9959 - val_loss: 0.3456 - val_wine_quality_loss: 0.3198 - val_wine_type_loss: 0.0247 - val_wine_quality_root_mean_squared_error: 0.5662 - val_wine_type_accuracy: 0.9949\n",
      "Epoch 139/180\n",
      "3155/3155 [==============================] - 0s 96us/sample - loss: 0.2874 - wine_quality_loss: 0.2699 - wine_type_loss: 0.0179 - wine_quality_root_mean_squared_error: 0.5191 - wine_type_accuracy: 0.9959 - val_loss: 0.3364 - val_wine_quality_loss: 0.3111 - val_wine_type_loss: 0.0246 - val_wine_quality_root_mean_squared_error: 0.5581 - val_wine_type_accuracy: 0.9949\n",
      "Epoch 140/180\n",
      "3155/3155 [==============================] - 0s 94us/sample - loss: 0.2871 - wine_quality_loss: 0.2694 - wine_type_loss: 0.0179 - wine_quality_root_mean_squared_error: 0.5189 - wine_type_accuracy: 0.9959 - val_loss: 0.3310 - val_wine_quality_loss: 0.3058 - val_wine_type_loss: 0.0245 - val_wine_quality_root_mean_squared_error: 0.5533 - val_wine_type_accuracy: 0.9949\n",
      "Epoch 141/180\n",
      "3155/3155 [==============================] - 0s 96us/sample - loss: 0.2873 - wine_quality_loss: 0.2701 - wine_type_loss: 0.0177 - wine_quality_root_mean_squared_error: 0.5192 - wine_type_accuracy: 0.9959 - val_loss: 0.3334 - val_wine_quality_loss: 0.3084 - val_wine_type_loss: 0.0245 - val_wine_quality_root_mean_squared_error: 0.5555 - val_wine_type_accuracy: 0.9949\n",
      "Epoch 142/180\n",
      "3155/3155 [==============================] - 0s 93us/sample - loss: 0.2861 - wine_quality_loss: 0.2680 - wine_type_loss: 0.0177 - wine_quality_root_mean_squared_error: 0.5180 - wine_type_accuracy: 0.9959 - val_loss: 0.3530 - val_wine_quality_loss: 0.3274 - val_wine_type_loss: 0.0246 - val_wine_quality_root_mean_squared_error: 0.5728 - val_wine_type_accuracy: 0.9949\n",
      "Epoch 143/180\n",
      "3155/3155 [==============================] - 0s 94us/sample - loss: 0.2866 - wine_quality_loss: 0.2688 - wine_type_loss: 0.0177 - wine_quality_root_mean_squared_error: 0.5185 - wine_type_accuracy: 0.9959 - val_loss: 0.3291 - val_wine_quality_loss: 0.3040 - val_wine_type_loss: 0.0245 - val_wine_quality_root_mean_squared_error: 0.5515 - val_wine_type_accuracy: 0.9949\n",
      "Epoch 144/180\n",
      "3155/3155 [==============================] - 0s 94us/sample - loss: 0.2865 - wine_quality_loss: 0.2689 - wine_type_loss: 0.0176 - wine_quality_root_mean_squared_error: 0.5185 - wine_type_accuracy: 0.9959 - val_loss: 0.3312 - val_wine_quality_loss: 0.3061 - val_wine_type_loss: 0.0245 - val_wine_quality_root_mean_squared_error: 0.5535 - val_wine_type_accuracy: 0.9949\n",
      "Epoch 145/180\n",
      "3155/3155 [==============================] - 0s 92us/sample - loss: 0.2848 - wine_quality_loss: 0.2669 - wine_type_loss: 0.0179 - wine_quality_root_mean_squared_error: 0.5170 - wine_type_accuracy: 0.9959 - val_loss: 0.3383 - val_wine_quality_loss: 0.3131 - val_wine_type_loss: 0.0246 - val_wine_quality_root_mean_squared_error: 0.5599 - val_wine_type_accuracy: 0.9949\n",
      "Epoch 146/180\n",
      "3155/3155 [==============================] - 0s 97us/sample - loss: 0.2848 - wine_quality_loss: 0.2676 - wine_type_loss: 0.0175 - wine_quality_root_mean_squared_error: 0.5169 - wine_type_accuracy: 0.9962 - val_loss: 0.3370 - val_wine_quality_loss: 0.3117 - val_wine_type_loss: 0.0244 - val_wine_quality_root_mean_squared_error: 0.5588 - val_wine_type_accuracy: 0.9949\n",
      "Epoch 147/180\n",
      "3155/3155 [==============================] - 0s 94us/sample - loss: 0.2847 - wine_quality_loss: 0.2671 - wine_type_loss: 0.0174 - wine_quality_root_mean_squared_error: 0.5170 - wine_type_accuracy: 0.9959 - val_loss: 0.3323 - val_wine_quality_loss: 0.3073 - val_wine_type_loss: 0.0244 - val_wine_quality_root_mean_squared_error: 0.5546 - val_wine_type_accuracy: 0.9949\n",
      "Epoch 148/180\n",
      "3155/3155 [==============================] - 0s 93us/sample - loss: 0.2828 - wine_quality_loss: 0.2650 - wine_type_loss: 0.0174 - wine_quality_root_mean_squared_error: 0.5152 - wine_type_accuracy: 0.9959 - val_loss: 0.3343 - val_wine_quality_loss: 0.3092 - val_wine_type_loss: 0.0245 - val_wine_quality_root_mean_squared_error: 0.5564 - val_wine_type_accuracy: 0.9949\n",
      "Epoch 149/180\n",
      "3155/3155 [==============================] - 0s 96us/sample - loss: 0.2829 - wine_quality_loss: 0.2651 - wine_type_loss: 0.0173 - wine_quality_root_mean_squared_error: 0.5153 - wine_type_accuracy: 0.9959 - val_loss: 0.3302 - val_wine_quality_loss: 0.3052 - val_wine_type_loss: 0.0244 - val_wine_quality_root_mean_squared_error: 0.5527 - val_wine_type_accuracy: 0.9949\n",
      "Epoch 150/180\n",
      "3155/3155 [==============================] - 0s 79us/sample - loss: 0.2832 - wine_quality_loss: 0.2662 - wine_type_loss: 0.0172 - wine_quality_root_mean_squared_error: 0.5157 - wine_type_accuracy: 0.9959 - val_loss: 0.3321 - val_wine_quality_loss: 0.3069 - val_wine_type_loss: 0.0243 - val_wine_quality_root_mean_squared_error: 0.5545 - val_wine_type_accuracy: 0.9949\n",
      "Epoch 151/180\n",
      "3155/3155 [==============================] - 0s 79us/sample - loss: 0.2818 - wine_quality_loss: 0.2645 - wine_type_loss: 0.0171 - wine_quality_root_mean_squared_error: 0.5144 - wine_type_accuracy: 0.9959 - val_loss: 0.3378 - val_wine_quality_loss: 0.3129 - val_wine_type_loss: 0.0243 - val_wine_quality_root_mean_squared_error: 0.5596 - val_wine_type_accuracy: 0.9949\n",
      "Epoch 152/180\n",
      "3155/3155 [==============================] - 0s 96us/sample - loss: 0.2813 - wine_quality_loss: 0.2638 - wine_type_loss: 0.0171 - wine_quality_root_mean_squared_error: 0.5140 - wine_type_accuracy: 0.9959 - val_loss: 0.3313 - val_wine_quality_loss: 0.3065 - val_wine_type_loss: 0.0243 - val_wine_quality_root_mean_squared_error: 0.5538 - val_wine_type_accuracy: 0.9949\n",
      "Epoch 153/180\n",
      "3155/3155 [==============================] - 0s 110us/sample - loss: 0.2820 - wine_quality_loss: 0.2652 - wine_type_loss: 0.0170 - wine_quality_root_mean_squared_error: 0.5147 - wine_type_accuracy: 0.9962 - val_loss: 0.3375 - val_wine_quality_loss: 0.3124 - val_wine_type_loss: 0.0243 - val_wine_quality_root_mean_squared_error: 0.5594 - val_wine_type_accuracy: 0.9949\n",
      "Epoch 154/180\n",
      "3155/3155 [==============================] - 0s 99us/sample - loss: 0.2818 - wine_quality_loss: 0.2648 - wine_type_loss: 0.0170 - wine_quality_root_mean_squared_error: 0.5146 - wine_type_accuracy: 0.9962 - val_loss: 0.3312 - val_wine_quality_loss: 0.3063 - val_wine_type_loss: 0.0242 - val_wine_quality_root_mean_squared_error: 0.5537 - val_wine_type_accuracy: 0.9949\n",
      "Epoch 155/180\n",
      "3155/3155 [==============================] - 0s 93us/sample - loss: 0.2815 - wine_quality_loss: 0.2640 - wine_type_loss: 0.0169 - wine_quality_root_mean_squared_error: 0.5144 - wine_type_accuracy: 0.9962 - val_loss: 0.3336 - val_wine_quality_loss: 0.3087 - val_wine_type_loss: 0.0242 - val_wine_quality_root_mean_squared_error: 0.5560 - val_wine_type_accuracy: 0.9949\n",
      "Epoch 156/180\n",
      "3155/3155 [==============================] - 0s 93us/sample - loss: 0.2813 - wine_quality_loss: 0.2646 - wine_type_loss: 0.0169 - wine_quality_root_mean_squared_error: 0.5142 - wine_type_accuracy: 0.9962 - val_loss: 0.3329 - val_wine_quality_loss: 0.3079 - val_wine_type_loss: 0.0242 - val_wine_quality_root_mean_squared_error: 0.5554 - val_wine_type_accuracy: 0.9949\n",
      "Epoch 157/180\n",
      "3155/3155 [==============================] - 0s 96us/sample - loss: 0.2799 - wine_quality_loss: 0.2626 - wine_type_loss: 0.0168 - wine_quality_root_mean_squared_error: 0.5129 - wine_type_accuracy: 0.9962 - val_loss: 0.3341 - val_wine_quality_loss: 0.3091 - val_wine_type_loss: 0.0242 - val_wine_quality_root_mean_squared_error: 0.5564 - val_wine_type_accuracy: 0.9949\n",
      "Epoch 158/180\n",
      "3155/3155 [==============================] - 0s 77us/sample - loss: 0.2801 - wine_quality_loss: 0.2641 - wine_type_loss: 0.0167 - wine_quality_root_mean_squared_error: 0.5132 - wine_type_accuracy: 0.9962 - val_loss: 0.3288 - val_wine_quality_loss: 0.3038 - val_wine_type_loss: 0.0242 - val_wine_quality_root_mean_squared_error: 0.5516 - val_wine_type_accuracy: 0.9949\n",
      "Epoch 159/180\n",
      "3155/3155 [==============================] - 0s 94us/sample - loss: 0.2789 - wine_quality_loss: 0.2617 - wine_type_loss: 0.0166 - wine_quality_root_mean_squared_error: 0.5120 - wine_type_accuracy: 0.9962 - val_loss: 0.3353 - val_wine_quality_loss: 0.3104 - val_wine_type_loss: 0.0242 - val_wine_quality_root_mean_squared_error: 0.5575 - val_wine_type_accuracy: 0.9949\n",
      "Epoch 160/180\n",
      "3155/3155 [==============================] - 0s 97us/sample - loss: 0.2795 - wine_quality_loss: 0.2624 - wine_type_loss: 0.0166 - wine_quality_root_mean_squared_error: 0.5127 - wine_type_accuracy: 0.9965 - val_loss: 0.3292 - val_wine_quality_loss: 0.3044 - val_wine_type_loss: 0.0241 - val_wine_quality_root_mean_squared_error: 0.5520 - val_wine_type_accuracy: 0.9949\n",
      "Epoch 161/180\n",
      "3155/3155 [==============================] - 0s 96us/sample - loss: 0.2787 - wine_quality_loss: 0.2624 - wine_type_loss: 0.0166 - wine_quality_root_mean_squared_error: 0.5119 - wine_type_accuracy: 0.9965 - val_loss: 0.3309 - val_wine_quality_loss: 0.3060 - val_wine_type_loss: 0.0241 - val_wine_quality_root_mean_squared_error: 0.5536 - val_wine_type_accuracy: 0.9949\n",
      "Epoch 162/180\n",
      "3155/3155 [==============================] - 0s 95us/sample - loss: 0.2783 - wine_quality_loss: 0.2618 - wine_type_loss: 0.0165 - wine_quality_root_mean_squared_error: 0.5117 - wine_type_accuracy: 0.9962 - val_loss: 0.3321 - val_wine_quality_loss: 0.3073 - val_wine_type_loss: 0.0241 - val_wine_quality_root_mean_squared_error: 0.5546 - val_wine_type_accuracy: 0.9949\n",
      "Epoch 163/180\n",
      "3155/3155 [==============================] - 0s 95us/sample - loss: 0.2780 - wine_quality_loss: 0.2614 - wine_type_loss: 0.0164 - wine_quality_root_mean_squared_error: 0.5114 - wine_type_accuracy: 0.9965 - val_loss: 0.3354 - val_wine_quality_loss: 0.3104 - val_wine_type_loss: 0.0242 - val_wine_quality_root_mean_squared_error: 0.5576 - val_wine_type_accuracy: 0.9949\n",
      "Epoch 164/180\n",
      "3155/3155 [==============================] - 0s 98us/sample - loss: 0.2784 - wine_quality_loss: 0.2623 - wine_type_loss: 0.0168 - wine_quality_root_mean_squared_error: 0.5118 - wine_type_accuracy: 0.9962 - val_loss: 0.3317 - val_wine_quality_loss: 0.3068 - val_wine_type_loss: 0.0241 - val_wine_quality_root_mean_squared_error: 0.5543 - val_wine_type_accuracy: 0.9949\n",
      "Epoch 165/180\n",
      "3155/3155 [==============================] - 0s 94us/sample - loss: 0.2780 - wine_quality_loss: 0.2620 - wine_type_loss: 0.0163 - wine_quality_root_mean_squared_error: 0.5115 - wine_type_accuracy: 0.9965 - val_loss: 0.3334 - val_wine_quality_loss: 0.3085 - val_wine_type_loss: 0.0242 - val_wine_quality_root_mean_squared_error: 0.5558 - val_wine_type_accuracy: 0.9949\n",
      "Epoch 166/180\n",
      "3155/3155 [==============================] - 0s 93us/sample - loss: 0.2769 - wine_quality_loss: 0.2603 - wine_type_loss: 0.0163 - wine_quality_root_mean_squared_error: 0.5104 - wine_type_accuracy: 0.9965 - val_loss: 0.3285 - val_wine_quality_loss: 0.3035 - val_wine_type_loss: 0.0241 - val_wine_quality_root_mean_squared_error: 0.5514 - val_wine_type_accuracy: 0.9949\n",
      "Epoch 167/180\n",
      "3155/3155 [==============================] - 0s 97us/sample - loss: 0.2767 - wine_quality_loss: 0.2601 - wine_type_loss: 0.0162 - wine_quality_root_mean_squared_error: 0.5103 - wine_type_accuracy: 0.9965 - val_loss: 0.3338 - val_wine_quality_loss: 0.3089 - val_wine_type_loss: 0.0241 - val_wine_quality_root_mean_squared_error: 0.5563 - val_wine_type_accuracy: 0.9949\n",
      "Epoch 168/180\n",
      "3155/3155 [==============================] - 0s 97us/sample - loss: 0.2759 - wine_quality_loss: 0.2594 - wine_type_loss: 0.0162 - wine_quality_root_mean_squared_error: 0.5095 - wine_type_accuracy: 0.9965 - val_loss: 0.3356 - val_wine_quality_loss: 0.3108 - val_wine_type_loss: 0.0241 - val_wine_quality_root_mean_squared_error: 0.5579 - val_wine_type_accuracy: 0.9949\n",
      "Epoch 169/180\n",
      "3155/3155 [==============================] - 0s 96us/sample - loss: 0.2755 - wine_quality_loss: 0.2587 - wine_type_loss: 0.0161 - wine_quality_root_mean_squared_error: 0.5093 - wine_type_accuracy: 0.9965 - val_loss: 0.3315 - val_wine_quality_loss: 0.3067 - val_wine_type_loss: 0.0240 - val_wine_quality_root_mean_squared_error: 0.5542 - val_wine_type_accuracy: 0.9949\n",
      "Epoch 170/180\n",
      "3155/3155 [==============================] - 0s 94us/sample - loss: 0.2744 - wine_quality_loss: 0.2583 - wine_type_loss: 0.0161 - wine_quality_root_mean_squared_error: 0.5082 - wine_type_accuracy: 0.9965 - val_loss: 0.3351 - val_wine_quality_loss: 0.3103 - val_wine_type_loss: 0.0240 - val_wine_quality_root_mean_squared_error: 0.5574 - val_wine_type_accuracy: 0.9949\n",
      "Epoch 171/180\n",
      "3155/3155 [==============================] - 0s 95us/sample - loss: 0.2747 - wine_quality_loss: 0.2584 - wine_type_loss: 0.0160 - wine_quality_root_mean_squared_error: 0.5086 - wine_type_accuracy: 0.9965 - val_loss: 0.3331 - val_wine_quality_loss: 0.3082 - val_wine_type_loss: 0.0241 - val_wine_quality_root_mean_squared_error: 0.5556 - val_wine_type_accuracy: 0.9949\n",
      "Epoch 172/180\n",
      "3155/3155 [==============================] - 0s 94us/sample - loss: 0.2743 - wine_quality_loss: 0.2591 - wine_type_loss: 0.0160 - wine_quality_root_mean_squared_error: 0.5082 - wine_type_accuracy: 0.9965 - val_loss: 0.3309 - val_wine_quality_loss: 0.3061 - val_wine_type_loss: 0.0241 - val_wine_quality_root_mean_squared_error: 0.5537 - val_wine_type_accuracy: 0.9949\n",
      "Epoch 173/180\n",
      "3155/3155 [==============================] - 0s 94us/sample - loss: 0.2734 - wine_quality_loss: 0.2574 - wine_type_loss: 0.0159 - wine_quality_root_mean_squared_error: 0.5074 - wine_type_accuracy: 0.9965 - val_loss: 0.3280 - val_wine_quality_loss: 0.3034 - val_wine_type_loss: 0.0240 - val_wine_quality_root_mean_squared_error: 0.5511 - val_wine_type_accuracy: 0.9949\n",
      "Epoch 174/180\n",
      "3155/3155 [==============================] - 0s 96us/sample - loss: 0.2741 - wine_quality_loss: 0.2581 - wine_type_loss: 0.0158 - wine_quality_root_mean_squared_error: 0.5081 - wine_type_accuracy: 0.9965 - val_loss: 0.3338 - val_wine_quality_loss: 0.3090 - val_wine_type_loss: 0.0240 - val_wine_quality_root_mean_squared_error: 0.5563 - val_wine_type_accuracy: 0.9949\n",
      "Epoch 175/180\n",
      "3155/3155 [==============================] - 0s 93us/sample - loss: 0.2730 - wine_quality_loss: 0.2573 - wine_type_loss: 0.0158 - wine_quality_root_mean_squared_error: 0.5071 - wine_type_accuracy: 0.9965 - val_loss: 0.3276 - val_wine_quality_loss: 0.3031 - val_wine_type_loss: 0.0239 - val_wine_quality_root_mean_squared_error: 0.5508 - val_wine_type_accuracy: 0.9949\n",
      "Epoch 176/180\n",
      "3155/3155 [==============================] - 0s 96us/sample - loss: 0.2726 - wine_quality_loss: 0.2571 - wine_type_loss: 0.0157 - wine_quality_root_mean_squared_error: 0.5068 - wine_type_accuracy: 0.9965 - val_loss: 0.3315 - val_wine_quality_loss: 0.3067 - val_wine_type_loss: 0.0240 - val_wine_quality_root_mean_squared_error: 0.5543 - val_wine_type_accuracy: 0.9949\n",
      "Epoch 177/180\n",
      "3155/3155 [==============================] - 0s 94us/sample - loss: 0.2728 - wine_quality_loss: 0.2572 - wine_type_loss: 0.0157 - wine_quality_root_mean_squared_error: 0.5070 - wine_type_accuracy: 0.9965 - val_loss: 0.3324 - val_wine_quality_loss: 0.3076 - val_wine_type_loss: 0.0240 - val_wine_quality_root_mean_squared_error: 0.5550 - val_wine_type_accuracy: 0.9949\n",
      "Epoch 178/180\n",
      "3155/3155 [==============================] - 0s 97us/sample - loss: 0.2734 - wine_quality_loss: 0.2578 - wine_type_loss: 0.0156 - wine_quality_root_mean_squared_error: 0.5077 - wine_type_accuracy: 0.9965 - val_loss: 0.3303 - val_wine_quality_loss: 0.3057 - val_wine_type_loss: 0.0240 - val_wine_quality_root_mean_squared_error: 0.5532 - val_wine_type_accuracy: 0.9949\n",
      "Epoch 179/180\n",
      "3155/3155 [==============================] - 0s 95us/sample - loss: 0.2720 - wine_quality_loss: 0.2560 - wine_type_loss: 0.0156 - wine_quality_root_mean_squared_error: 0.5062 - wine_type_accuracy: 0.9965 - val_loss: 0.3423 - val_wine_quality_loss: 0.3172 - val_wine_type_loss: 0.0241 - val_wine_quality_root_mean_squared_error: 0.5638 - val_wine_type_accuracy: 0.9949\n",
      "Epoch 180/180\n",
      "3155/3155 [==============================] - 0s 92us/sample - loss: 0.2728 - wine_quality_loss: 0.2570 - wine_type_loss: 0.0155 - wine_quality_root_mean_squared_error: 0.5072 - wine_type_accuracy: 0.9965 - val_loss: 0.3336 - val_wine_quality_loss: 0.3087 - val_wine_type_loss: 0.0241 - val_wine_quality_root_mean_squared_error: 0.5560 - val_wine_type_accuracy: 0.9949\n"
     ]
    }
   ],
   "source": [
    "## Please uncomment all lines in this cell and replace those marked with `# YOUR CODE HERE`.\n",
    "## You can select all lines in this code cell with Ctrl+A (Windows/Linux) or Cmd+A (Mac), then press Ctrl+/ (Windows/Linux) or Cmd+/ (Mac) to uncomment.\n",
    "\n",
    "history = model.fit(norm_train_X, train_Y,\n",
    "                    epochs = 180, validation_data=(norm_val_X, val_Y))"
   ]
  },
  {
   "cell_type": "code",
   "execution_count": 51,
   "metadata": {
    "deletable": false,
    "editable": false,
    "nbgrader": {
     "cell_type": "code",
     "checksum": "fadad8896eda9c8c2115970724b15508",
     "grade": true,
     "grade_id": "cell-eb4d5b41bef8f0ab",
     "locked": true,
     "points": 1,
     "schema_version": 3,
     "solution": false,
     "task": false
    }
   },
   "outputs": [
    {
     "name": "stdout",
     "output_type": "stream",
     "text": [
      "\u001b[92m All public tests passed\n"
     ]
    }
   ],
   "source": [
    "utils.test_history(history)"
   ]
  },
  {
   "cell_type": "code",
   "execution_count": 52,
   "metadata": {
    "colab": {},
    "colab_type": "code",
    "id": "CubF2J2gSf6q"
   },
   "outputs": [
    {
     "name": "stdout",
     "output_type": "stream",
     "text": [
      "789/789 [==============================] - 0s 23us/sample - loss: 0.3336 - wine_quality_loss: 0.3087 - wine_type_loss: 0.0241 - wine_quality_root_mean_squared_error: 0.5560 - wine_type_accuracy: 0.9949\n",
      "\n",
      "loss: 0.3335663383526796\n",
      "wine_quality_loss: 0.30868977308273315\n",
      "wine_type_loss: 0.024098539724946022\n",
      "wine_quality_rmse: 0.5560153722763062\n",
      "wine_type_accuracy: 0.9949302673339844\n"
     ]
    }
   ],
   "source": [
    "# Gather the training metrics\n",
    "loss, wine_quality_loss, wine_type_loss, wine_quality_rmse, wine_type_accuracy = model.evaluate(x=norm_val_X, y=val_Y)\n",
    "\n",
    "print()\n",
    "print(f'loss: {loss}')\n",
    "print(f'wine_quality_loss: {wine_quality_loss}')\n",
    "print(f'wine_type_loss: {wine_type_loss}')\n",
    "print(f'wine_quality_rmse: {wine_quality_rmse}')\n",
    "print(f'wine_type_accuracy: {wine_type_accuracy}')\n",
    "\n",
    "# EXPECTED VALUES\n",
    "# ~ 0.30 - 0.38\n",
    "# ~ 0.30 - 0.38\n",
    "# ~ 0.018 - 0.030\n",
    "# ~ 0.50 - 0.62\n",
    "# ~ 0.97 - 1.0\n",
    "\n",
    "# Example:\n",
    "#0.3657050132751465\n",
    "#0.3463745415210724\n",
    "#0.019330406561493874\n",
    "#0.5885359048843384\n",
    "#0.9974651336669922"
   ]
  },
  {
   "cell_type": "markdown",
   "metadata": {
    "colab_type": "text",
    "id": "gPtTGAP4usnm"
   },
   "source": [
    "## Analyze the Model Performance\n",
    "\n",
    "Note that the model has two outputs. The output at index 0 is quality and index 1 is wine type\n",
    "\n",
    "So, round the quality predictions to the nearest integer."
   ]
  },
  {
   "cell_type": "code",
   "execution_count": 53,
   "metadata": {
    "colab": {},
    "colab_type": "code",
    "id": "tBq9PEeAaW-Y"
   },
   "outputs": [],
   "source": [
    "predictions = model.predict(norm_test_X)\n",
    "quality_pred = predictions[0]\n",
    "type_pred = predictions[1]"
   ]
  },
  {
   "cell_type": "code",
   "execution_count": 54,
   "metadata": {
    "colab": {},
    "colab_type": "code",
    "id": "YLhgTR4xTIxj"
   },
   "outputs": [
    {
     "name": "stdout",
     "output_type": "stream",
     "text": [
      "[5.528185]\n"
     ]
    }
   ],
   "source": [
    "print(quality_pred[0])\n",
    "\n",
    "# EXPECTED OUTPUT\n",
    "# 5.6 - 6.0"
   ]
  },
  {
   "cell_type": "code",
   "execution_count": 55,
   "metadata": {
    "colab": {},
    "colab_type": "code",
    "id": "MPi-eYfGTUXi"
   },
   "outputs": [
    {
     "name": "stdout",
     "output_type": "stream",
     "text": [
      "[0.0001109]\n",
      "[0.9999989]\n"
     ]
    }
   ],
   "source": [
    "print(type_pred[0])\n",
    "print(type_pred[944])\n",
    "\n",
    "# EXPECTED OUTPUT\n",
    "# A number close to zero\n",
    "# A number close to or equal to 1"
   ]
  },
  {
   "cell_type": "code",
   "execution_count": 78,
   "metadata": {},
   "outputs": [
    {
     "data": {
      "text/plain": [
       "pandas.core.frame.DataFrame"
      ]
     },
     "execution_count": 78,
     "metadata": {},
     "output_type": "execute_result"
    }
   ],
   "source": [
    "type(norm_test_X)"
   ]
  },
  {
   "cell_type": "code",
   "execution_count": 82,
   "metadata": {},
   "outputs": [
    {
     "name": "stdout",
     "output_type": "stream",
     "text": [
      "[array([[5.897143 ],\n",
      "       [5.519083 ],\n",
      "       [5.986637 ],\n",
      "       [6.4217215],\n",
      "       [6.0457616]], dtype=float32), array([[4.6467216e-04],\n",
      "       [1.0874885e-03],\n",
      "       [7.0386578e-04],\n",
      "       [2.8305950e-03],\n",
      "       [9.9999356e-01]], dtype=float32)]\n",
      "[6 5 7 6 6] \t [0 0 0 0 1]\n"
     ]
    }
   ],
   "source": [
    "import random\n",
    "# idx = random.randint(0, len(norm_test_X) - 1)\n",
    "# test_example = np.expand_dims(norm_test_X.iloc[idx].to_numpy(), axis=0)\n",
    "idx = random.sample(range(0, len(norm_test_X)), 5)\n",
    "test_example = norm_test_X.iloc[idx].to_numpy()\n",
    "\n",
    "print(model.predict(test_example))\n",
    "print('{} \\t {}'.format(test_Y[0][idx], test_Y[1][idx]))"
   ]
  },
  {
   "cell_type": "markdown",
   "metadata": {
    "colab_type": "text",
    "id": "Kohk-9C6vt_s"
   },
   "source": [
    "### Plot Utilities\n",
    "\n",
    "We define a few utilities to visualize the model performance."
   ]
  },
  {
   "cell_type": "code",
   "execution_count": 83,
   "metadata": {
    "colab": {},
    "colab_type": "code",
    "id": "62gEOFUhn6aQ"
   },
   "outputs": [],
   "source": [
    "def plot_metrics(metric_name, title, ylim=5):\n",
    "    plt.title(title)\n",
    "    plt.ylim(0,ylim)\n",
    "    plt.plot(history.history[metric_name],color='blue',label=metric_name)\n",
    "    plt.plot(history.history['val_' + metric_name],color='green',label='val_' + metric_name)\n"
   ]
  },
  {
   "cell_type": "code",
   "execution_count": 84,
   "metadata": {
    "colab": {},
    "colab_type": "code",
    "id": "6rfgSx7uz5dj"
   },
   "outputs": [],
   "source": [
    "def plot_confusion_matrix(y_true, y_pred, title='', labels=[0,1]):\n",
    "    cm = confusion_matrix(y_true, y_pred)\n",
    "    fig = plt.figure()\n",
    "    ax = fig.add_subplot(111)\n",
    "    cax = ax.matshow(cm)\n",
    "    plt.title('Confusion matrix of the classifier')\n",
    "    fig.colorbar(cax)\n",
    "    ax.set_xticklabels([''] + labels)\n",
    "    ax.set_yticklabels([''] + labels)\n",
    "    plt.xlabel('Predicted')\n",
    "    plt.ylabel('True')\n",
    "    fmt = 'd'\n",
    "    thresh = cm.max() / 2.\n",
    "    for i, j in itertools.product(range(cm.shape[0]), range(cm.shape[1])):\n",
    "          plt.text(j, i, format(cm[i, j], fmt),\n",
    "                  horizontalalignment=\"center\",\n",
    "                  color=\"black\" if cm[i, j] > thresh else \"white\")\n",
    "    plt.show()"
   ]
  },
  {
   "cell_type": "code",
   "execution_count": 85,
   "metadata": {
    "colab": {},
    "colab_type": "code",
    "id": "dfVLIqi017Vf"
   },
   "outputs": [],
   "source": [
    "def plot_diff(y_true, y_pred, title = '' ):\n",
    "    plt.scatter(y_true, y_pred)\n",
    "    plt.title(title)\n",
    "    plt.xlabel('True Values')\n",
    "    plt.ylabel('Predictions')\n",
    "    plt.axis('equal')\n",
    "    plt.axis('square')\n",
    "    plt.plot([-100, 100], [-100, 100])\n",
    "    return plt"
   ]
  },
  {
   "cell_type": "markdown",
   "metadata": {
    "colab_type": "text",
    "id": "8sd1jdFbwE0I"
   },
   "source": [
    "### Plots for Metrics"
   ]
  },
  {
   "cell_type": "code",
   "execution_count": 86,
   "metadata": {
    "colab": {},
    "colab_type": "code",
    "id": "f3MwZ5J1pOfj"
   },
   "outputs": [
    {
     "data": {
      "image/png": "[encoded data removed]",
      "text/plain": [
       "<Figure size 432x288 with 1 Axes>"
      ]
     },
     "metadata": {
      "needs_background": "light"
     },
     "output_type": "display_data"
    }
   ],
   "source": [
    "plot_metrics('wine_quality_root_mean_squared_error', 'RMSE', ylim=2)"
   ]
  },
  {
   "cell_type": "code",
   "execution_count": 87,
   "metadata": {
    "colab": {},
    "colab_type": "code",
    "id": "QIAxEezCppnd"
   },
   "outputs": [
    {
     "data": {
      "image/png": "[encoded data removed]",
      "text/plain": [
       "<Figure size 432x288 with 1 Axes>"
      ]
     },
     "metadata": {
      "needs_background": "light"
     },
     "output_type": "display_data"
    }
   ],
   "source": [
    "plot_metrics('wine_type_loss', 'Wine Type Loss', ylim=0.2)"
   ]
  },
  {
   "cell_type": "markdown",
   "metadata": {
    "colab_type": "text",
    "id": "uYV9AOAMwI9p"
   },
   "source": [
    "### Plots for Confusion Matrix\n",
    "\n",
    "Plot the confusion matrices for wine type. You can see that the model performs well for prediction of wine type from the confusion matrix and the loss metrics."
   ]
  },
  {
   "cell_type": "code",
   "execution_count": 88,
   "metadata": {
    "colab": {},
    "colab_type": "code",
    "id": "C3hvTYxIaf3n"
   },
   "outputs": [
    {
     "data": {
      "image/png": "[encoded data removed]",
      "text/plain": [
       "<Figure size 432x288 with 2 Axes>"
      ]
     },
     "metadata": {
      "needs_background": "light"
     },
     "output_type": "display_data"
    }
   ],
   "source": [
    "plot_confusion_matrix(test_Y[1], np.round(type_pred), title='Wine Type', labels = [0, 1])"
   ]
  },
  {
   "cell_type": "code",
   "execution_count": 89,
   "metadata": {
    "colab": {},
    "colab_type": "code",
    "id": "GW91ym8P2I5y"
   },
   "outputs": [
    {
     "data": {
      "image/png": "[encoded data removed]",
      "text/plain": [
       "<Figure size 432x288 with 1 Axes>"
      ]
     },
     "metadata": {
      "needs_background": "light"
     },
     "output_type": "display_data"
    }
   ],
   "source": [
    "scatter_plot = plot_diff(test_Y[0], quality_pred, title='Type')"
   ]
  },
  {
   "cell_type": "code",
   "execution_count": null,
   "metadata": {},
   "outputs": [],
   "source": []
  }
 ],
 "metadata": {
  "colab": {
   "include_colab_link": true,
   "name": "exercise-answer.ipynb",
   "provenance": []
  },
  "kernelspec": {
   "display_name": "Python 3",
   "language": "python",
   "name": "python3"
  },
  "language_info": {
   "codemirror_mode": {
    "name": "ipython",
    "version": 3
   },
   "file_extension": ".py",
   "mimetype": "text/x-python",
   "name": "python",
   "nbconvert_exporter": "python",
   "pygments_lexer": "ipython3",
   "version": "3.7.6"
  }
 },
 "nbformat": 4,
 "nbformat_minor": 4
}
